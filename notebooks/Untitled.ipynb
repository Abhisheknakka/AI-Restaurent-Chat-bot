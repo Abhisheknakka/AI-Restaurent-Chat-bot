{
 "cells": [
  {
   "cell_type": "code",
   "execution_count": 1,
   "id": "aa37aecb-11fb-4d32-bbb1-0271c8c477c8",
   "metadata": {},
   "outputs": [],
   "source": [
    "import json\n",
    "import pandas as pd"
   ]
  },
  {
   "cell_type": "code",
   "execution_count": 4,
   "id": "9443c86b-226a-48df-902d-fa48417b15bd",
   "metadata": {},
   "outputs": [],
   "source": [
    "# Read menu items from CSV\n",
    "base_folder = 'D:/Projects/AI-Restaurent-Chat-bot/'\n",
    "input_data_folder = base_folder + 'input_data/'\n",
    "menu_items_df = pd.read_csv(input_data_folder+ 'cakes_data.csv')"
   ]
  },
  {
   "cell_type": "code",
   "execution_count": 6,
   "id": "06663be2-fca5-4971-b822-e6d3cb66f90b",
   "metadata": {},
   "outputs": [],
   "source": [
    "with open(input_data_folder+'user_questions.json', 'r') as f:\n",
    "    questions = json.load(f)"
   ]
  },
  {
   "cell_type": "code",
   "execution_count": 7,
   "id": "f76f6170-251f-4c95-a690-e6684a5b9455",
   "metadata": {},
   "outputs": [
    {
     "data": {
      "text/plain": [
       "[{'section': 'ingredients',\n",
       "  'field': 'ingredients',\n",
       "  'question': 'What are the ingredients?',\n",
       "  'field_id': 1},\n",
       " {'section': 'calories',\n",
       "  'field': 'calories',\n",
       "  'question': 'How many calories does it have?',\n",
       "  'field_id': 2},\n",
       " {'section': 'nutritional',\n",
       "  'field': 'total fat (PDV)',\n",
       "  'question': 'How much total fat does it contain?',\n",
       "  'field_id': 3},\n",
       " {'section': 'nutritional',\n",
       "  'field': 'sugar (PDV)',\n",
       "  'question': 'What is the sugar content?',\n",
       "  'field_id': 4},\n",
       " {'section': 'nutritional',\n",
       "  'field': 'sodium (PDV)',\n",
       "  'question': 'How much sodium is in this dish?',\n",
       "  'field_id': 5},\n",
       " {'section': 'nutritional',\n",
       "  'field': 'protein (PDV)',\n",
       "  'question': 'What is the protein content?',\n",
       "  'field_id': 6},\n",
       " {'section': 'nutritional',\n",
       "  'field': 'saturated fat (PDV)',\n",
       "  'question': 'How much saturated fat is present?',\n",
       "  'field_id': 7},\n",
       " {'section': 'nutritional',\n",
       "  'field': 'carbohydrates (PDV)',\n",
       "  'question': 'What are the carbohydrate levels?',\n",
       "  'field_id': 8},\n",
       " {'section': 'preparation',\n",
       "  'field': 'minutes',\n",
       "  'question': 'How long does it take to prepare?',\n",
       "  'field_id': 9},\n",
       " {'section': 'steps',\n",
       "  'field': 'steps',\n",
       "  'question': 'What are the steps to prepare this dish?',\n",
       "  'field_id': 10},\n",
       " {'section': 'tags',\n",
       "  'field': 'tags',\n",
       "  'question': 'What tags are associated with this dish?',\n",
       "  'field_id': 11},\n",
       " {'section': 'rating',\n",
       "  'field': 'rating',\n",
       "  'question': 'What is the rating of this dish?',\n",
       "  'field_id': 12},\n",
       " {'section': 'review',\n",
       "  'field': 'review',\n",
       "  'question': 'Can you provide a review?',\n",
       "  'field_id': 13},\n",
       " {'section': 'category',\n",
       "  'field': 'rating_category',\n",
       "  'question': 'What category does this dish fall under?',\n",
       "  'field_id': 14},\n",
       " {'section': 'calorie_status',\n",
       "  'field': 'calorie_status',\n",
       "  'question': 'What is the calorie status of this dish?',\n",
       "  'field_id': 15},\n",
       " {'section': 'price',\n",
       "  'field': 'price',\n",
       "  'question': 'What is the price of this dish?',\n",
       "  'field_id': 16}]"
      ]
     },
     "execution_count": 7,
     "metadata": {},
     "output_type": "execute_result"
    }
   ],
   "source": [
    "questions"
   ]
  },
  {
   "cell_type": "code",
   "execution_count": null,
   "id": "5463bb51-4337-48b4-bc60-445b374c8e9f",
   "metadata": {},
   "outputs": [],
   "source": []
  }
 ],
 "metadata": {
  "kernelspec": {
   "display_name": "Python 3 (ipykernel)",
   "language": "python",
   "name": "python3"
  },
  "language_info": {
   "codemirror_mode": {
    "name": "ipython",
    "version": 3
   },
   "file_extension": ".py",
   "mimetype": "text/x-python",
   "name": "python",
   "nbconvert_exporter": "python",
   "pygments_lexer": "ipython3",
   "version": "3.12.4"
  }
 },
 "nbformat": 4,
 "nbformat_minor": 5
}
