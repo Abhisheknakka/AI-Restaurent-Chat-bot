{
 "cells": [
  {
   "cell_type": "code",
   "execution_count": 137,
   "metadata": {},
   "outputs": [],
   "source": [
    "# Import necessary libraries\n",
    "import json\n",
    "import pandas as pd\n",
    "import openai\n",
    "import elasticsearch\n",
    "from groq import Groq\n",
    "from dotenv import load_dotenv\n",
    "import os\n",
    "from sklearn.feature_extraction.text import CountVectorizer\n",
    "from tqdm.auto import tqdm"
   ]
  },
  {
   "cell_type": "code",
   "execution_count": 138,
   "metadata": {},
   "outputs": [
    {
     "data": {
      "text/plain": [
       "True"
      ]
     },
     "execution_count": 138,
     "metadata": {},
     "output_type": "execute_result"
    }
   ],
   "source": [
    "# Load environment variables\n",
    "load_dotenv()"
   ]
  },
  {
   "cell_type": "code",
   "execution_count": 139,
   "metadata": {},
   "outputs": [],
   "source": [
    "# Setup project paths\n",
    "base_folder = 'D:/Projects/AI-Restaurent-Chat-bot/'\n",
    "input_data_folder = base_folder + 'input_data/'\n"
   ]
  },
  {
   "cell_type": "code",
   "execution_count": 140,
   "metadata": {},
   "outputs": [
    {
     "data": {
      "text/plain": [
       "'d:\\\\Projects\\\\AI-Restaurent-Chat-bot\\\\notebooks'"
      ]
     },
     "execution_count": 140,
     "metadata": {},
     "output_type": "execute_result"
    }
   ],
   "source": [
    "# Get the current working directory (optional step)\n",
    "os.getcwd()"
   ]
  },
  {
   "cell_type": "code",
   "execution_count": 141,
   "metadata": {},
   "outputs": [
    {
     "data": {
      "text/plain": [
       "'openai'"
      ]
     },
     "execution_count": 141,
     "metadata": {},
     "output_type": "execute_result"
    }
   ],
   "source": [
    "# Setup the OpenAI client to use either Groq, OpenAI.com, or Ollama API\n",
    "load_dotenv(override=True)\n",
    "API_HOST = os.getenv(\"API_HOST\")\n",
    "API_HOST"
   ]
  },
  {
   "cell_type": "code",
   "execution_count": 142,
   "metadata": {},
   "outputs": [],
   "source": [
    "if API_HOST == \"groq\":\n",
    "    client = client = Groq(\n",
    "    api_key=os.environ.get(\"GROQ_API_KEY\"),\n",
    ")\n",
    "    MODEL_NAME = os.getenv(\"GROQ_MODEL\")\n",
    "\n",
    "elif API_HOST == \"ollama\":\n",
    "    client = openai.OpenAI(\n",
    "        base_url=os.getenv(\"OLLAMA_ENDPOINT\"),\n",
    "        api_key=\"nokeyneeded\",\n",
    "    )\n",
    "    MODEL_NAME = os.getenv(\"OLLAMA_MODEL\")\n",
    "\n",
    "elif API_HOST == \"github\":\n",
    "    client = openai.OpenAI(base_url=\"https://models.inference.ai.azure.com\", api_key=os.getenv(\"GITHUB_TOKEN\"))\n",
    "    MODEL_NAME = os.getenv(\"GITHUB_MODEL\")\n",
    "\n",
    "else:\n",
    "    client = openai.OpenAI(api_key=os.getenv(\"OPENAI_API_KEY\"))\n",
    "    MODEL_NAME = os.getenv(\"OPENAI_MODEL\")"
   ]
  },
  {
   "cell_type": "code",
   "execution_count": 143,
   "metadata": {},
   "outputs": [
    {
     "data": {
      "text/plain": [
       "<openai.OpenAI at 0x2146fb25a30>"
      ]
     },
     "execution_count": 143,
     "metadata": {},
     "output_type": "execute_result"
    }
   ],
   "source": [
    "client"
   ]
  },
  {
   "cell_type": "code",
   "execution_count": 20,
   "metadata": {},
   "outputs": [
    {
     "data": {
      "text/plain": [
       "'llama3-8b-8192'"
      ]
     },
     "execution_count": 20,
     "metadata": {},
     "output_type": "execute_result"
    }
   ],
   "source": [
    "MODEL_NAME"
   ]
  },
  {
   "cell_type": "code",
   "execution_count": 21,
   "metadata": {},
   "outputs": [],
   "source": [
    "with open(input_data_folder + 'food_user_qa_dataset.json', 'rt') as f_in:\n",
    "    data = json.load(f_in)"
   ]
  },
  {
   "cell_type": "code",
   "execution_count": 22,
   "metadata": {},
   "outputs": [],
   "source": [
    "documents = []\n",
    "for dish in data['dishes']:\n",
    "    dish_name = dish['dish name']\n",
    "    for doc in dish['documents']:\n",
    "        doc['dish_name'] = dish_name  # Add dish_name to each document\n",
    "        documents.append(doc)"
   ]
  },
  {
   "cell_type": "code",
   "execution_count": 23,
   "metadata": {},
   "outputs": [
    {
     "data": {
      "text/plain": [
       "[{'id': '142_2',\n",
       "  'question': 'How many calories does it have?',\n",
       "  'section': 'calories',\n",
       "  'text': 'The almond fudge banana cake has 224.8 calories.',\n",
       "  'dish_name': 'almond fudge banana cake'},\n",
       " {'id': '142_3',\n",
       "  'question': 'How much total fat does it contain?',\n",
       "  'section': 'nutritional',\n",
       "  'text': 'The almond fudge banana cake has 14 grams of total fat (PDV).',\n",
       "  'dish_name': 'almond fudge banana cake'}]"
      ]
     },
     "execution_count": 23,
     "metadata": {},
     "output_type": "execute_result"
    }
   ],
   "source": [
    "documents[1:3]"
   ]
  },
  {
   "cell_type": "markdown",
   "metadata": {},
   "source": [
    "Retreival evaluation"
   ]
  },
  {
   "cell_type": "code",
   "execution_count": 24,
   "metadata": {},
   "outputs": [
    {
     "data": {
      "text/plain": [
       "<minsearch.Index at 0x2146fd03e90>"
      ]
     },
     "execution_count": 24,
     "metadata": {},
     "output_type": "execute_result"
    }
   ],
   "source": [
    "import minsearch\n",
    "\n",
    "index = minsearch.Index(\n",
    "    text_fields = ['id', 'question','section','text','dish_name'],\n",
    "    keyword_fields=['dish_name']\n",
    ")\n",
    "\n",
    "index.fit(documents)"
   ]
  },
  {
   "cell_type": "code",
   "execution_count": 25,
   "metadata": {},
   "outputs": [],
   "source": [
    "#import ground truth dataset\n",
    "import pandas as pd\n",
    "ground_df = pd.read_csv('ground-truth-data.csv')"
   ]
  },
  {
   "cell_type": "code",
   "execution_count": 26,
   "metadata": {},
   "outputs": [],
   "source": [
    "ground_truth = ground_df.to_dict(orient='records')"
   ]
  },
  {
   "cell_type": "code",
   "execution_count": 27,
   "metadata": {},
   "outputs": [
    {
     "data": {
      "text/plain": [
       "{'id': '142_2',\n",
       " 'question': 'How many calories does it have?',\n",
       " 'section': 'calories',\n",
       " 'text': 'The almond fudge banana cake has 224.8 calories.',\n",
       " 'dish_name': 'almond fudge banana cake'}"
      ]
     },
     "execution_count": 27,
     "metadata": {},
     "output_type": "execute_result"
    }
   ],
   "source": [
    "documents[1]"
   ]
  },
  {
   "cell_type": "code",
   "execution_count": 28,
   "metadata": {},
   "outputs": [],
   "source": [
    "def hit_rate(relevance_total):\n",
    "    cnt = 0\n",
    "\n",
    "    for line in relevance_total:\n",
    "        if True in line:\n",
    "            cnt = cnt + 1\n",
    "\n",
    "    return cnt / len(relevance_total)\n"
   ]
  },
  {
   "cell_type": "code",
   "execution_count": 29,
   "metadata": {},
   "outputs": [],
   "source": [
    "def mrr(relevance_total):\n",
    "    total_score = 0.0\n",
    "\n",
    "    for line in relevance_total:\n",
    "        for rank in range(len(line)):\n",
    "            if line[rank] == True:\n",
    "                total_score = total_score + 1 / (rank + 1)\n",
    "\n",
    "    return total_score / len(relevance_total)"
   ]
  },
  {
   "cell_type": "code",
   "execution_count": 30,
   "metadata": {},
   "outputs": [],
   "source": [
    "def minsearch_search(query):\n",
    "    boost = {}\n",
    "\n",
    "    results = index.search(\n",
    "        query=query,\n",
    "        filter_dict={'question': query},\n",
    "        boost_dict=boost,\n",
    "        num_results=5\n",
    "    )\n",
    "\n",
    "    return results"
   ]
  },
  {
   "cell_type": "code",
   "execution_count": 31,
   "metadata": {},
   "outputs": [
    {
     "data": {
      "text/html": [
       "<div>\n",
       "<style scoped>\n",
       "    .dataframe tbody tr th:only-of-type {\n",
       "        vertical-align: middle;\n",
       "    }\n",
       "\n",
       "    .dataframe tbody tr th {\n",
       "        vertical-align: top;\n",
       "    }\n",
       "\n",
       "    .dataframe thead th {\n",
       "        text-align: right;\n",
       "    }\n",
       "</style>\n",
       "<table border=\"1\" class=\"dataframe\">\n",
       "  <thead>\n",
       "    <tr style=\"text-align: right;\">\n",
       "      <th></th>\n",
       "      <th>question</th>\n",
       "      <th>id</th>\n",
       "    </tr>\n",
       "  </thead>\n",
       "  <tbody>\n",
       "    <tr>\n",
       "      <th>0</th>\n",
       "      <td>Is almond fudge banana cake made with real ban...</td>\n",
       "      <td>142_1</td>\n",
       "    </tr>\n",
       "    <tr>\n",
       "      <th>1</th>\n",
       "      <td>Does almond fudge banana cake contain dairy?</td>\n",
       "      <td>142_1</td>\n",
       "    </tr>\n",
       "    <tr>\n",
       "      <th>2</th>\n",
       "      <td>Can I be sure there are no artificial flavors ...</td>\n",
       "      <td>142_1</td>\n",
       "    </tr>\n",
       "    <tr>\n",
       "      <th>3</th>\n",
       "      <td>Are the ingredients in almond fudge banana cak...</td>\n",
       "      <td>142_1</td>\n",
       "    </tr>\n",
       "    <tr>\n",
       "      <th>4</th>\n",
       "      <td>May I know the types of flour and sugar used i...</td>\n",
       "      <td>142_1</td>\n",
       "    </tr>\n",
       "  </tbody>\n",
       "</table>\n",
       "</div>"
      ],
      "text/plain": [
       "                                            question     id\n",
       "0  Is almond fudge banana cake made with real ban...  142_1\n",
       "1       Does almond fudge banana cake contain dairy?  142_1\n",
       "2  Can I be sure there are no artificial flavors ...  142_1\n",
       "3  Are the ingredients in almond fudge banana cak...  142_1\n",
       "4  May I know the types of flour and sugar used i...  142_1"
      ]
     },
     "execution_count": 31,
     "metadata": {},
     "output_type": "execute_result"
    }
   ],
   "source": [
    "ground_df.head()"
   ]
  },
  {
   "cell_type": "code",
   "execution_count": 32,
   "metadata": {},
   "outputs": [],
   "source": [
    "def evaluate(ground_truth, search_function):\n",
    "    relevance_total = []\n",
    "\n",
    "    for q in tqdm(ground_truth):\n",
    "        doc_id = q['id']\n",
    "        results = search_function(q)\n",
    "        relevance = [d['id'] == doc_id for d in results]\n",
    "        relevance_total.append(relevance)\n",
    "\n",
    "    return {\n",
    "        'hit_rate': hit_rate(relevance_total),\n",
    "        'mrr': mrr(relevance_total),\n",
    "    }"
   ]
  },
  {
   "cell_type": "code",
   "execution_count": 33,
   "metadata": {},
   "outputs": [],
   "source": [
    "from tqdm.auto import tqdm "
   ]
  },
  {
   "cell_type": "code",
   "execution_count": 34,
   "metadata": {},
   "outputs": [
    {
     "data": {
      "application/vnd.jupyter.widget-view+json": {
       "model_id": "fc402c30ec25462f9f7c8dd694d2ab98",
       "version_major": 2,
       "version_minor": 0
      },
      "text/plain": [
       "  0%|          | 0/16527 [00:00<?, ?it/s]"
      ]
     },
     "metadata": {},
     "output_type": "display_data"
    },
    {
     "data": {
      "text/plain": [
       "{'hit_rate': 0.4593695165486779, 'mrr': 0.33671466892559154}"
      ]
     },
     "execution_count": 34,
     "metadata": {},
     "output_type": "execute_result"
    }
   ],
   "source": [
    "evaluate(ground_truth, lambda q: minsearch_search(q['question']))"
   ]
  },
  {
   "cell_type": "code",
   "execution_count": 35,
   "metadata": {},
   "outputs": [
    {
     "data": {
      "application/vnd.jupyter.widget-view+json": {
       "model_id": "6ab5e963bc0242f8b1540a3f1c68c8fc",
       "version_major": 2,
       "version_minor": 0
      },
      "text/plain": [
       "  0%|          | 0/16527 [00:00<?, ?it/s]"
      ]
     },
     "metadata": {},
     "output_type": "display_data"
    },
    {
     "name": "stdout",
     "output_type": "stream",
     "text": [
      "  Ground Truth ID  \\\n",
      "0           142_1   \n",
      "1           142_1   \n",
      "2           142_1   \n",
      "3           142_1   \n",
      "4           142_1   \n",
      "\n",
      "                                                        Ground Truth Question  \\\n",
      "0                         Is almond fudge banana cake made with real bananas?   \n",
      "1                                Does almond fudge banana cake contain dairy?   \n",
      "2  Can I be sure there are no artificial flavors in almond fudge banana cake?   \n",
      "3         Are the ingredients in almond fudge banana cake free from liqueurs?   \n",
      "4   May I know the types of flour and sugar used in almond fudge banana cake?   \n",
      "\n",
      "  Matched Document ID                          Matched Question  \n",
      "0              142_11  What tags are associated with this dish?  \n",
      "1               142_3       How much total fat does it contain?  \n",
      "2               142_5          How much sodium is in this dish?  \n",
      "3               142_1                 What are the ingredients?  \n",
      "4               142_4                What is the sugar content?  \n"
     ]
    }
   ],
   "source": [
    "import pandas as pd\n",
    "\n",
    "def visualize_search_results(ground_truth, search_function):\n",
    "    # Create an empty list to store the results\n",
    "    search_results = []\n",
    "\n",
    "    # Iterate over each query in the ground truth dataset\n",
    "    for q in tqdm(ground_truth):\n",
    "        doc_id = q['id']\n",
    "        ground_truth_question = q['question']\n",
    "        \n",
    "        # Perform the search using the provided function\n",
    "        results = search_function(q['question'])\n",
    "        \n",
    "        # Collect the top result from the search\n",
    "        if results:\n",
    "            matched_question = results[0]['question']\n",
    "            matched_doc_id = results[0]['id']\n",
    "        else:\n",
    "            matched_question = None\n",
    "            matched_doc_id = None\n",
    "\n",
    "        # Append the comparison of the ground truth with the top matched result\n",
    "        search_results.append({\n",
    "            'Ground Truth ID': doc_id,\n",
    "            'Ground Truth Question': ground_truth_question,\n",
    "            'Matched Document ID': matched_doc_id,\n",
    "            'Matched Question': matched_question\n",
    "        })\n",
    "\n",
    "    # Convert the results into a Pandas DataFrame for visualization\n",
    "    results_df = pd.DataFrame(search_results)\n",
    "    \n",
    "    # Display the DataFrame\n",
    "    pd.set_option('display.max_colwidth', None)\n",
    "    return results_df\n",
    "\n",
    "# Visualize the search results\n",
    "results_df = visualize_search_results(ground_truth, lambda q: minsearch_search(q))\n",
    "print(results_df.head())\n",
    "\n",
    "# Optionally, you can also save this as an Excel or CSV file for further inspection\n",
    "results_df.to_csv('search_results_comparison.csv', index=False)\n"
   ]
  },
  {
   "cell_type": "code",
   "execution_count": 36,
   "metadata": {},
   "outputs": [
    {
     "data": {
      "text/html": [
       "<div>\n",
       "<style scoped>\n",
       "    .dataframe tbody tr th:only-of-type {\n",
       "        vertical-align: middle;\n",
       "    }\n",
       "\n",
       "    .dataframe tbody tr th {\n",
       "        vertical-align: top;\n",
       "    }\n",
       "\n",
       "    .dataframe thead th {\n",
       "        text-align: right;\n",
       "    }\n",
       "</style>\n",
       "<table border=\"1\" class=\"dataframe\">\n",
       "  <thead>\n",
       "    <tr style=\"text-align: right;\">\n",
       "      <th></th>\n",
       "      <th>question</th>\n",
       "      <th>id</th>\n",
       "    </tr>\n",
       "  </thead>\n",
       "  <tbody>\n",
       "    <tr>\n",
       "      <th>0</th>\n",
       "      <td>Is almond fudge banana cake made with real bananas?</td>\n",
       "      <td>142_1</td>\n",
       "    </tr>\n",
       "    <tr>\n",
       "      <th>1</th>\n",
       "      <td>Does almond fudge banana cake contain dairy?</td>\n",
       "      <td>142_1</td>\n",
       "    </tr>\n",
       "    <tr>\n",
       "      <th>2</th>\n",
       "      <td>Can I be sure there are no artificial flavors in almond fudge banana cake?</td>\n",
       "      <td>142_1</td>\n",
       "    </tr>\n",
       "    <tr>\n",
       "      <th>3</th>\n",
       "      <td>Are the ingredients in almond fudge banana cake free from liqueurs?</td>\n",
       "      <td>142_1</td>\n",
       "    </tr>\n",
       "    <tr>\n",
       "      <th>4</th>\n",
       "      <td>May I know the types of flour and sugar used in almond fudge banana cake?</td>\n",
       "      <td>142_1</td>\n",
       "    </tr>\n",
       "    <tr>\n",
       "      <th>5</th>\n",
       "      <td>How many calories does the Almond Fudge Banana Cake have?</td>\n",
       "      <td>142_2</td>\n",
       "    </tr>\n",
       "    <tr>\n",
       "      <th>6</th>\n",
       "      <td>Can I get nutrition facts for the Almond Fudge Banana Cake?</td>\n",
       "      <td>142_2</td>\n",
       "    </tr>\n",
       "    <tr>\n",
       "      <th>7</th>\n",
       "      <td>What's the calorie count for the Almond Fudge Banana Cake?</td>\n",
       "      <td>142_2</td>\n",
       "    </tr>\n",
       "    <tr>\n",
       "      <th>8</th>\n",
       "      <td>How many calories is the Almond Fudge Banana Cake?</td>\n",
       "      <td>142_2</td>\n",
       "    </tr>\n",
       "    <tr>\n",
       "      <th>9</th>\n",
       "      <td>What's the calorie content of the Almond Fudge Banana Cake?</td>\n",
       "      <td>142_2</td>\n",
       "    </tr>\n",
       "    <tr>\n",
       "      <th>10</th>\n",
       "      <td>How much fat does the Almond Fudge Banana Cake have?</td>\n",
       "      <td>142_3</td>\n",
       "    </tr>\n",
       "    <tr>\n",
       "      <th>11</th>\n",
       "      <td>What is the total fat content of the Almond Fudge Banana Cake?</td>\n",
       "      <td>142_3</td>\n",
       "    </tr>\n",
       "    <tr>\n",
       "      <th>12</th>\n",
       "      <td>Is the Almond Fudge Banana Cake high in fat?</td>\n",
       "      <td>142_3</td>\n",
       "    </tr>\n",
       "    <tr>\n",
       "      <th>13</th>\n",
       "      <td>Can I get the calorie breakdown of the Almond Fudge Banana Cake?</td>\n",
       "      <td>142_3</td>\n",
       "    </tr>\n",
       "    <tr>\n",
       "      <th>14</th>\n",
       "      <td>How many grams of fat are in the Almond Fudge Banana Cake?</td>\n",
       "      <td>142_3</td>\n",
       "    </tr>\n",
       "    <tr>\n",
       "      <th>15</th>\n",
       "      <td>How much sweetness comes from the almond fudge banana cake?</td>\n",
       "      <td>142_4</td>\n",
       "    </tr>\n",
       "    <tr>\n",
       "      <th>16</th>\n",
       "      <td>What's the amount of sugar in the almond fudge banana cake?</td>\n",
       "      <td>142_4</td>\n",
       "    </tr>\n",
       "    <tr>\n",
       "      <th>17</th>\n",
       "      <td>Is the almond fudge banana cake high in sugar?</td>\n",
       "      <td>142_4</td>\n",
       "    </tr>\n",
       "    <tr>\n",
       "      <th>18</th>\n",
       "      <td>Can I know the sugar level of the almond fudge banana cake?</td>\n",
       "      <td>142_4</td>\n",
       "    </tr>\n",
       "    <tr>\n",
       "      <th>19</th>\n",
       "      <td>How much sugar is there in a standard serving of almond fudge banana cake?</td>\n",
       "      <td>142_4</td>\n",
       "    </tr>\n",
       "  </tbody>\n",
       "</table>\n",
       "</div>"
      ],
      "text/plain": [
       "                                                                      question  \\\n",
       "0                          Is almond fudge banana cake made with real bananas?   \n",
       "1                                 Does almond fudge banana cake contain dairy?   \n",
       "2   Can I be sure there are no artificial flavors in almond fudge banana cake?   \n",
       "3          Are the ingredients in almond fudge banana cake free from liqueurs?   \n",
       "4    May I know the types of flour and sugar used in almond fudge banana cake?   \n",
       "5                    How many calories does the Almond Fudge Banana Cake have?   \n",
       "6                  Can I get nutrition facts for the Almond Fudge Banana Cake?   \n",
       "7                   What's the calorie count for the Almond Fudge Banana Cake?   \n",
       "8                           How many calories is the Almond Fudge Banana Cake?   \n",
       "9                  What's the calorie content of the Almond Fudge Banana Cake?   \n",
       "10                        How much fat does the Almond Fudge Banana Cake have?   \n",
       "11              What is the total fat content of the Almond Fudge Banana Cake?   \n",
       "12                                Is the Almond Fudge Banana Cake high in fat?   \n",
       "13            Can I get the calorie breakdown of the Almond Fudge Banana Cake?   \n",
       "14                  How many grams of fat are in the Almond Fudge Banana Cake?   \n",
       "15                 How much sweetness comes from the almond fudge banana cake?   \n",
       "16                 What's the amount of sugar in the almond fudge banana cake?   \n",
       "17                              Is the almond fudge banana cake high in sugar?   \n",
       "18                 Can I know the sugar level of the almond fudge banana cake?   \n",
       "19  How much sugar is there in a standard serving of almond fudge banana cake?   \n",
       "\n",
       "       id  \n",
       "0   142_1  \n",
       "1   142_1  \n",
       "2   142_1  \n",
       "3   142_1  \n",
       "4   142_1  \n",
       "5   142_2  \n",
       "6   142_2  \n",
       "7   142_2  \n",
       "8   142_2  \n",
       "9   142_2  \n",
       "10  142_3  \n",
       "11  142_3  \n",
       "12  142_3  \n",
       "13  142_3  \n",
       "14  142_3  \n",
       "15  142_4  \n",
       "16  142_4  \n",
       "17  142_4  \n",
       "18  142_4  \n",
       "19  142_4  "
      ]
     },
     "execution_count": 36,
     "metadata": {},
     "output_type": "execute_result"
    }
   ],
   "source": [
    "ground_df.head(20)"
   ]
  },
  {
   "cell_type": "code",
   "execution_count": 37,
   "metadata": {},
   "outputs": [
    {
     "data": {
      "text/plain": [
       "[{'id': '142_2',\n",
       "  'question': 'How many calories does it have?',\n",
       "  'section': 'calories',\n",
       "  'text': 'The almond fudge banana cake has 224.8 calories.',\n",
       "  'dish_name': 'almond fudge banana cake'},\n",
       " {'id': '142_3',\n",
       "  'question': 'How much total fat does it contain?',\n",
       "  'section': 'nutritional',\n",
       "  'text': 'The almond fudge banana cake has 14 grams of total fat (PDV).',\n",
       "  'dish_name': 'almond fudge banana cake'},\n",
       " {'id': '142_4',\n",
       "  'question': 'What is the sugar content?',\n",
       "  'section': 'nutritional',\n",
       "  'text': 'The almond fudge banana cake has 87 grams of sugar (PDV).',\n",
       "  'dish_name': 'almond fudge banana cake'},\n",
       " {'id': '142_5',\n",
       "  'question': 'How much sodium is in this dish?',\n",
       "  'section': 'nutritional',\n",
       "  'text': 'The almond fudge banana cake has 10 grams of sodium (PDV).',\n",
       "  'dish_name': 'almond fudge banana cake'},\n",
       " {'id': '142_6',\n",
       "  'question': 'What is the protein content?',\n",
       "  'section': 'nutritional',\n",
       "  'text': 'The almond fudge banana cake has 7 grams of protein (PDV).',\n",
       "  'dish_name': 'almond fudge banana cake'},\n",
       " {'id': '142_7',\n",
       "  'question': 'How much saturated fat is present?',\n",
       "  'section': 'nutritional',\n",
       "  'text': 'The almond fudge banana cake has 9 grams of saturated fat (PDV).',\n",
       "  'dish_name': 'almond fudge banana cake'},\n",
       " {'id': '142_8',\n",
       "  'question': 'What are the carbohydrate levels?',\n",
       "  'section': 'nutritional',\n",
       "  'text': 'The almond fudge banana cake has 11 grams of carbohydrates (PDV).',\n",
       "  'dish_name': 'almond fudge banana cake'},\n",
       " {'id': '142_9',\n",
       "  'question': 'How long does it take to prepare?',\n",
       "  'section': 'preparation',\n",
       "  'text': 'The almond fudge banana cake takes 110 minutes to prepare.',\n",
       "  'dish_name': 'almond fudge banana cake'},\n",
       " {'id': '142_10',\n",
       "  'question': 'What are the steps to prepare this dish?',\n",
       "  'section': 'steps',\n",
       "  'text': \"The almond fudge banana cake contains ['mash bananas and set aside', 'beat sugar and margarine until light and fluffy', 'beat in eggs , liqueur and vanilla', 'combine dry ingredients', 'stir in almonds', 'add to sugar mixture alternately with bananas', 'beat well', 'pour batter into greased 10-inch bundt pan', 'bake in preheated 350f oven 45 to 50 minutes or until toothpick inserted in center comes out almost clean and cake pulls away from side of pan', 'cool 10 minutes', 'remove cake from pan to wire rack to cool completely', 'drizzle glaze over top and down side of cake', 'make 16-20 servings']\",\n",
       "  'dish_name': 'almond fudge banana cake'},\n",
       " {'id': '142_11',\n",
       "  'question': 'What tags are associated with this dish?',\n",
       "  'section': 'tags',\n",
       "  'text': \"The almond fudge banana cake contains ['weeknight', 'time-to-make', 'course', 'preparation', 'for-large-groups', 'desserts', 'oven', 'cakes', 'dietary', 'equipment', 'number-of-servings', '4-hours-or-less']\",\n",
       "  'dish_name': 'almond fudge banana cake'},\n",
       " {'id': '142_12',\n",
       "  'question': 'What is the rating of this dish?',\n",
       "  'section': 'rating',\n",
       "  'text': 'The almond fudge banana cake has a rating of 4.',\n",
       "  'dish_name': 'almond fudge banana cake'},\n",
       " {'id': '142_13',\n",
       "  'question': 'Can you provide a review?',\n",
       "  'section': 'review',\n",
       "  'text': 'Review for almond fudge banana cake: Came out great for a chocolate Easter cake. I made an almond cream cheese frosting instead of a chocolate glaze to make it more Spring-like. Very moist and the banana is definately the strongest flavor coming from the cake. Will definately make again.',\n",
       "  'dish_name': 'almond fudge banana cake'},\n",
       " {'id': '142_14',\n",
       "  'question': 'What category does this dish fall under?',\n",
       "  'section': 'category',\n",
       "  'text': 'The category of almond fudge banana cake is tasty.',\n",
       "  'dish_name': 'almond fudge banana cake'},\n",
       " {'id': '142_15',\n",
       "  'question': 'What is the calorie status of this dish?',\n",
       "  'section': 'calorie_status',\n",
       "  'text': 'The calorie status of almond fudge banana cake is Low Calory.',\n",
       "  'dish_name': 'almond fudge banana cake'},\n",
       " {'id': '142_16',\n",
       "  'question': 'What is the price of this dish?',\n",
       "  'section': 'price',\n",
       "  'text': 'The price of almond fudge banana cake is $24.',\n",
       "  'dish_name': 'almond fudge banana cake'},\n",
       " {'id': '520_1',\n",
       "  'question': 'What are the ingredients?',\n",
       "  'section': 'ingredients',\n",
       "  'text': \"The apple pie cake contains the following ingredients: ['sugar', 'egg', 'salt', 'butter', 'flour', 'baking powder', 'cinnamon', 'nutmeg', 'vanilla', 'baking apples', 'pecans', 'golden raisin']\",\n",
       "  'dish_name': 'apple pie cake'},\n",
       " {'id': '520_2',\n",
       "  'question': 'How many calories does it have?',\n",
       "  'section': 'calories',\n",
       "  'text': 'The apple pie cake has 359.1 calories.',\n",
       "  'dish_name': 'apple pie cake'},\n",
       " {'id': '520_3',\n",
       "  'question': 'How much total fat does it contain?',\n",
       "  'section': 'nutritional',\n",
       "  'text': 'The apple pie cake has 26 grams of total fat (PDV).',\n",
       "  'dish_name': 'apple pie cake'},\n",
       " {'id': '520_4',\n",
       "  'question': 'What is the sugar content?',\n",
       "  'section': 'nutritional',\n",
       "  'text': 'The apple pie cake has 136 grams of sugar (PDV).',\n",
       "  'dish_name': 'apple pie cake'}]"
      ]
     },
     "execution_count": 37,
     "metadata": {},
     "output_type": "execute_result"
    }
   ],
   "source": [
    "documents[1:20]"
   ]
  },
  {
   "cell_type": "markdown",
   "metadata": {},
   "source": [
    "## The RAG flow\n"
   ]
  },
  {
   "cell_type": "code",
   "execution_count": 38,
   "metadata": {},
   "outputs": [],
   "source": [
    "def build_prompt(query, search_results):\n",
    "    prompt_template = \"\"\"\n",
    "You're an AI assistant helping with menu queries. Answer the QUESTION based on the CONTEXT provided.\n",
    "\n",
    "QUESTION: {question}\n",
    "\n",
    "CONTEXT: \n",
    "{context}\n",
    "\"\"\".strip()\n",
    "\n",
    "    context = \"\"\n",
    "    \n",
    "    for doc in search_results:\n",
    "        context += f\"Section: {doc['section']}\\nQuestion: {doc['question']}\\nAnswer: {doc['text']}\\n\\n\"\n",
    "    \n",
    "    prompt = prompt_template.format(question=query, context=context).strip()\n",
    "    return prompt\n"
   ]
  },
  {
   "cell_type": "code",
   "execution_count": 44,
   "metadata": {},
   "outputs": [
    {
     "data": {
      "text/plain": [
       "<groq.Groq at 0x2146fa31250>"
      ]
     },
     "execution_count": 44,
     "metadata": {},
     "output_type": "execute_result"
    }
   ],
   "source": [
    "client"
   ]
  },
  {
   "cell_type": "code",
   "execution_count": 45,
   "metadata": {},
   "outputs": [],
   "source": [
    "\n",
    "def llm(prompt):\n",
    "    response = client.chat.completions.create(\n",
    "        model= MODEL_NAME,\n",
    "        messages=[{\"role\": \"user\", \"content\": prompt}]\n",
    "    )\n",
    "    \n",
    "    return response.choices[0].message.content"
   ]
  },
  {
   "cell_type": "code",
   "execution_count": 46,
   "metadata": {},
   "outputs": [],
   "source": [
    "import minsearch\n",
    "\n",
    "index = minsearch.Index(\n",
    "    text_fields = ['id', 'question','section','text','dish_name'],\n",
    "    keyword_fields=['dish_name']\n",
    "    #keyword_fields=['id']\n",
    "\n",
    ")\n"
   ]
  },
  {
   "cell_type": "code",
   "execution_count": 47,
   "metadata": {},
   "outputs": [
    {
     "data": {
      "text/plain": [
       "<minsearch.Index at 0x214712a63f0>"
      ]
     },
     "execution_count": 47,
     "metadata": {},
     "output_type": "execute_result"
    }
   ],
   "source": [
    "index.fit(documents)"
   ]
  },
  {
   "cell_type": "code",
   "execution_count": 48,
   "metadata": {},
   "outputs": [],
   "source": [
    "def minsearch(question):\n",
    "    return index.search(question)"
   ]
  },
  {
   "cell_type": "code",
   "execution_count": 49,
   "metadata": {},
   "outputs": [],
   "source": [
    "def rag(query):\n",
    "    search_results = minsearch(query)\n",
    "    prompt=build_prompt(query,search_results)\n",
    "    answer = llm(prompt)\n",
    "    return answer\n"
   ]
  },
  {
   "cell_type": "code",
   "execution_count": 53,
   "metadata": {},
   "outputs": [
    {
     "data": {
      "text/plain": [
       "\"According to the provided context, the ingredients in the White Chocolate Cake are:\\n\\n\\n['white chocolate', 'butter', 'sugar', 'egg yolks', 'vanilla', 'cake flour', 'baking powder', 'salt', 'buttermilk', 'pecans', 'flaked coconut', 'egg whites', 'flour', 'milk']\""
      ]
     },
     "execution_count": 53,
     "metadata": {},
     "output_type": "execute_result"
    }
   ],
   "source": [
    "query = \"what are the calories of white chocolate cake is it good?\"\n",
    "query = \"what are the ingredients in white chocolate cake?\"\n",
    "\n",
    "rag(query)"
   ]
  },
  {
   "cell_type": "code",
   "execution_count": 68,
   "metadata": {},
   "outputs": [
    {
     "data": {
      "text/plain": [
       "'Can I be sure there are no artificial flavors in almond fudge banana cake?'"
      ]
     },
     "execution_count": 68,
     "metadata": {},
     "output_type": "execute_result"
    }
   ],
   "source": [
    "ground_truth[2]['question']"
   ]
  },
  {
   "cell_type": "code",
   "execution_count": 69,
   "metadata": {},
   "outputs": [
    {
     "data": {
      "text/plain": [
       "'Based on the CONTEXT provided, the QUESTION \"Does almond fudge banana cake contain dairy?\" cannot be answered with a \"yes\" or \"no\" because there is no information about the presence or absence of dairy in the provided nutritional information, category, or any other section.'"
      ]
     },
     "execution_count": 69,
     "metadata": {},
     "output_type": "execute_result"
    }
   ],
   "source": [
    "rag(ground_truth[1]['question'])"
   ]
  },
  {
   "cell_type": "markdown",
   "metadata": {},
   "source": [
    "## RAG Evaluation - LLM as a judge"
   ]
  },
  {
   "cell_type": "code",
   "execution_count": 72,
   "metadata": {},
   "outputs": [],
   "source": [
    "\n",
    "prompt2_template = \"\"\"\n",
    "You are an expert evaluator for a Retrieval-Augmented Generation (RAG) system.\n",
    "Your task is to analyze the relevance of the generated answer to the given question.\n",
    "Based on the relevance of the generated answer, you will classify it\n",
    "as \"NON_RELEVANT\", \"PARTLY_RELEVANT\", or \"RELEVANT\".\n",
    "\n",
    "Here is the data for evaluation:\n",
    "\n",
    "Question: {question}\n",
    "Generated Answer: {answer_llm}\n",
    "\n",
    "Please analyze the content and context of the generated answer in relation to the question\n",
    "and provide your evaluation in parsable JSON without using code blocks:\n",
    "\n",
    "{{\n",
    "  \"Relevance\": \"NON_RELEVANT\" | \"PARTLY_RELEVANT\" | \"RELEVANT\",\n",
    "  \"Explanation\": \"[Provide a brief explanation for your evaluation]\"\n",
    "}}\n",
    "\"\"\".strip()"
   ]
  },
  {
   "cell_type": "code",
   "execution_count": 73,
   "metadata": {},
   "outputs": [
    {
     "data": {
      "text/plain": [
       "16527"
      ]
     },
     "execution_count": 73,
     "metadata": {},
     "output_type": "execute_result"
    }
   ],
   "source": [
    "len(ground_df)"
   ]
  },
  {
   "cell_type": "code",
   "execution_count": 78,
   "metadata": {},
   "outputs": [
    {
     "data": {
      "text/plain": [
       "'Based on the context, I can answer your question:\\n\\nIs almond fudge banana cake made with real bananas?\\n\\nThe answer is likely \"Yes\", because the dish has bananas in its name and the carbohydrates content is provided, which suggest the presence of real bananas in the recipe.'"
      ]
     },
     "execution_count": 78,
     "metadata": {},
     "output_type": "execute_result"
    }
   ],
   "source": [
    "record = ground_truth[0]\n",
    "question =  record['question']\n",
    "answer_llm = rag(question)\n",
    "answer_llm"
   ]
  },
  {
   "cell_type": "code",
   "execution_count": 79,
   "metadata": {},
   "outputs": [
    {
     "data": {
      "text/plain": [
       "'You are an expert evaluator for a Retrieval-Augmented Generation (RAG) system.\\nYour task is to analyze the relevance of the generated answer to the given question.\\nBased on the relevance of the generated answer, you will classify it\\nas \"NON_RELEVANT\", \"PARTLY_RELEVANT\", or \"RELEVANT\".\\n\\nHere is the data for evaluation:\\n\\nQuestion: Is almond fudge banana cake made with real bananas?\\nGenerated Answer: Based on the context, I can answer your question:\\n\\nIs almond fudge banana cake made with real bananas?\\n\\nThe answer is likely \"Yes\", because the dish has bananas in its name and the carbohydrates content is provided, which suggest the presence of real bananas in the recipe.\\n\\nPlease analyze the content and context of the generated answer in relation to the question\\nand provide your evaluation in parsable JSON without using code blocks:\\n\\n{\\n  \"Relevance\": \"NON_RELEVANT\" | \"PARTLY_RELEVANT\" | \"RELEVANT\",\\n  \"Explanation\": \"[Provide a brief explanation for your evaluation]\"\\n}'"
      ]
     },
     "execution_count": 79,
     "metadata": {},
     "output_type": "execute_result"
    }
   ],
   "source": [
    "prompt = prompt2_template.format(question=question,answer_llm=answer_llm)\n",
    "prompt"
   ]
  },
  {
   "cell_type": "code",
   "execution_count": 81,
   "metadata": {},
   "outputs": [
    {
     "data": {
      "text/plain": [
       "{'question': 'Is almond fudge banana cake made with real bananas?',\n",
       " 'id': '142_1'}"
      ]
     },
     "execution_count": 81,
     "metadata": {},
     "output_type": "execute_result"
    }
   ],
   "source": [
    "record = ground_truth[0]\n",
    "record"
   ]
  },
  {
   "cell_type": "code",
   "execution_count": 89,
   "metadata": {},
   "outputs": [],
   "source": [
    "evaluations = {}\n"
   ]
  },
  {
   "cell_type": "code",
   "execution_count": 119,
   "metadata": {},
   "outputs": [
    {
     "data": {
      "text/plain": [
       "[{'question': 'Does almond fudge banana cake contain dairy?', 'id': '142_1'},\n",
       " {'question': 'Can I be sure there are no artificial flavors in almond fudge banana cake?',\n",
       "  'id': '142_1'},\n",
       " {'question': 'Are the ingredients in almond fudge banana cake free from liqueurs?',\n",
       "  'id': '142_1'},\n",
       " {'question': 'May I know the types of flour and sugar used in almond fudge banana cake?',\n",
       "  'id': '142_1'},\n",
       " {'question': 'How many calories does the Almond Fudge Banana Cake have?',\n",
       "  'id': '142_2'},\n",
       " {'question': 'Can I get nutrition facts for the Almond Fudge Banana Cake?',\n",
       "  'id': '142_2'},\n",
       " {'question': \"What's the calorie count for the Almond Fudge Banana Cake?\",\n",
       "  'id': '142_2'},\n",
       " {'question': 'How many calories is the Almond Fudge Banana Cake?',\n",
       "  'id': '142_2'},\n",
       " {'question': \"What's the calorie content of the Almond Fudge Banana Cake?\",\n",
       "  'id': '142_2'},\n",
       " {'question': 'How much fat does the Almond Fudge Banana Cake have?',\n",
       "  'id': '142_3'},\n",
       " {'question': 'What is the total fat content of the Almond Fudge Banana Cake?',\n",
       "  'id': '142_3'},\n",
       " {'question': 'Is the Almond Fudge Banana Cake high in fat?', 'id': '142_3'},\n",
       " {'question': 'Can I get the calorie breakdown of the Almond Fudge Banana Cake?',\n",
       "  'id': '142_3'},\n",
       " {'question': 'How many grams of fat are in the Almond Fudge Banana Cake?',\n",
       "  'id': '142_3'},\n",
       " {'question': 'How much sweetness comes from the almond fudge banana cake?',\n",
       "  'id': '142_4'},\n",
       " {'question': \"What's the amount of sugar in the almond fudge banana cake?\",\n",
       "  'id': '142_4'},\n",
       " {'question': 'Is the almond fudge banana cake high in sugar?', 'id': '142_4'},\n",
       " {'question': 'Can I know the sugar level of the almond fudge banana cake?',\n",
       "  'id': '142_4'},\n",
       " {'question': 'How much sugar is there in a standard serving of almond fudge banana cake?',\n",
       "  'id': '142_4'},\n",
       " {'question': \"What's the salt content in the Almond Fudge Banana Cake?\",\n",
       "  'id': '142_5'},\n",
       " {'question': 'How much salt is in this dessert?', 'id': '142_5'},\n",
       " {'question': \"Can you tell me about the Almond Fudge Banana Cake's salt level?\",\n",
       "  'id': '142_5'},\n",
       " {'question': \"What's the daily limit for the sodium in the Almond Fudge Banana Cake?\",\n",
       "  'id': '142_5'},\n",
       " {'question': 'What sodium content can I expect from the Almond Fudge Banana Cake?',\n",
       "  'id': '142_5'},\n",
       " {'question': 'What is the protein content of the almond fudge banana cake?',\n",
       "  'id': '142_6'},\n",
       " {'question': 'Can I know the amount of protein in the almond fudge banana cake?',\n",
       "  'id': '142_6'},\n",
       " {'question': \"What's the protein level of the almond fudge banana cake?\",\n",
       "  'id': '142_6'},\n",
       " {'question': 'How much protein is in the almond fudge banana cake?',\n",
       "  'id': '142_6'},\n",
       " {'question': 'Is there a lot of protein in the almond fudge banana cake?',\n",
       "  'id': '142_6'}]"
      ]
     },
     "execution_count": 119,
     "metadata": {},
     "output_type": "execute_result"
    }
   ],
   "source": [
    "sample_ground_truth =ground_truth[1:30]\n",
    "sample_ground_truth"
   ]
  },
  {
   "cell_type": "code",
   "execution_count": 120,
   "metadata": {},
   "outputs": [
    {
     "data": {
      "application/vnd.jupyter.widget-view+json": {
       "model_id": "de1ae8334f284394a23533ab50a82d41",
       "version_major": 2,
       "version_minor": 0
      },
      "text/plain": [
       "  0%|          | 0/29 [00:00<?, ?it/s]"
      ]
     },
     "metadata": {},
     "output_type": "display_data"
    }
   ],
   "source": [
    "for record in tqdm(sample_ground_truth):\n",
    "    id = record['id']\n",
    "\n",
    "    if id in evaluations:\n",
    "        continue\n",
    "    question =  record['question']\n",
    "    answer_llm = rag(question)"
   ]
  },
  {
   "cell_type": "code",
   "execution_count": 136,
   "metadata": {},
   "outputs": [
    {
     "data": {
      "application/vnd.jupyter.widget-view+json": {
       "model_id": "d88dd59705764d37af321209af97473a",
       "version_major": 2,
       "version_minor": 0
      },
      "text/plain": [
       "  0%|          | 0/200 [00:00<?, ?it/s]"
      ]
     },
     "metadata": {},
     "output_type": "display_data"
    },
    {
     "name": "stdout",
     "output_type": "stream",
     "text": [
      "Evaluation for question Are the cod cakes browned on both sides: {\n",
      "\"Relevance\": \"RELEVANT\",\n",
      "\"Explanation\": \"The generated answer directly addresses the question and provides a clear and specific answer, citing the steps to prepare the dish as evidence. The answer is relevant because it provides the correct information about whether the cod cakes are browned on both sides.\"\n",
      "JSONDecodeError for question Are the cod cakes browned on both sides: Expecting ',' delimiter: line 3 column 284 (char 310)\n",
      "Evaluation for question Can you tell me the preparation time for Coconut Shrimp Curry?: {\n",
      "  \"Relevance\": \"RELEVANT\",\n",
      "  \"Explanation\": \"The generated answer is relevant to the question as it directly addresses the user's inquiry about the preparation time for Coconut Shrimp Curry. Although the answer does not provide the actual preparation time, it acknowledges the absence of relevant information in the given context and offers an alternative solution, making it relevant to the user's request.\"\n",
      "JSONDecodeError for question Can you tell me the preparation time for Coconut Shrimp Curry?: Expecting ',' delimiter: line 3 column 382 (char 410)\n",
      "Evaluation for question Should I double the funnel cake recipe?: {\n",
      "\"Relevance\": \"PARTLY_RELEVANT\",\n",
      "\"Explanation\": \"The generated answer partially addresses the question by pointing out the possibility that the user is asking about a different type of cake, and provides a conditional answer based on the hypothetical scenario. However, it does not directly answer the original question about doubling the funnel cake recipe, which is the main focus of the question.\"\n",
      "JSONDecodeError for question Should I double the funnel cake recipe?: Expecting ',' delimiter: line 3 column 368 (char 401)\n",
      "Evaluation for question Tells me the calorie total for Streusel Plum Cake: {\n",
      "  \"Relevance\": \"NON_RELEVANT\",\n",
      "  \"Explanation\": \"The generated answer 'Easy one!' is not relevant to the question as it does not provide any information about the calorie total for Streusel Plum Cake, which is what the question is asking for.\"\n",
      "JSONDecodeError for question Tells me the calorie total for Streusel Plum Cake: Expecting ',' delimiter: line 3 column 213 (char 245)\n",
      "Evaluation for question Milky Way Lover's Pound Cake prep time: Here is my evaluation in JSON format:\n",
      "\n",
      "{\n",
      "\"Relevance\": \"PARTLY_RELEVANT\",\n",
      "\"Explanation\": \"The generated answer acknowledges the question and provides a clear explanation, but does not directly answer the question about the prep time. Instead, it attempts to understand the context and offers alternative suggestions, which addresses the question partially.\"\n",
      "JSONDecodeError for question Milky Way Lover's Pound Cake prep time: Expecting value: line 1 column 1 (char 0)\n",
      "Evaluation for question dirt cake ii provides how much protein: {\n",
      "  \"Relevance\": \"RELEVANT\",\n",
      "  \"Explanation\": \"The generated answer directly answers the question about the amount of protein provided by Dirt Cake II, making it highly relevant to the question.\"\n",
      "}\n",
      "Evaluation for question Can I get a quote for Grandma Kay's Swedish pancakes?: {\n",
      "  \"Relevance\": \"RELEVANT\",\n",
      "  \"Explanation\": \"The generated answer directly provides a quote ($42) for Grandma Kay's Swedish pancakes, which is a direct response to the question asked, making it relevant.\"\n",
      "}\n",
      "Evaluation for question Does the rhubarb stir cake have a high carb count?: {\n",
      "  \"Relevance\": \"RELEVANT\",\n",
      "  \"Explanation\": \"The generated answer directly addresses the question by providing the carb count of the rhubarb stir cake, answering the question about its high carb count.\"\n",
      "}\n",
      "Evaluation for question Can I make the easy rhubarb cake in under 60 minutes?: {\n",
      "  \"Relevance\": \"PARTLY_RELEVANT\",\n",
      "  \"Explanation\": \"The generated answer partially addresses the question about baking the easy rhubarb cake in under 60 minutes, as it provides information on the recommended baking time and its potential variation due to altitude and other factors. However, the answer fails to directly answer the question and instead provides a warning that the cake cannot be baked in under 60 minutes, which is not a direct answer to the question.\"\n",
      "JSONDecodeError for question Can I make the easy rhubarb cake in under 60 minutes?: Expecting ',' delimiter: line 3 column 436 (char 471)\n",
      "Evaluation for question What's the fat content of the key lime cheesecake squares?: {\n",
      "\"Relevance\": \"RELEVANT\",\n",
      "\"Explanation\": \"The generated answer directly responds to the question about the fat content of the key lime cheesecake squares, providing the exact value of 6 grams of total fat.\"\n",
      "JSONDecodeError for question What's the fat content of the key lime cheesecake squares?: Expecting ',' delimiter: line 3 column 181 (char 207)\n",
      "Evaluation for question What's the calorie count for the old fashion butter pound cake?: {\n",
      "  \"Relevance\": \"RELEVANT\",\n",
      "  \"Explanation\": \"The generated answer directly addresses the question by providing the calorie count for the old fashion butter pound cake, which is the primary piece of information requested in the question.\"\n",
      "}\n",
      "Evaluation for question What's the instruction for baking the 1 Pan Fudge Cake?: {\n",
      "\"Relevance\": \"RELEVANT\",\n",
      "\"Explanation\": \"The generated answer provides the instruction for baking the 1 Pan Fudge Cake, including specific details such as oven temperature, ingredients to sift, and baking time. The answer directly addresses the question and provides relevant information to achieve the desired outcome.\"\n",
      "}\n",
      "Evaluation for question What special tips do you have for making the best ricotta cheesecake?: {\n",
      "  \"Relevance\": \"PARTLY_RELEVANT\",\n",
      "  \"Explanation\": \"The generated answer is partially relevant to the question as it provides some tips on making the best ricotta cheesecake. However, the main focus of the answer is on unconventional suggestions for cutting the cheesecake (using dental floss) and modifying the recipe (converting to gluten-free cornflour and plain flour), which may not be directly related to the best ways to make a ricotta cheesecake. The last suggestion about experimenting with textures and flavors is more relevant to the question, but overall, the answer is not directly addressing the main topic of the question.\"\n",
      "}\n",
      "Evaluation for question Tell me the Million Dollar Pound Cake's composition?: {\n",
      "  \"Relevance\": \"RELEVANT\",\n",
      "  \"Explanation\": \"The answer provides a list of ingredients that make up the Million Dollar Pound Cake, directly addressing the question of its composition.\"\n",
      "}\n",
      "Evaluation for question Is carrot snack cake a sweet dish?: {\n",
      "\"Relevance\": \"RELEVANT\",\n",
      "\"Explanation\": \"The generated answer directly addresses the question by stating that carrot snack cake is likely a sweet dish based on its nutritional information, specifically the presence of a significant amount of sugar (46 grams) and being classified as Low Calory with 7 grams of carbohydrates. This provides a clear and relevant answer to the question.\"\n",
      "JSONDecodeError for question Is carrot snack cake a sweet dish?: Expecting ',' delimiter: line 3 column 360 (char 386)\n",
      "Evaluation for question Can I expect high standards from the Mini Cherry Cheesecakes?: {\n",
      "  \"Relevance\": \"RELEVANT\",\n",
      "  \"Explanation\": \"The generated answer is relevant because it directly addresses the question of whether one can expect high standards from the Mini Cherry Cheesecakes. The answer provides evidence from 5-star ratings and positive reviews to support the expectation of high standards, making it a relevant response.\"\n",
      "JSONDecodeError for question Can I expect high standards from the Mini Cherry Cheesecakes?: Expecting ',' delimiter: line 3 column 317 (char 345)\n",
      "Evaluation for question Can you tell me about the step-by-step process for German Chocolate Cake Squares?: Here is the evaluation in JSON format:\n",
      "\n",
      "{\n",
      "  \"Relevance\": \"PARTLY_RELEVANT\",\n",
      "  \"Explanation\": \"The generated answer acknowledges the question and provides some information related to it, but does not directly provide the step-by-step process for German Chocolate Cake Squares. Instead, it mentions that the directions were easy to follow, which is partially relevant to the question. However, the main focus of the answer is on the availability of the process and the need for clarification, which is less relevant to the question.\"\n",
      "}\n",
      "JSONDecodeError for question Can you tell me about the step-by-step process for German Chocolate Cake Squares?: Expecting value: line 1 column 1 (char 0)\n",
      "Evaluation for question Can I get blueberry blueberry sour cream pancakes quickly made?: {\n",
      "  \"Relevance\": \"PARTLY_RELEVANT\",\n",
      "  \"Explanation\": \"The generated answer provides some relevant information by confirming that blueberry blueberry sour cream pancakes can be quickly made. However, it also introduces external information about the preparation time, which is not directly related to the original question. The main focus of the question is on the feasibility of making the pancakes quickly, and the answer could have simply stated 'yes' or 'no' to address this point, without going into further details about the preparation time.\"\n",
      "JSONDecodeError for question Can I get blueberry blueberry sour cream pancakes quickly made?: Expecting ',' delimiter: line 3 column 513 (char 548)\n",
      "Evaluation for question Is the Momma's Fair Funnel Cake high in salt?: {\n",
      "  \"Relevance\": \"PARTLY_RELEVANT\",\n",
      "  \"Explanation\": \"The generated answer provides some relevant information about the nutritional content of the Momma's Fair Funnel Cake, specifically the sodium content. However, the answer does not directly address the question of whether the funnel cake is high in salt. The answer provides specific data points, but the relevance to the question is indirect, as it compares sodium content to a PDV, without explicitly stating if the funnel cake is high in salt or not.\"\n",
      "JSONDecodeError for question Is the Momma's Fair Funnel Cake high in salt?: Expecting ',' delimiter: line 3 column 473 (char 508)\n",
      "Evaluation for question How much sweetness can we expect in the Mexican tres leche cake?: Here is the evaluation in JSON format:\n",
      "\n",
      "{\n",
      "  \"Relevance\": \"NON_RELEVANT\",\n",
      "  \"Explanation\": \"The generated answer does not provide any information about the sweetness level of the Mexican tres leche cake, but instead provides a summary of previous discussions on nutritional information and asks if the user would like help with something else. This is not relevant to the original question.\"\n",
      "}\n",
      "JSONDecodeError for question How much sweetness can we expect in the Mexican tres leche cake?: Expecting value: line 1 column 1 (char 0)\n",
      "Evaluation for question Does pumpkin upside down cake have a specific flavor profile?: {\n",
      "  \"Relevance\": \"RELEVANT\",\n",
      "  \"Explanation\": \"The generated answer directly addresses the question 'Does pumpkin upside down cake have a specific flavor profile?' by providing a descriptive analysis of the cake's flavor profile, including its richness, sweetness, caramelized taste, and the contributions of pumpkin, spices, and other ingredients.\"\n",
      "}\n",
      "Evaluation for question How many calories does the peach upside down pudding cake contain: {\n",
      "\"Relevance\": \"RELEVANT\",\n",
      "\"Explanation\": \"The generated answer directly addresses the question by providing the exact number of calories the peach upside down pudding cake contains, which is the specific piece of information requested.\"\n",
      "JSONDecodeError for question How many calories does the peach upside down pudding cake contain: Expecting ',' delimiter: line 3 column 211 (char 237)\n",
      "Evaluation for question Texas Cheesecake: {\n",
      "\"Relevance\": \"PARTLY_RELEVANT\",\n",
      "\"Explanation\": \"The generated answer is partially relevant to the question 'Texas Cheesecake' as it mentions the topic, but fails to provide essential information about the Texas Cheesecake itself, such as its definition, ingredients, or description. The answer solely provides a rating, which is not directly related to the question.\"\n",
      "JSONDecodeError for question Texas Cheesecake: Expecting ',' delimiter: line 3 column 336 (char 369)\n"
     ]
    },
    {
     "ename": "InternalServerError",
     "evalue": "Error code: 503 - {'error': {'message': 'Service Unavailable', 'type': 'internal_server_error'}}",
     "output_type": "error",
     "traceback": [
      "\u001b[1;31m---------------------------------------------------------------------------\u001b[0m",
      "\u001b[1;31mInternalServerError\u001b[0m                       Traceback (most recent call last)",
      "Cell \u001b[1;32mIn[136], line 3\u001b[0m\n\u001b[0;32m      1\u001b[0m \u001b[38;5;28;01mfor\u001b[39;00m record \u001b[38;5;129;01min\u001b[39;00m tqdm(sample):\n\u001b[0;32m      2\u001b[0m     question \u001b[38;5;241m=\u001b[39m record[\u001b[38;5;124m'\u001b[39m\u001b[38;5;124mquestion\u001b[39m\u001b[38;5;124m'\u001b[39m]\n\u001b[1;32m----> 3\u001b[0m     answer_llm \u001b[38;5;241m=\u001b[39m \u001b[43mrag\u001b[49m\u001b[43m(\u001b[49m\u001b[43mquestion\u001b[49m\u001b[43m)\u001b[49m \n\u001b[0;32m      5\u001b[0m     prompt \u001b[38;5;241m=\u001b[39m prompt2_template\u001b[38;5;241m.\u001b[39mformat(\n\u001b[0;32m      6\u001b[0m         question\u001b[38;5;241m=\u001b[39mquestion,\n\u001b[0;32m      7\u001b[0m         answer_llm\u001b[38;5;241m=\u001b[39manswer_llm\n\u001b[0;32m      8\u001b[0m     )\n\u001b[0;32m     10\u001b[0m     evaluation \u001b[38;5;241m=\u001b[39m llm(prompt)\n",
      "Cell \u001b[1;32mIn[49], line 4\u001b[0m, in \u001b[0;36mrag\u001b[1;34m(query)\u001b[0m\n\u001b[0;32m      2\u001b[0m search_results \u001b[38;5;241m=\u001b[39m minsearch(query)\n\u001b[0;32m      3\u001b[0m prompt\u001b[38;5;241m=\u001b[39mbuild_prompt(query,search_results)\n\u001b[1;32m----> 4\u001b[0m answer \u001b[38;5;241m=\u001b[39m \u001b[43mllm\u001b[49m\u001b[43m(\u001b[49m\u001b[43mprompt\u001b[49m\u001b[43m)\u001b[49m\n\u001b[0;32m      5\u001b[0m \u001b[38;5;28;01mreturn\u001b[39;00m answer\n",
      "Cell \u001b[1;32mIn[45], line 2\u001b[0m, in \u001b[0;36mllm\u001b[1;34m(prompt)\u001b[0m\n\u001b[0;32m      1\u001b[0m \u001b[38;5;28;01mdef\u001b[39;00m \u001b[38;5;21mllm\u001b[39m(prompt):\n\u001b[1;32m----> 2\u001b[0m     response \u001b[38;5;241m=\u001b[39m \u001b[43mclient\u001b[49m\u001b[38;5;241;43m.\u001b[39;49m\u001b[43mchat\u001b[49m\u001b[38;5;241;43m.\u001b[39;49m\u001b[43mcompletions\u001b[49m\u001b[38;5;241;43m.\u001b[39;49m\u001b[43mcreate\u001b[49m\u001b[43m(\u001b[49m\n\u001b[0;32m      3\u001b[0m \u001b[43m        \u001b[49m\u001b[43mmodel\u001b[49m\u001b[38;5;241;43m=\u001b[39;49m\u001b[43m \u001b[49m\u001b[43mMODEL_NAME\u001b[49m\u001b[43m,\u001b[49m\n\u001b[0;32m      4\u001b[0m \u001b[43m        \u001b[49m\u001b[43mmessages\u001b[49m\u001b[38;5;241;43m=\u001b[39;49m\u001b[43m[\u001b[49m\u001b[43m{\u001b[49m\u001b[38;5;124;43m\"\u001b[39;49m\u001b[38;5;124;43mrole\u001b[39;49m\u001b[38;5;124;43m\"\u001b[39;49m\u001b[43m:\u001b[49m\u001b[43m \u001b[49m\u001b[38;5;124;43m\"\u001b[39;49m\u001b[38;5;124;43muser\u001b[39;49m\u001b[38;5;124;43m\"\u001b[39;49m\u001b[43m,\u001b[49m\u001b[43m \u001b[49m\u001b[38;5;124;43m\"\u001b[39;49m\u001b[38;5;124;43mcontent\u001b[39;49m\u001b[38;5;124;43m\"\u001b[39;49m\u001b[43m:\u001b[49m\u001b[43m \u001b[49m\u001b[43mprompt\u001b[49m\u001b[43m}\u001b[49m\u001b[43m]\u001b[49m\n\u001b[0;32m      5\u001b[0m \u001b[43m    \u001b[49m\u001b[43m)\u001b[49m\n\u001b[0;32m      7\u001b[0m     \u001b[38;5;28;01mreturn\u001b[39;00m response\u001b[38;5;241m.\u001b[39mchoices[\u001b[38;5;241m0\u001b[39m]\u001b[38;5;241m.\u001b[39mmessage\u001b[38;5;241m.\u001b[39mcontent\n",
      "File \u001b[1;32mc:\\Users\\nakka\\AppData\\Local\\Programs\\Python\\Python312\\Lib\\site-packages\\groq\\resources\\chat\\completions.py:289\u001b[0m, in \u001b[0;36mCompletions.create\u001b[1;34m(self, messages, model, frequency_penalty, function_call, functions, logit_bias, logprobs, max_tokens, n, parallel_tool_calls, presence_penalty, response_format, seed, stop, stream, temperature, tool_choice, tools, top_logprobs, top_p, user, extra_headers, extra_query, extra_body, timeout)\u001b[0m\n\u001b[0;32m    148\u001b[0m \u001b[38;5;28;01mdef\u001b[39;00m \u001b[38;5;21mcreate\u001b[39m(\n\u001b[0;32m    149\u001b[0m     \u001b[38;5;28mself\u001b[39m,\n\u001b[0;32m    150\u001b[0m     \u001b[38;5;241m*\u001b[39m,\n\u001b[1;32m   (...)\u001b[0m\n\u001b[0;32m    177\u001b[0m     timeout: \u001b[38;5;28mfloat\u001b[39m \u001b[38;5;241m|\u001b[39m httpx\u001b[38;5;241m.\u001b[39mTimeout \u001b[38;5;241m|\u001b[39m \u001b[38;5;28;01mNone\u001b[39;00m \u001b[38;5;241m|\u001b[39m NotGiven \u001b[38;5;241m=\u001b[39m NOT_GIVEN,\n\u001b[0;32m    178\u001b[0m ) \u001b[38;5;241m-\u001b[39m\u001b[38;5;241m>\u001b[39m ChatCompletion \u001b[38;5;241m|\u001b[39m Stream[ChatCompletionChunk]:\n\u001b[0;32m    179\u001b[0m \u001b[38;5;250m    \u001b[39m\u001b[38;5;124;03m\"\"\"\u001b[39;00m\n\u001b[0;32m    180\u001b[0m \u001b[38;5;124;03m    Creates a model response for the given chat conversation.\u001b[39;00m\n\u001b[0;32m    181\u001b[0m \n\u001b[1;32m   (...)\u001b[0m\n\u001b[0;32m    287\u001b[0m \u001b[38;5;124;03m      timeout: Override the client-level default timeout for this request, in seconds\u001b[39;00m\n\u001b[0;32m    288\u001b[0m \u001b[38;5;124;03m    \"\"\"\u001b[39;00m\n\u001b[1;32m--> 289\u001b[0m     \u001b[38;5;28;01mreturn\u001b[39;00m \u001b[38;5;28;43mself\u001b[39;49m\u001b[38;5;241;43m.\u001b[39;49m\u001b[43m_post\u001b[49m\u001b[43m(\u001b[49m\n\u001b[0;32m    290\u001b[0m \u001b[43m        \u001b[49m\u001b[38;5;124;43m\"\u001b[39;49m\u001b[38;5;124;43m/openai/v1/chat/completions\u001b[39;49m\u001b[38;5;124;43m\"\u001b[39;49m\u001b[43m,\u001b[49m\n\u001b[0;32m    291\u001b[0m \u001b[43m        \u001b[49m\u001b[43mbody\u001b[49m\u001b[38;5;241;43m=\u001b[39;49m\u001b[43mmaybe_transform\u001b[49m\u001b[43m(\u001b[49m\n\u001b[0;32m    292\u001b[0m \u001b[43m            \u001b[49m\u001b[43m{\u001b[49m\n\u001b[0;32m    293\u001b[0m \u001b[43m                \u001b[49m\u001b[38;5;124;43m\"\u001b[39;49m\u001b[38;5;124;43mmessages\u001b[39;49m\u001b[38;5;124;43m\"\u001b[39;49m\u001b[43m:\u001b[49m\u001b[43m \u001b[49m\u001b[43mmessages\u001b[49m\u001b[43m,\u001b[49m\n\u001b[0;32m    294\u001b[0m \u001b[43m                \u001b[49m\u001b[38;5;124;43m\"\u001b[39;49m\u001b[38;5;124;43mmodel\u001b[39;49m\u001b[38;5;124;43m\"\u001b[39;49m\u001b[43m:\u001b[49m\u001b[43m \u001b[49m\u001b[43mmodel\u001b[49m\u001b[43m,\u001b[49m\n\u001b[0;32m    295\u001b[0m \u001b[43m                \u001b[49m\u001b[38;5;124;43m\"\u001b[39;49m\u001b[38;5;124;43mfrequency_penalty\u001b[39;49m\u001b[38;5;124;43m\"\u001b[39;49m\u001b[43m:\u001b[49m\u001b[43m \u001b[49m\u001b[43mfrequency_penalty\u001b[49m\u001b[43m,\u001b[49m\n\u001b[0;32m    296\u001b[0m \u001b[43m                \u001b[49m\u001b[38;5;124;43m\"\u001b[39;49m\u001b[38;5;124;43mfunction_call\u001b[39;49m\u001b[38;5;124;43m\"\u001b[39;49m\u001b[43m:\u001b[49m\u001b[43m \u001b[49m\u001b[43mfunction_call\u001b[49m\u001b[43m,\u001b[49m\n\u001b[0;32m    297\u001b[0m \u001b[43m                \u001b[49m\u001b[38;5;124;43m\"\u001b[39;49m\u001b[38;5;124;43mfunctions\u001b[39;49m\u001b[38;5;124;43m\"\u001b[39;49m\u001b[43m:\u001b[49m\u001b[43m \u001b[49m\u001b[43mfunctions\u001b[49m\u001b[43m,\u001b[49m\n\u001b[0;32m    298\u001b[0m \u001b[43m                \u001b[49m\u001b[38;5;124;43m\"\u001b[39;49m\u001b[38;5;124;43mlogit_bias\u001b[39;49m\u001b[38;5;124;43m\"\u001b[39;49m\u001b[43m:\u001b[49m\u001b[43m \u001b[49m\u001b[43mlogit_bias\u001b[49m\u001b[43m,\u001b[49m\n\u001b[0;32m    299\u001b[0m \u001b[43m                \u001b[49m\u001b[38;5;124;43m\"\u001b[39;49m\u001b[38;5;124;43mlogprobs\u001b[39;49m\u001b[38;5;124;43m\"\u001b[39;49m\u001b[43m:\u001b[49m\u001b[43m \u001b[49m\u001b[43mlogprobs\u001b[49m\u001b[43m,\u001b[49m\n\u001b[0;32m    300\u001b[0m \u001b[43m                \u001b[49m\u001b[38;5;124;43m\"\u001b[39;49m\u001b[38;5;124;43mmax_tokens\u001b[39;49m\u001b[38;5;124;43m\"\u001b[39;49m\u001b[43m:\u001b[49m\u001b[43m \u001b[49m\u001b[43mmax_tokens\u001b[49m\u001b[43m,\u001b[49m\n\u001b[0;32m    301\u001b[0m \u001b[43m                \u001b[49m\u001b[38;5;124;43m\"\u001b[39;49m\u001b[38;5;124;43mn\u001b[39;49m\u001b[38;5;124;43m\"\u001b[39;49m\u001b[43m:\u001b[49m\u001b[43m \u001b[49m\u001b[43mn\u001b[49m\u001b[43m,\u001b[49m\n\u001b[0;32m    302\u001b[0m \u001b[43m                \u001b[49m\u001b[38;5;124;43m\"\u001b[39;49m\u001b[38;5;124;43mparallel_tool_calls\u001b[39;49m\u001b[38;5;124;43m\"\u001b[39;49m\u001b[43m:\u001b[49m\u001b[43m \u001b[49m\u001b[43mparallel_tool_calls\u001b[49m\u001b[43m,\u001b[49m\n\u001b[0;32m    303\u001b[0m \u001b[43m                \u001b[49m\u001b[38;5;124;43m\"\u001b[39;49m\u001b[38;5;124;43mpresence_penalty\u001b[39;49m\u001b[38;5;124;43m\"\u001b[39;49m\u001b[43m:\u001b[49m\u001b[43m \u001b[49m\u001b[43mpresence_penalty\u001b[49m\u001b[43m,\u001b[49m\n\u001b[0;32m    304\u001b[0m \u001b[43m                \u001b[49m\u001b[38;5;124;43m\"\u001b[39;49m\u001b[38;5;124;43mresponse_format\u001b[39;49m\u001b[38;5;124;43m\"\u001b[39;49m\u001b[43m:\u001b[49m\u001b[43m \u001b[49m\u001b[43mresponse_format\u001b[49m\u001b[43m,\u001b[49m\n\u001b[0;32m    305\u001b[0m \u001b[43m                \u001b[49m\u001b[38;5;124;43m\"\u001b[39;49m\u001b[38;5;124;43mseed\u001b[39;49m\u001b[38;5;124;43m\"\u001b[39;49m\u001b[43m:\u001b[49m\u001b[43m \u001b[49m\u001b[43mseed\u001b[49m\u001b[43m,\u001b[49m\n\u001b[0;32m    306\u001b[0m \u001b[43m                \u001b[49m\u001b[38;5;124;43m\"\u001b[39;49m\u001b[38;5;124;43mstop\u001b[39;49m\u001b[38;5;124;43m\"\u001b[39;49m\u001b[43m:\u001b[49m\u001b[43m \u001b[49m\u001b[43mstop\u001b[49m\u001b[43m,\u001b[49m\n\u001b[0;32m    307\u001b[0m \u001b[43m                \u001b[49m\u001b[38;5;124;43m\"\u001b[39;49m\u001b[38;5;124;43mstream\u001b[39;49m\u001b[38;5;124;43m\"\u001b[39;49m\u001b[43m:\u001b[49m\u001b[43m \u001b[49m\u001b[43mstream\u001b[49m\u001b[43m,\u001b[49m\n\u001b[0;32m    308\u001b[0m \u001b[43m                \u001b[49m\u001b[38;5;124;43m\"\u001b[39;49m\u001b[38;5;124;43mtemperature\u001b[39;49m\u001b[38;5;124;43m\"\u001b[39;49m\u001b[43m:\u001b[49m\u001b[43m \u001b[49m\u001b[43mtemperature\u001b[49m\u001b[43m,\u001b[49m\n\u001b[0;32m    309\u001b[0m \u001b[43m                \u001b[49m\u001b[38;5;124;43m\"\u001b[39;49m\u001b[38;5;124;43mtool_choice\u001b[39;49m\u001b[38;5;124;43m\"\u001b[39;49m\u001b[43m:\u001b[49m\u001b[43m \u001b[49m\u001b[43mtool_choice\u001b[49m\u001b[43m,\u001b[49m\n\u001b[0;32m    310\u001b[0m \u001b[43m                \u001b[49m\u001b[38;5;124;43m\"\u001b[39;49m\u001b[38;5;124;43mtools\u001b[39;49m\u001b[38;5;124;43m\"\u001b[39;49m\u001b[43m:\u001b[49m\u001b[43m \u001b[49m\u001b[43mtools\u001b[49m\u001b[43m,\u001b[49m\n\u001b[0;32m    311\u001b[0m \u001b[43m                \u001b[49m\u001b[38;5;124;43m\"\u001b[39;49m\u001b[38;5;124;43mtop_logprobs\u001b[39;49m\u001b[38;5;124;43m\"\u001b[39;49m\u001b[43m:\u001b[49m\u001b[43m \u001b[49m\u001b[43mtop_logprobs\u001b[49m\u001b[43m,\u001b[49m\n\u001b[0;32m    312\u001b[0m \u001b[43m                \u001b[49m\u001b[38;5;124;43m\"\u001b[39;49m\u001b[38;5;124;43mtop_p\u001b[39;49m\u001b[38;5;124;43m\"\u001b[39;49m\u001b[43m:\u001b[49m\u001b[43m \u001b[49m\u001b[43mtop_p\u001b[49m\u001b[43m,\u001b[49m\n\u001b[0;32m    313\u001b[0m \u001b[43m                \u001b[49m\u001b[38;5;124;43m\"\u001b[39;49m\u001b[38;5;124;43muser\u001b[39;49m\u001b[38;5;124;43m\"\u001b[39;49m\u001b[43m:\u001b[49m\u001b[43m \u001b[49m\u001b[43muser\u001b[49m\u001b[43m,\u001b[49m\n\u001b[0;32m    314\u001b[0m \u001b[43m            \u001b[49m\u001b[43m}\u001b[49m\u001b[43m,\u001b[49m\n\u001b[0;32m    315\u001b[0m \u001b[43m            \u001b[49m\u001b[43mcompletion_create_params\u001b[49m\u001b[38;5;241;43m.\u001b[39;49m\u001b[43mCompletionCreateParams\u001b[49m\u001b[43m,\u001b[49m\n\u001b[0;32m    316\u001b[0m \u001b[43m        \u001b[49m\u001b[43m)\u001b[49m\u001b[43m,\u001b[49m\n\u001b[0;32m    317\u001b[0m \u001b[43m        \u001b[49m\u001b[43moptions\u001b[49m\u001b[38;5;241;43m=\u001b[39;49m\u001b[43mmake_request_options\u001b[49m\u001b[43m(\u001b[49m\n\u001b[0;32m    318\u001b[0m \u001b[43m            \u001b[49m\u001b[43mextra_headers\u001b[49m\u001b[38;5;241;43m=\u001b[39;49m\u001b[43mextra_headers\u001b[49m\u001b[43m,\u001b[49m\u001b[43m \u001b[49m\u001b[43mextra_query\u001b[49m\u001b[38;5;241;43m=\u001b[39;49m\u001b[43mextra_query\u001b[49m\u001b[43m,\u001b[49m\u001b[43m \u001b[49m\u001b[43mextra_body\u001b[49m\u001b[38;5;241;43m=\u001b[39;49m\u001b[43mextra_body\u001b[49m\u001b[43m,\u001b[49m\u001b[43m \u001b[49m\u001b[43mtimeout\u001b[49m\u001b[38;5;241;43m=\u001b[39;49m\u001b[43mtimeout\u001b[49m\n\u001b[0;32m    319\u001b[0m \u001b[43m        \u001b[49m\u001b[43m)\u001b[49m\u001b[43m,\u001b[49m\n\u001b[0;32m    320\u001b[0m \u001b[43m        \u001b[49m\u001b[43mcast_to\u001b[49m\u001b[38;5;241;43m=\u001b[39;49m\u001b[43mChatCompletion\u001b[49m\u001b[43m,\u001b[49m\n\u001b[0;32m    321\u001b[0m \u001b[43m        \u001b[49m\u001b[43mstream\u001b[49m\u001b[38;5;241;43m=\u001b[39;49m\u001b[43mstream\u001b[49m\u001b[43m \u001b[49m\u001b[38;5;129;43;01mor\u001b[39;49;00m\u001b[43m \u001b[49m\u001b[38;5;28;43;01mFalse\u001b[39;49;00m\u001b[43m,\u001b[49m\n\u001b[0;32m    322\u001b[0m \u001b[43m        \u001b[49m\u001b[43mstream_cls\u001b[49m\u001b[38;5;241;43m=\u001b[39;49m\u001b[43mStream\u001b[49m\u001b[43m[\u001b[49m\u001b[43mChatCompletionChunk\u001b[49m\u001b[43m]\u001b[49m\u001b[43m,\u001b[49m\n\u001b[0;32m    323\u001b[0m \u001b[43m    \u001b[49m\u001b[43m)\u001b[49m\n",
      "File \u001b[1;32mc:\\Users\\nakka\\AppData\\Local\\Programs\\Python\\Python312\\Lib\\site-packages\\groq\\_base_client.py:1225\u001b[0m, in \u001b[0;36mSyncAPIClient.post\u001b[1;34m(self, path, cast_to, body, options, files, stream, stream_cls)\u001b[0m\n\u001b[0;32m   1211\u001b[0m \u001b[38;5;28;01mdef\u001b[39;00m \u001b[38;5;21mpost\u001b[39m(\n\u001b[0;32m   1212\u001b[0m     \u001b[38;5;28mself\u001b[39m,\n\u001b[0;32m   1213\u001b[0m     path: \u001b[38;5;28mstr\u001b[39m,\n\u001b[1;32m   (...)\u001b[0m\n\u001b[0;32m   1220\u001b[0m     stream_cls: \u001b[38;5;28mtype\u001b[39m[_StreamT] \u001b[38;5;241m|\u001b[39m \u001b[38;5;28;01mNone\u001b[39;00m \u001b[38;5;241m=\u001b[39m \u001b[38;5;28;01mNone\u001b[39;00m,\n\u001b[0;32m   1221\u001b[0m ) \u001b[38;5;241m-\u001b[39m\u001b[38;5;241m>\u001b[39m ResponseT \u001b[38;5;241m|\u001b[39m _StreamT:\n\u001b[0;32m   1222\u001b[0m     opts \u001b[38;5;241m=\u001b[39m FinalRequestOptions\u001b[38;5;241m.\u001b[39mconstruct(\n\u001b[0;32m   1223\u001b[0m         method\u001b[38;5;241m=\u001b[39m\u001b[38;5;124m\"\u001b[39m\u001b[38;5;124mpost\u001b[39m\u001b[38;5;124m\"\u001b[39m, url\u001b[38;5;241m=\u001b[39mpath, json_data\u001b[38;5;241m=\u001b[39mbody, files\u001b[38;5;241m=\u001b[39mto_httpx_files(files), \u001b[38;5;241m*\u001b[39m\u001b[38;5;241m*\u001b[39moptions\n\u001b[0;32m   1224\u001b[0m     )\n\u001b[1;32m-> 1225\u001b[0m     \u001b[38;5;28;01mreturn\u001b[39;00m cast(ResponseT, \u001b[38;5;28;43mself\u001b[39;49m\u001b[38;5;241;43m.\u001b[39;49m\u001b[43mrequest\u001b[49m\u001b[43m(\u001b[49m\u001b[43mcast_to\u001b[49m\u001b[43m,\u001b[49m\u001b[43m \u001b[49m\u001b[43mopts\u001b[49m\u001b[43m,\u001b[49m\u001b[43m \u001b[49m\u001b[43mstream\u001b[49m\u001b[38;5;241;43m=\u001b[39;49m\u001b[43mstream\u001b[49m\u001b[43m,\u001b[49m\u001b[43m \u001b[49m\u001b[43mstream_cls\u001b[49m\u001b[38;5;241;43m=\u001b[39;49m\u001b[43mstream_cls\u001b[49m\u001b[43m)\u001b[49m)\n",
      "File \u001b[1;32mc:\\Users\\nakka\\AppData\\Local\\Programs\\Python\\Python312\\Lib\\site-packages\\groq\\_base_client.py:920\u001b[0m, in \u001b[0;36mSyncAPIClient.request\u001b[1;34m(self, cast_to, options, remaining_retries, stream, stream_cls)\u001b[0m\n\u001b[0;32m    911\u001b[0m \u001b[38;5;28;01mdef\u001b[39;00m \u001b[38;5;21mrequest\u001b[39m(\n\u001b[0;32m    912\u001b[0m     \u001b[38;5;28mself\u001b[39m,\n\u001b[0;32m    913\u001b[0m     cast_to: Type[ResponseT],\n\u001b[1;32m   (...)\u001b[0m\n\u001b[0;32m    918\u001b[0m     stream_cls: \u001b[38;5;28mtype\u001b[39m[_StreamT] \u001b[38;5;241m|\u001b[39m \u001b[38;5;28;01mNone\u001b[39;00m \u001b[38;5;241m=\u001b[39m \u001b[38;5;28;01mNone\u001b[39;00m,\n\u001b[0;32m    919\u001b[0m ) \u001b[38;5;241m-\u001b[39m\u001b[38;5;241m>\u001b[39m ResponseT \u001b[38;5;241m|\u001b[39m _StreamT:\n\u001b[1;32m--> 920\u001b[0m     \u001b[38;5;28;01mreturn\u001b[39;00m \u001b[38;5;28;43mself\u001b[39;49m\u001b[38;5;241;43m.\u001b[39;49m\u001b[43m_request\u001b[49m\u001b[43m(\u001b[49m\n\u001b[0;32m    921\u001b[0m \u001b[43m        \u001b[49m\u001b[43mcast_to\u001b[49m\u001b[38;5;241;43m=\u001b[39;49m\u001b[43mcast_to\u001b[49m\u001b[43m,\u001b[49m\n\u001b[0;32m    922\u001b[0m \u001b[43m        \u001b[49m\u001b[43moptions\u001b[49m\u001b[38;5;241;43m=\u001b[39;49m\u001b[43moptions\u001b[49m\u001b[43m,\u001b[49m\n\u001b[0;32m    923\u001b[0m \u001b[43m        \u001b[49m\u001b[43mstream\u001b[49m\u001b[38;5;241;43m=\u001b[39;49m\u001b[43mstream\u001b[49m\u001b[43m,\u001b[49m\n\u001b[0;32m    924\u001b[0m \u001b[43m        \u001b[49m\u001b[43mstream_cls\u001b[49m\u001b[38;5;241;43m=\u001b[39;49m\u001b[43mstream_cls\u001b[49m\u001b[43m,\u001b[49m\n\u001b[0;32m    925\u001b[0m \u001b[43m        \u001b[49m\u001b[43mremaining_retries\u001b[49m\u001b[38;5;241;43m=\u001b[39;49m\u001b[43mremaining_retries\u001b[49m\u001b[43m,\u001b[49m\n\u001b[0;32m    926\u001b[0m \u001b[43m    \u001b[49m\u001b[43m)\u001b[49m\n",
      "File \u001b[1;32mc:\\Users\\nakka\\AppData\\Local\\Programs\\Python\\Python312\\Lib\\site-packages\\groq\\_base_client.py:1003\u001b[0m, in \u001b[0;36mSyncAPIClient._request\u001b[1;34m(self, cast_to, options, remaining_retries, stream, stream_cls)\u001b[0m\n\u001b[0;32m   1001\u001b[0m \u001b[38;5;28;01mif\u001b[39;00m retries \u001b[38;5;241m>\u001b[39m \u001b[38;5;241m0\u001b[39m \u001b[38;5;129;01mand\u001b[39;00m \u001b[38;5;28mself\u001b[39m\u001b[38;5;241m.\u001b[39m_should_retry(err\u001b[38;5;241m.\u001b[39mresponse):\n\u001b[0;32m   1002\u001b[0m     err\u001b[38;5;241m.\u001b[39mresponse\u001b[38;5;241m.\u001b[39mclose()\n\u001b[1;32m-> 1003\u001b[0m     \u001b[38;5;28;01mreturn\u001b[39;00m \u001b[38;5;28;43mself\u001b[39;49m\u001b[38;5;241;43m.\u001b[39;49m\u001b[43m_retry_request\u001b[49m\u001b[43m(\u001b[49m\n\u001b[0;32m   1004\u001b[0m \u001b[43m        \u001b[49m\u001b[43moptions\u001b[49m\u001b[43m,\u001b[49m\n\u001b[0;32m   1005\u001b[0m \u001b[43m        \u001b[49m\u001b[43mcast_to\u001b[49m\u001b[43m,\u001b[49m\n\u001b[0;32m   1006\u001b[0m \u001b[43m        \u001b[49m\u001b[43mretries\u001b[49m\u001b[43m,\u001b[49m\n\u001b[0;32m   1007\u001b[0m \u001b[43m        \u001b[49m\u001b[43merr\u001b[49m\u001b[38;5;241;43m.\u001b[39;49m\u001b[43mresponse\u001b[49m\u001b[38;5;241;43m.\u001b[39;49m\u001b[43mheaders\u001b[49m\u001b[43m,\u001b[49m\n\u001b[0;32m   1008\u001b[0m \u001b[43m        \u001b[49m\u001b[43mstream\u001b[49m\u001b[38;5;241;43m=\u001b[39;49m\u001b[43mstream\u001b[49m\u001b[43m,\u001b[49m\n\u001b[0;32m   1009\u001b[0m \u001b[43m        \u001b[49m\u001b[43mstream_cls\u001b[49m\u001b[38;5;241;43m=\u001b[39;49m\u001b[43mstream_cls\u001b[49m\u001b[43m,\u001b[49m\n\u001b[0;32m   1010\u001b[0m \u001b[43m    \u001b[49m\u001b[43m)\u001b[49m\n\u001b[0;32m   1012\u001b[0m \u001b[38;5;66;03m# If the response is streamed then we need to explicitly read the response\u001b[39;00m\n\u001b[0;32m   1013\u001b[0m \u001b[38;5;66;03m# to completion before attempting to access the response text.\u001b[39;00m\n\u001b[0;32m   1014\u001b[0m \u001b[38;5;28;01mif\u001b[39;00m \u001b[38;5;129;01mnot\u001b[39;00m err\u001b[38;5;241m.\u001b[39mresponse\u001b[38;5;241m.\u001b[39mis_closed:\n",
      "File \u001b[1;32mc:\\Users\\nakka\\AppData\\Local\\Programs\\Python\\Python312\\Lib\\site-packages\\groq\\_base_client.py:1051\u001b[0m, in \u001b[0;36mSyncAPIClient._retry_request\u001b[1;34m(self, options, cast_to, remaining_retries, response_headers, stream, stream_cls)\u001b[0m\n\u001b[0;32m   1047\u001b[0m \u001b[38;5;66;03m# In a synchronous context we are blocking the entire thread. Up to the library user to run the client in a\u001b[39;00m\n\u001b[0;32m   1048\u001b[0m \u001b[38;5;66;03m# different thread if necessary.\u001b[39;00m\n\u001b[0;32m   1049\u001b[0m time\u001b[38;5;241m.\u001b[39msleep(timeout)\n\u001b[1;32m-> 1051\u001b[0m \u001b[38;5;28;01mreturn\u001b[39;00m \u001b[38;5;28;43mself\u001b[39;49m\u001b[38;5;241;43m.\u001b[39;49m\u001b[43m_request\u001b[49m\u001b[43m(\u001b[49m\n\u001b[0;32m   1052\u001b[0m \u001b[43m    \u001b[49m\u001b[43moptions\u001b[49m\u001b[38;5;241;43m=\u001b[39;49m\u001b[43moptions\u001b[49m\u001b[43m,\u001b[49m\n\u001b[0;32m   1053\u001b[0m \u001b[43m    \u001b[49m\u001b[43mcast_to\u001b[49m\u001b[38;5;241;43m=\u001b[39;49m\u001b[43mcast_to\u001b[49m\u001b[43m,\u001b[49m\n\u001b[0;32m   1054\u001b[0m \u001b[43m    \u001b[49m\u001b[43mremaining_retries\u001b[49m\u001b[38;5;241;43m=\u001b[39;49m\u001b[43mremaining\u001b[49m\u001b[43m,\u001b[49m\n\u001b[0;32m   1055\u001b[0m \u001b[43m    \u001b[49m\u001b[43mstream\u001b[49m\u001b[38;5;241;43m=\u001b[39;49m\u001b[43mstream\u001b[49m\u001b[43m,\u001b[49m\n\u001b[0;32m   1056\u001b[0m \u001b[43m    \u001b[49m\u001b[43mstream_cls\u001b[49m\u001b[38;5;241;43m=\u001b[39;49m\u001b[43mstream_cls\u001b[49m\u001b[43m,\u001b[49m\n\u001b[0;32m   1057\u001b[0m \u001b[43m\u001b[49m\u001b[43m)\u001b[49m\n",
      "File \u001b[1;32mc:\\Users\\nakka\\AppData\\Local\\Programs\\Python\\Python312\\Lib\\site-packages\\groq\\_base_client.py:1018\u001b[0m, in \u001b[0;36mSyncAPIClient._request\u001b[1;34m(self, cast_to, options, remaining_retries, stream, stream_cls)\u001b[0m\n\u001b[0;32m   1015\u001b[0m         err\u001b[38;5;241m.\u001b[39mresponse\u001b[38;5;241m.\u001b[39mread()\n\u001b[0;32m   1017\u001b[0m     log\u001b[38;5;241m.\u001b[39mdebug(\u001b[38;5;124m\"\u001b[39m\u001b[38;5;124mRe-raising status error\u001b[39m\u001b[38;5;124m\"\u001b[39m)\n\u001b[1;32m-> 1018\u001b[0m     \u001b[38;5;28;01mraise\u001b[39;00m \u001b[38;5;28mself\u001b[39m\u001b[38;5;241m.\u001b[39m_make_status_error_from_response(err\u001b[38;5;241m.\u001b[39mresponse) \u001b[38;5;28;01mfrom\u001b[39;00m \u001b[38;5;28;01mNone\u001b[39;00m\n\u001b[0;32m   1020\u001b[0m \u001b[38;5;28;01mreturn\u001b[39;00m \u001b[38;5;28mself\u001b[39m\u001b[38;5;241m.\u001b[39m_process_response(\n\u001b[0;32m   1021\u001b[0m     cast_to\u001b[38;5;241m=\u001b[39mcast_to,\n\u001b[0;32m   1022\u001b[0m     options\u001b[38;5;241m=\u001b[39moptions,\n\u001b[1;32m   (...)\u001b[0m\n\u001b[0;32m   1025\u001b[0m     stream_cls\u001b[38;5;241m=\u001b[39mstream_cls,\n\u001b[0;32m   1026\u001b[0m )\n",
      "\u001b[1;31mInternalServerError\u001b[0m: Error code: 503 - {'error': {'message': 'Service Unavailable', 'type': 'internal_server_error'}}"
     ]
    }
   ],
   "source": [
    "for record in tqdm(sample):\n",
    "    question = record['question']\n",
    "    answer_llm = rag(question) \n",
    "\n",
    "    prompt = prompt2_template.format(\n",
    "        question=question,\n",
    "        answer_llm=answer_llm\n",
    "    )\n",
    "\n",
    "    evaluation = llm(prompt)\n",
    "\n",
    "    # Log the evaluation to inspect if it's valid JSON\n",
    "    print(f\"Evaluation for question {question}: {evaluation}\")\n",
    "\n",
    "    try:\n",
    "        # Try to parse the evaluation response as JSON\n",
    "        evaluation = json.loads(evaluation)\n",
    "    except json.JSONDecodeError as e:\n",
    "        # Handle JSON decode errors gracefully\n",
    "        print(f\"JSONDecodeError for question {question}: {e}\")\n",
    "        evaluation = None  # You can decide what to do in case of error\n",
    "\n",
    "    evaluations.append((record, answer_llm, evaluation))\n"
   ]
  },
  {
   "cell_type": "code",
   "execution_count": 116,
   "metadata": {},
   "outputs": [
    {
     "data": {
      "text/plain": [
       "{'142_1': {'id': '142_1',\n",
       "  'question': 'Does almond fudge banana cake contain dairy?',\n",
       "  'answer_llm': 'Based on the context, there is no mention of dairy in the context of the almond fudge banana cake.',\n",
       "  'evaluation': {'Relevance': 'RELEVANT',\n",
       "   'Explanation': \"The, generated, answer, directly, addresses, the, question 'Does, almond, fudge, banana, cake, contain, dairy?', by, stating, that, there, is, no, mention, of, dairy, in, the, context, of, the, cake,, providing, a, clear, and, accurate, response, to, the, question.\"}}}"
      ]
     },
     "execution_count": 116,
     "metadata": {},
     "output_type": "execute_result"
    }
   ],
   "source": [
    "evaluations"
   ]
  },
  {
   "cell_type": "code",
   "execution_count": 117,
   "metadata": {},
   "outputs": [],
   "source": [
    "df_eval = pd.DataFrame(evaluations).T"
   ]
  },
  {
   "cell_type": "code",
   "execution_count": 118,
   "metadata": {},
   "outputs": [
    {
     "data": {
      "text/html": [
       "<div>\n",
       "<style scoped>\n",
       "    .dataframe tbody tr th:only-of-type {\n",
       "        vertical-align: middle;\n",
       "    }\n",
       "\n",
       "    .dataframe tbody tr th {\n",
       "        vertical-align: top;\n",
       "    }\n",
       "\n",
       "    .dataframe thead th {\n",
       "        text-align: right;\n",
       "    }\n",
       "</style>\n",
       "<table border=\"1\" class=\"dataframe\">\n",
       "  <thead>\n",
       "    <tr style=\"text-align: right;\">\n",
       "      <th></th>\n",
       "      <th>id</th>\n",
       "      <th>question</th>\n",
       "      <th>answer_llm</th>\n",
       "      <th>evaluation</th>\n",
       "    </tr>\n",
       "  </thead>\n",
       "  <tbody>\n",
       "    <tr>\n",
       "      <th>142_1</th>\n",
       "      <td>142_1</td>\n",
       "      <td>Does almond fudge banana cake contain dairy?</td>\n",
       "      <td>Based on the context, there is no mention of dairy in the context of the almond fudge banana cake.</td>\n",
       "      <td>{'Relevance': 'RELEVANT', 'Explanation': 'The, generated, answer, directly, addresses, the, question 'Does, almond, fudge, banana, cake, contain, dairy?', by, stating, that, there, is, no, mention, of, dairy, in, the, context, of, the, cake,, providing, a, clear, and, accurate, response, to, the, question.'}</td>\n",
       "    </tr>\n",
       "  </tbody>\n",
       "</table>\n",
       "</div>"
      ],
      "text/plain": [
       "          id                                      question  \\\n",
       "142_1  142_1  Does almond fudge banana cake contain dairy?   \n",
       "\n",
       "                                                                                               answer_llm  \\\n",
       "142_1  Based on the context, there is no mention of dairy in the context of the almond fudge banana cake.   \n",
       "\n",
       "                                                                                                                                                                                                                                                                                                                  evaluation  \n",
       "142_1  {'Relevance': 'RELEVANT', 'Explanation': 'The, generated, answer, directly, addresses, the, question 'Does, almond, fudge, banana, cake, contain, dairy?', by, stating, that, there, is, no, mention, of, dairy, in, the, context, of, the, cake,, providing, a, clear, and, accurate, response, to, the, question.'}  "
      ]
     },
     "execution_count": 118,
     "metadata": {},
     "output_type": "execute_result"
    }
   ],
   "source": [
    "df_eval"
   ]
  },
  {
   "cell_type": "markdown",
   "metadata": {},
   "source": [
    "## RAG EVALUATION"
   ]
  },
  {
   "cell_type": "code",
   "execution_count": 123,
   "metadata": {},
   "outputs": [],
   "source": [
    "prompt2_template = \"\"\"\n",
    "You are an expert evaluator for a RAG system.\n",
    "Your task is to analyze the relevance of the generated answer to the given question.\n",
    "Based on the relevance of the generated answer, you will classify it\n",
    "as \"NON_RELEVANT\", \"PARTLY_RELEVANT\", or \"RELEVANT\".\n",
    "\n",
    "Here is the data for evaluation:\n",
    "\n",
    "Question: {question}\n",
    "Generated Answer: {answer_llm}\n",
    "\n",
    "Please analyze the content and context of the generated answer in relation to the question\n",
    "and provide your evaluation in parsable JSON without using code blocks:\n",
    "\n",
    "{{\n",
    "  \"Relevance\": \"NON_RELEVANT\" | \"PARTLY_RELEVANT\" | \"RELEVANT\",\n",
    "  \"Explanation\": \"[Provide a brief explanation for your evaluation]\"\n",
    "}}\n",
    "\"\"\".strip()"
   ]
  },
  {
   "cell_type": "code",
   "execution_count": 124,
   "metadata": {},
   "outputs": [
    {
     "data": {
      "text/plain": [
       "16527"
      ]
     },
     "execution_count": 124,
     "metadata": {},
     "output_type": "execute_result"
    }
   ],
   "source": [
    "len(ground_truth)\n"
   ]
  },
  {
   "cell_type": "code",
   "execution_count": 125,
   "metadata": {},
   "outputs": [],
   "source": [
    "record = ground_truth[0]\n"
   ]
  },
  {
   "cell_type": "code",
   "execution_count": 126,
   "metadata": {},
   "outputs": [
    {
     "name": "stdout",
     "output_type": "stream",
     "text": [
      "Based on the CONTEXT, the salt content in the Almond Fudge Banana Cake is:\n",
      "\n",
      "Answer: The almond fudge banana cake has 10 grams of sodium (PDV).\n"
     ]
    }
   ],
   "source": [
    "print(answer_llm)\n"
   ]
  },
  {
   "cell_type": "code",
   "execution_count": 127,
   "metadata": {},
   "outputs": [
    {
     "name": "stdout",
     "output_type": "stream",
     "text": [
      "You are an expert evaluator for a RAG system.\n",
      "Your task is to analyze the relevance of the generated answer to the given question.\n",
      "Based on the relevance of the generated answer, you will classify it\n",
      "as \"NON_RELEVANT\", \"PARTLY_RELEVANT\", or \"RELEVANT\".\n",
      "\n",
      "Here is the data for evaluation:\n",
      "\n",
      "Question: What's the salt content in the Almond Fudge Banana Cake?\n",
      "Generated Answer: Based on the CONTEXT, the salt content in the Almond Fudge Banana Cake is:\n",
      "\n",
      "Answer: The almond fudge banana cake has 10 grams of sodium (PDV).\n",
      "\n",
      "Please analyze the content and context of the generated answer in relation to the question\n",
      "and provide your evaluation in parsable JSON without using code blocks:\n",
      "\n",
      "{\n",
      "  \"Relevance\": \"NON_RELEVANT\" | \"PARTLY_RELEVANT\" | \"RELEVANT\",\n",
      "  \"Explanation\": \"[Provide a brief explanation for your evaluation]\"\n",
      "}\n"
     ]
    }
   ],
   "source": [
    "prompt = prompt2_template.format(question=question, answer_llm=answer_llm)\n",
    "print(prompt)"
   ]
  },
  {
   "cell_type": "code",
   "execution_count": 128,
   "metadata": {},
   "outputs": [],
   "source": [
    "import json\n"
   ]
  },
  {
   "cell_type": "code",
   "execution_count": 144,
   "metadata": {},
   "outputs": [],
   "source": [
    "df_sample = ground_df.sample(n=50, random_state=1)\n"
   ]
  },
  {
   "cell_type": "code",
   "execution_count": 145,
   "metadata": {},
   "outputs": [],
   "source": [
    "sample = df_sample.to_dict(orient='records')\n"
   ]
  },
  {
   "cell_type": "code",
   "execution_count": 146,
   "metadata": {},
   "outputs": [
    {
     "data": {
      "application/vnd.jupyter.widget-view+json": {
       "model_id": "4ac31adaffae4c5796828de03c09c7e8",
       "version_major": 2,
       "version_minor": 0
      },
      "text/plain": [
       "  0%|          | 0/50 [00:00<?, ?it/s]"
      ]
     },
     "metadata": {},
     "output_type": "display_data"
    }
   ],
   "source": [
    "evaluations = []\n",
    "\n",
    "for record in tqdm(sample):\n",
    "    question = record['question']\n",
    "    answer_llm = rag(question) \n",
    "\n",
    "    prompt = prompt2_template.format(\n",
    "        question=question,\n",
    "        answer_llm=answer_llm\n",
    "    )\n",
    "\n",
    "    evaluation = llm(prompt)\n",
    "    evaluation = json.loads(evaluation)\n",
    "\n",
    "    evaluations.append((record, answer_llm, evaluation))"
   ]
  },
  {
   "cell_type": "code",
   "execution_count": 147,
   "metadata": {},
   "outputs": [],
   "source": [
    "df_eval = pd.DataFrame(evaluations, columns=['record', 'answer', 'evaluation'])\n",
    "\n",
    "df_eval['id'] = df_eval.record.apply(lambda d: d['id'])\n",
    "df_eval['question'] = df_eval.record.apply(lambda d: d['question'])\n",
    "\n",
    "df_eval['relevance'] = df_eval.evaluation.apply(lambda d: d['Relevance'])\n",
    "df_eval['explanation'] = df_eval.evaluation.apply(lambda d: d['Explanation'])\n",
    "\n",
    "del df_eval['record']\n",
    "del df_eval['evaluation']"
   ]
  },
  {
   "cell_type": "code",
   "execution_count": 148,
   "metadata": {},
   "outputs": [
    {
     "data": {
      "text/plain": [
       "relevance\n",
       "RELEVANT           0.38\n",
       "PARTLY_RELEVANT    0.36\n",
       "NON_RELEVANT       0.26\n",
       "Name: proportion, dtype: float64"
      ]
     },
     "execution_count": 148,
     "metadata": {},
     "output_type": "execute_result"
    }
   ],
   "source": [
    "df_eval.relevance.value_counts(normalize=True)\n"
   ]
  },
  {
   "cell_type": "code",
   "execution_count": 150,
   "metadata": {},
   "outputs": [],
   "source": [
    "df_eval.to_csv(input_data_folder+'rag-eval-gpt-3.5-turbo.csv', index=False)\n"
   ]
  },
  {
   "cell_type": "code",
   "execution_count": 152,
   "metadata": {},
   "outputs": [
    {
     "data": {
      "text/html": [
       "<div>\n",
       "<style scoped>\n",
       "    .dataframe tbody tr th:only-of-type {\n",
       "        vertical-align: middle;\n",
       "    }\n",
       "\n",
       "    .dataframe tbody tr th {\n",
       "        vertical-align: top;\n",
       "    }\n",
       "\n",
       "    .dataframe thead th {\n",
       "        text-align: right;\n",
       "    }\n",
       "</style>\n",
       "<table border=\"1\" class=\"dataframe\">\n",
       "  <thead>\n",
       "    <tr style=\"text-align: right;\">\n",
       "      <th></th>\n",
       "      <th>answer</th>\n",
       "      <th>id</th>\n",
       "      <th>question</th>\n",
       "      <th>relevance</th>\n",
       "      <th>explanation</th>\n",
       "    </tr>\n",
       "  </thead>\n",
       "  <tbody>\n",
       "    <tr>\n",
       "      <th>0</th>\n",
       "      <td>The cod cakes are fried in a skillet for 4-5 minutes on each side until they are golden brown, so yes, they are browned on both sides.</td>\n",
       "      <td>11252_10</td>\n",
       "      <td>Are the cod cakes browned on both sides</td>\n",
       "      <td>RELEVANT</td>\n",
       "      <td>The generated answer directly addresses the question by confirming that the cod cakes are browned on both sides after being fried in a skillet for 4-5 minutes. It provides a clear and relevant response to the question.</td>\n",
       "    </tr>\n",
       "    <tr>\n",
       "      <th>4</th>\n",
       "      <td>Section: prep_time\\nQuestion: What is the prep time for Milky Way Lover's Pound Cake?\\nAnswer: The prep time for Milky Way Lover's Pound Cake is 30 minutes.</td>\n",
       "      <td>31334_9</td>\n",
       "      <td>Milky Way Lover's Pound Cake prep time</td>\n",
       "      <td>RELEVANT</td>\n",
       "      <td>The generated answer directly addresses the question by providing the specific prep time of 30 minutes for Milky Way Lover's Pound Cake. It is fully relevant to the question asked.</td>\n",
       "    </tr>\n",
       "    <tr>\n",
       "      <th>7</th>\n",
       "      <td>No, the rhubarb stir cake does not have a high carb count. It contains 17 grams of carbohydrates.</td>\n",
       "      <td>14457_8</td>\n",
       "      <td>Does the rhubarb stir cake have a high carb count?</td>\n",
       "      <td>RELEVANT</td>\n",
       "      <td>The generated answer directly addresses the question by stating that the rhubarb stir cake does not have a high carb count. It also provides specific information about the amount of carbohydrates it contains (17 grams), which further supports its relevance to the question.</td>\n",
       "    </tr>\n",
       "    <tr>\n",
       "      <th>9</th>\n",
       "      <td>Section: nutritional\\nQuestion: What is the fat content of the key lime cheesecake squares?\\nAnswer: The key lime cheesecake squares has 6 grams of total fat (PDV).</td>\n",
       "      <td>18007_7</td>\n",
       "      <td>What's the fat content of the key lime cheesecake squares?</td>\n",
       "      <td>RELEVANT</td>\n",
       "      <td>The generated answer directly addresses the fat content of the key lime cheesecake squares mentioned in the question, providing the specific amount of total fat (6 grams). This indicates a clear and accurate answer to the question asked.</td>\n",
       "    </tr>\n",
       "    <tr>\n",
       "      <th>11</th>\n",
       "      <td>Instruction for baking the 1 Pan Fudge Cake:\\n1. Preheat oven to 350 degrees\\n2. In an ungreased 9 x 13 pan (yes ungreased), sift all dry ingredients\\n3. Add the liquids and stir just until blended\\n4. Bake for 25 minutes\\n5. Frost with your favorite frosting, cake is extremely moist so care must be taken that you don't tear up the top of the cake.</td>\n",
       "      <td>29935_10</td>\n",
       "      <td>What's the instruction for baking the 1 Pan Fudge Cake?</td>\n",
       "      <td>RELEVANT</td>\n",
       "      <td>The generated answer provides the step-by-step instructions for baking the 1 Pan Fudge Cake as requested in the question. It includes details such as preheating the oven, using an ungreased pan, sifting dry ingredients, adding liquids, baking time, and frosting the cake. The answer directly addresses the question and is relevant to the topic.</td>\n",
       "    </tr>\n",
       "    <tr>\n",
       "      <th>13</th>\n",
       "      <td>Section: ingredients\\nQuestion: Tell me the Million Dollar Pound Cake's composition?\\nAnswer: The million dollar pound cake contains the following ingredients: butter, sugar, eggs, all-purpose flour, milk, almond extract, vanilla extract.</td>\n",
       "      <td>16489_1</td>\n",
       "      <td>Tell me the Million Dollar Pound Cake's composition?</td>\n",
       "      <td>RELEVANT</td>\n",
       "      <td>The answer directly provides the composition of the Million Dollar Pound Cake, listing all the ingredients included.</td>\n",
       "    </tr>\n",
       "    <tr>\n",
       "      <th>14</th>\n",
       "      <td>Yes, based on the nutritional information provided, carrot snack cake is likely a sweet dish as it contains 46 grams of sugar.</td>\n",
       "      <td>8847_14</td>\n",
       "      <td>Is carrot snack cake a sweet dish?</td>\n",
       "      <td>RELEVANT</td>\n",
       "      <td>The generated answer directly answers the question by confirming that carrot snack cake is indeed a sweet dish based on the high sugar content mentioned in the nutritional information provided. The answer is clear and directly relevant to the question.</td>\n",
       "    </tr>\n",
       "    <tr>\n",
       "      <th>18</th>\n",
       "      <td>No, the Momma's Fair Funnel Cake is not high in salt as it only contains 16 grams of sodium.</td>\n",
       "      <td>916_5</td>\n",
       "      <td>Is the Momma's Fair Funnel Cake high in salt?</td>\n",
       "      <td>RELEVANT</td>\n",
       "      <td>The generated answer directly addresses the question by stating that Momma's Fair Funnel Cake is not high in salt and provides a specific amount of sodium it contains. This information is relevant as it directly addresses the salt content of the funnel cake.</td>\n",
       "    </tr>\n",
       "    <tr>\n",
       "      <th>21</th>\n",
       "      <td>The peach upside down pudding cake contains 413.0 calories.</td>\n",
       "      <td>19324_2</td>\n",
       "      <td>How many calories does the peach upside down pudding cake contain</td>\n",
       "      <td>RELEVANT</td>\n",
       "      <td>The generated answer directly addresses the question by providing the specific number of calories in the peach upside down pudding cake, which is 413.0 calories. This makes the answer relevant to the question asked.</td>\n",
       "    </tr>\n",
       "    <tr>\n",
       "      <th>23</th>\n",
       "      <td>Flavor profile: The 7 up pound cake has a lemon-lime flavor profile.</td>\n",
       "      <td>2923_14</td>\n",
       "      <td>What flavor profile does 7 up pound cake have?</td>\n",
       "      <td>RELEVANT</td>\n",
       "      <td>The generated answer directly addresses the question by stating that the 7 up pound cake has a lemon-lime flavor profile, which is relevant to the flavor profile of the cake.</td>\n",
       "    </tr>\n",
       "    <tr>\n",
       "      <th>24</th>\n",
       "      <td>QUESTION: What's the secret to achieving the Depression Fudge cake's rich color?\\n\\nANSWER: The secret to achieving the rich color of the Depression Fudge cake is the cocoa used in the recipe.</td>\n",
       "      <td>12313_13</td>\n",
       "      <td>What's the secret to achieving the Depression Fudge cake's rich color</td>\n",
       "      <td>RELEVANT</td>\n",
       "      <td>The generated answer directly addresses the question by identifying the cocoa as the secret to achieving the rich color of the Depression Fudge cake. It provides a clear and relevant response to the question asked.</td>\n",
       "    </tr>\n",
       "    <tr>\n",
       "      <th>25</th>\n",
       "      <td>Section: nutritional\\nQuestion: What is the sodium level in the flourless chocolate oh so good molten cake?\\nAnswer: The flourless chocolate oh so good molten cake has 1 gram of sodium.</td>\n",
       "      <td>29801_5</td>\n",
       "      <td>What's the sodium level in the flourless chocolate oh so good molten cake?</td>\n",
       "      <td>RELEVANT</td>\n",
       "      <td>The generated answer directly addresses the sodium level in the flourless chocolate oh so good molten cake, providing the specific amount of sodium present in the cake. This makes the answer relevant to the question asked.</td>\n",
       "    </tr>\n",
       "    <tr>\n",
       "      <th>27</th>\n",
       "      <td>Question: Would I gain weight eating Hand Me Down Chocolate Cake?\\n\\nAnswer: Based on the nutritional information provided, the hand me down chocolate cake is high in total fat, saturated fat, and calories. Consuming it regularly may contribute to weight gain.</td>\n",
       "      <td>9363_15</td>\n",
       "      <td>Would I gain weight eating Hand Me Down Chocolate Cake?</td>\n",
       "      <td>RELEVANT</td>\n",
       "      <td>The generated answer directly addresses the question by providing information on the potential impact of eating Hand Me Down Chocolate Cake on weight gain. It mentions the cake's high fat and calorie content, which is relevant to the question asked.</td>\n",
       "    </tr>\n",
       "    <tr>\n",
       "      <th>28</th>\n",
       "      <td>Section: nutritional\\nQuestion: What is the sugar content?\\nAnswer: The cheesecake kugel has 36 grams of sugar (PDV).</td>\n",
       "      <td>13178_4</td>\n",
       "      <td>Can you tell me about the sugar content of the cheesecake kugel?</td>\n",
       "      <td>RELEVANT</td>\n",
       "      <td>The answer directly provides the requested information about the sugar content of the cheesecake kugel, stating that it has 36 grams of sugar. Therefore, the answer is relevant to the question asked.</td>\n",
       "    </tr>\n",
       "    <tr>\n",
       "      <th>31</th>\n",
       "      <td>QUESTION: How does the original frosting compare to other frosting options for German Chocolate Cake?\\n\\nAnswer: The German Chocolate Cake frosting is the original topping for this specific cake and is a traditional favorite. It is known for its rich, sweet, and coconut-pecan flavor profile. Other frosting options may vary in taste and texture, but the original frosting is what typically defines the classic German Chocolate Cake.</td>\n",
       "      <td>10468_13</td>\n",
       "      <td>How does the original frosting compare to other frosting options for German Chocolate Cake?</td>\n",
       "      <td>RELEVANT</td>\n",
       "      <td>The generated answer directly addresses the question by discussing how the original frosting for German Chocolate Cake compares to other frosting options. It provides information on the specific characteristics of the original frosting and how it is traditionally favored for this cake.</td>\n",
       "    </tr>\n",
       "    <tr>\n",
       "      <th>32</th>\n",
       "      <td>\\n\\nSection: nutritional\\nQuestion: What is the protein content?\\nAnswer: The marbled cheesecake brownies has 7 grams of protein (PDV).</td>\n",
       "      <td>26912_6</td>\n",
       "      <td>Can I have more information about the protein in the marbled cheesecake brownies?</td>\n",
       "      <td>RELEVANT</td>\n",
       "      <td>The generated answer directly addresses the question by providing the specific protein content of the marbled cheesecake brownies, which is what was asked for in the question. It is directly relevant and provides the information requested.</td>\n",
       "    </tr>\n",
       "    <tr>\n",
       "      <th>40</th>\n",
       "      <td>Carbohydrate levels of the fudge pudding cake you are ordering are 23 grams.</td>\n",
       "      <td>13367_8</td>\n",
       "      <td>What's the carb level of the fudge pudding cake I'm ordering?</td>\n",
       "      <td>RELEVANT</td>\n",
       "      <td>The generated answer directly addresses the carb level of the fudge pudding cake being ordered, providing the specific information requested in the question.</td>\n",
       "    </tr>\n",
       "    <tr>\n",
       "      <th>41</th>\n",
       "      <td>The Spanish Lemon Cake typically has 485.7 calories.</td>\n",
       "      <td>26017_15</td>\n",
       "      <td>How many calories does Spanish Lemon Cake typically have?</td>\n",
       "      <td>RELEVANT</td>\n",
       "      <td>The generated answer directly addresses the question by providing the specific number of calories typically found in Spanish Lemon Cake. It is clear and directly relevant to the question asked.</td>\n",
       "    </tr>\n",
       "    <tr>\n",
       "      <th>46</th>\n",
       "      <td>Based on the information provided, the chocolate chocolate pudding cake with chocolate ganache is not suitable if you are watching your weight. It has a high calorie status, high sugar content, 37 grams of carbohydrates, and 120 grams of total fat.</td>\n",
       "      <td>9371_15</td>\n",
       "      <td>Can I order the Chocolate Chocolate Pudding Cake with Chocolate Ganache if I'm watching my weight?</td>\n",
       "      <td>RELEVANT</td>\n",
       "      <td>The generated answer directly addresses the question by providing information about the calorie content, sugar content, and other nutritional information of the Chocolate Chocolate Pudding Cake with Chocolate Ganache. It clearly states that it is not suitable for someone watching their weight, making it a relevant response to the question.</td>\n",
       "    </tr>\n",
       "  </tbody>\n",
       "</table>\n",
       "</div>"
      ],
      "text/plain": [
       "                                                                                                                                                                                                                                                                                                                                                                                                                                               answer  \\\n",
       "0                                                                                                                                                                                                                                                                                                              The cod cakes are fried in a skillet for 4-5 minutes on each side until they are golden brown, so yes, they are browned on both sides.   \n",
       "4                                                                                                                                                                                                                                                                                        Section: prep_time\\nQuestion: What is the prep time for Milky Way Lover's Pound Cake?\\nAnswer: The prep time for Milky Way Lover's Pound Cake is 30 minutes.   \n",
       "7                                                                                                                                                                                                                                                                                                                                                   No, the rhubarb stir cake does not have a high carb count. It contains 17 grams of carbohydrates.   \n",
       "9                                                                                                                                                                                                                                                                                Section: nutritional\\nQuestion: What is the fat content of the key lime cheesecake squares?\\nAnswer: The key lime cheesecake squares has 6 grams of total fat (PDV).   \n",
       "11                                                                                     Instruction for baking the 1 Pan Fudge Cake:\\n1. Preheat oven to 350 degrees\\n2. In an ungreased 9 x 13 pan (yes ungreased), sift all dry ingredients\\n3. Add the liquids and stir just until blended\\n4. Bake for 25 minutes\\n5. Frost with your favorite frosting, cake is extremely moist so care must be taken that you don't tear up the top of the cake.   \n",
       "13                                                                                                                                                                                                     Section: ingredients\\nQuestion: Tell me the Million Dollar Pound Cake's composition?\\nAnswer: The million dollar pound cake contains the following ingredients: butter, sugar, eggs, all-purpose flour, milk, almond extract, vanilla extract.   \n",
       "14                                                                                                                                                                                                                                                                                                                     Yes, based on the nutritional information provided, carrot snack cake is likely a sweet dish as it contains 46 grams of sugar.   \n",
       "18                                                                                                                                                                                                                                                                                                                                                       No, the Momma's Fair Funnel Cake is not high in salt as it only contains 16 grams of sodium.   \n",
       "21                                                                                                                                                                                                                                                                                                                                                                                        The peach upside down pudding cake contains 413.0 calories.   \n",
       "23                                                                                                                                                                                                                                                                                                                                                                               Flavor profile: The 7 up pound cake has a lemon-lime flavor profile.   \n",
       "24                                                                                                                                                                                                                                                   QUESTION: What's the secret to achieving the Depression Fudge cake's rich color?\\n\\nANSWER: The secret to achieving the rich color of the Depression Fudge cake is the cocoa used in the recipe.   \n",
       "25                                                                                                                                                                                                                                                          Section: nutritional\\nQuestion: What is the sodium level in the flourless chocolate oh so good molten cake?\\nAnswer: The flourless chocolate oh so good molten cake has 1 gram of sodium.   \n",
       "27                                                                                                                                                                               Question: Would I gain weight eating Hand Me Down Chocolate Cake?\\n\\nAnswer: Based on the nutritional information provided, the hand me down chocolate cake is high in total fat, saturated fat, and calories. Consuming it regularly may contribute to weight gain.   \n",
       "28                                                                                                                                                                                                                                                                                                                              Section: nutritional\\nQuestion: What is the sugar content?\\nAnswer: The cheesecake kugel has 36 grams of sugar (PDV).   \n",
       "31  QUESTION: How does the original frosting compare to other frosting options for German Chocolate Cake?\\n\\nAnswer: The German Chocolate Cake frosting is the original topping for this specific cake and is a traditional favorite. It is known for its rich, sweet, and coconut-pecan flavor profile. Other frosting options may vary in taste and texture, but the original frosting is what typically defines the classic German Chocolate Cake.   \n",
       "32                                                                                                                                                                                                                                                                                                            \\n\\nSection: nutritional\\nQuestion: What is the protein content?\\nAnswer: The marbled cheesecake brownies has 7 grams of protein (PDV).   \n",
       "40                                                                                                                                                                                                                                                                                                                                                                       Carbohydrate levels of the fudge pudding cake you are ordering are 23 grams.   \n",
       "41                                                                                                                                                                                                                                                                                                                                                                                               The Spanish Lemon Cake typically has 485.7 calories.   \n",
       "46                                                                                                                                                                                           Based on the information provided, the chocolate chocolate pudding cake with chocolate ganache is not suitable if you are watching your weight. It has a high calorie status, high sugar content, 37 grams of carbohydrates, and 120 grams of total fat.   \n",
       "\n",
       "          id  \\\n",
       "0   11252_10   \n",
       "4    31334_9   \n",
       "7    14457_8   \n",
       "9    18007_7   \n",
       "11  29935_10   \n",
       "13   16489_1   \n",
       "14   8847_14   \n",
       "18     916_5   \n",
       "21   19324_2   \n",
       "23   2923_14   \n",
       "24  12313_13   \n",
       "25   29801_5   \n",
       "27   9363_15   \n",
       "28   13178_4   \n",
       "31  10468_13   \n",
       "32   26912_6   \n",
       "40   13367_8   \n",
       "41  26017_15   \n",
       "46   9371_15   \n",
       "\n",
       "                                                                                              question  \\\n",
       "0                                                              Are the cod cakes browned on both sides   \n",
       "4                                                               Milky Way Lover's Pound Cake prep time   \n",
       "7                                                   Does the rhubarb stir cake have a high carb count?   \n",
       "9                                           What's the fat content of the key lime cheesecake squares?   \n",
       "11                                             What's the instruction for baking the 1 Pan Fudge Cake?   \n",
       "13                                                Tell me the Million Dollar Pound Cake's composition?   \n",
       "14                                                                  Is carrot snack cake a sweet dish?   \n",
       "18                                                       Is the Momma's Fair Funnel Cake high in salt?   \n",
       "21                                   How many calories does the peach upside down pudding cake contain   \n",
       "23                                                      What flavor profile does 7 up pound cake have?   \n",
       "24                               What's the secret to achieving the Depression Fudge cake's rich color   \n",
       "25                          What's the sodium level in the flourless chocolate oh so good molten cake?   \n",
       "27                                             Would I gain weight eating Hand Me Down Chocolate Cake?   \n",
       "28                                    Can you tell me about the sugar content of the cheesecake kugel?   \n",
       "31         How does the original frosting compare to other frosting options for German Chocolate Cake?   \n",
       "32                   Can I have more information about the protein in the marbled cheesecake brownies?   \n",
       "40                                       What's the carb level of the fudge pudding cake I'm ordering?   \n",
       "41                                           How many calories does Spanish Lemon Cake typically have?   \n",
       "46  Can I order the Chocolate Chocolate Pudding Cake with Chocolate Ganache if I'm watching my weight?   \n",
       "\n",
       "   relevance  \\\n",
       "0   RELEVANT   \n",
       "4   RELEVANT   \n",
       "7   RELEVANT   \n",
       "9   RELEVANT   \n",
       "11  RELEVANT   \n",
       "13  RELEVANT   \n",
       "14  RELEVANT   \n",
       "18  RELEVANT   \n",
       "21  RELEVANT   \n",
       "23  RELEVANT   \n",
       "24  RELEVANT   \n",
       "25  RELEVANT   \n",
       "27  RELEVANT   \n",
       "28  RELEVANT   \n",
       "31  RELEVANT   \n",
       "32  RELEVANT   \n",
       "40  RELEVANT   \n",
       "41  RELEVANT   \n",
       "46  RELEVANT   \n",
       "\n",
       "                                                                                                                                                                                                                                                                                                                                                 explanation  \n",
       "0                                                                                                                                 The generated answer directly addresses the question by confirming that the cod cakes are browned on both sides after being fried in a skillet for 4-5 minutes. It provides a clear and relevant response to the question.  \n",
       "4                                                                                                                                                                       The generated answer directly addresses the question by providing the specific prep time of 30 minutes for Milky Way Lover's Pound Cake. It is fully relevant to the question asked.  \n",
       "7                                                                          The generated answer directly addresses the question by stating that the rhubarb stir cake does not have a high carb count. It also provides specific information about the amount of carbohydrates it contains (17 grams), which further supports its relevance to the question.  \n",
       "9                                                                                                              The generated answer directly addresses the fat content of the key lime cheesecake squares mentioned in the question, providing the specific amount of total fat (6 grams). This indicates a clear and accurate answer to the question asked.  \n",
       "11  The generated answer provides the step-by-step instructions for baking the 1 Pan Fudge Cake as requested in the question. It includes details such as preheating the oven, using an ungreased pan, sifting dry ingredients, adding liquids, baking time, and frosting the cake. The answer directly addresses the question and is relevant to the topic.  \n",
       "13                                                                                                                                                                                                                                      The answer directly provides the composition of the Million Dollar Pound Cake, listing all the ingredients included.  \n",
       "14                                                                                              The generated answer directly answers the question by confirming that carrot snack cake is indeed a sweet dish based on the high sugar content mentioned in the nutritional information provided. The answer is clear and directly relevant to the question.  \n",
       "18                                                                                        The generated answer directly addresses the question by stating that Momma's Fair Funnel Cake is not high in salt and provides a specific amount of sodium it contains. This information is relevant as it directly addresses the salt content of the funnel cake.  \n",
       "21                                                                                                                                   The generated answer directly addresses the question by providing the specific number of calories in the peach upside down pudding cake, which is 413.0 calories. This makes the answer relevant to the question asked.  \n",
       "23                                                                                                                                                                            The generated answer directly addresses the question by stating that the 7 up pound cake has a lemon-lime flavor profile, which is relevant to the flavor profile of the cake.  \n",
       "24                                                                                                                                    The generated answer directly addresses the question by identifying the cocoa as the secret to achieving the rich color of the Depression Fudge cake. It provides a clear and relevant response to the question asked.  \n",
       "25                                                                                                                            The generated answer directly addresses the sodium level in the flourless chocolate oh so good molten cake, providing the specific amount of sodium present in the cake. This makes the answer relevant to the question asked.  \n",
       "27                                                                                                 The generated answer directly addresses the question by providing information on the potential impact of eating Hand Me Down Chocolate Cake on weight gain. It mentions the cake's high fat and calorie content, which is relevant to the question asked.  \n",
       "28                                                                                                                                                   The answer directly provides the requested information about the sugar content of the cheesecake kugel, stating that it has 36 grams of sugar. Therefore, the answer is relevant to the question asked.  \n",
       "31                                                            The generated answer directly addresses the question by discussing how the original frosting for German Chocolate Cake compares to other frosting options. It provides information on the specific characteristics of the original frosting and how it is traditionally favored for this cake.  \n",
       "32                                                                                                           The generated answer directly addresses the question by providing the specific protein content of the marbled cheesecake brownies, which is what was asked for in the question. It is directly relevant and provides the information requested.  \n",
       "40                                                                                                                                                                                             The generated answer directly addresses the carb level of the fudge pudding cake being ordered, providing the specific information requested in the question.  \n",
       "41                                                                                                                                                         The generated answer directly addresses the question by providing the specific number of calories typically found in Spanish Lemon Cake. It is clear and directly relevant to the question asked.  \n",
       "46     The generated answer directly addresses the question by providing information about the calorie content, sugar content, and other nutritional information of the Chocolate Chocolate Pudding Cake with Chocolate Ganache. It clearly states that it is not suitable for someone watching their weight, making it a relevant response to the question.  "
      ]
     },
     "execution_count": 152,
     "metadata": {},
     "output_type": "execute_result"
    }
   ],
   "source": [
    "df_eval[df_eval.relevance == 'RELEVANT']\n"
   ]
  },
  {
   "cell_type": "code",
   "execution_count": null,
   "metadata": {},
   "outputs": [],
   "source": []
  }
 ],
 "metadata": {
  "kernelspec": {
   "display_name": "Python 3 (ipykernel)",
   "language": "python",
   "name": "python3"
  },
  "language_info": {
   "codemirror_mode": {
    "name": "ipython",
    "version": 3
   },
   "file_extension": ".py",
   "mimetype": "text/x-python",
   "name": "python",
   "nbconvert_exporter": "python",
   "pygments_lexer": "ipython3",
   "version": "3.12.4"
  }
 },
 "nbformat": 4,
 "nbformat_minor": 4
}
