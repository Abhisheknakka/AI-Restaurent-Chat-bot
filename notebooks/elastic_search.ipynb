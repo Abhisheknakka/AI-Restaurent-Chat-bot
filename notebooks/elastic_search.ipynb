{
 "cells": [
  {
   "cell_type": "code",
   "execution_count": 35,
   "metadata": {},
   "outputs": [
    {
     "data": {
      "text/plain": [
       "True"
      ]
     },
     "execution_count": 35,
     "metadata": {},
     "output_type": "execute_result"
    }
   ],
   "source": [
    "import json\n",
    "import elasticsearch\n",
    "from dotenv import load_dotenv\n",
    "import os\n",
    "load_dotenv()"
   ]
  },
  {
   "cell_type": "code",
   "execution_count": 36,
   "metadata": {},
   "outputs": [
    {
     "data": {
      "text/plain": [
       "'D:\\\\Projects\\\\AI-Restaurent-Chat-bot\\\\notebooks'"
      ]
     },
     "execution_count": 36,
     "metadata": {},
     "output_type": "execute_result"
    }
   ],
   "source": [
    "import os\n",
    "os.getcwd()"
   ]
  },
  {
   "cell_type": "code",
   "execution_count": 37,
   "metadata": {},
   "outputs": [],
   "source": [
    "# change path for base folder\n",
    "base_folder = 'D:/Projects/AI-Restaurent-Chat-bot/'\n",
    "input_data_folder = base_folder+'input_data/'"
   ]
  },
  {
   "cell_type": "code",
   "execution_count": 38,
   "metadata": {},
   "outputs": [],
   "source": [
    "# openai api\n",
    "from openai import OpenAI\n",
    "client = OpenAI()\n",
    "openai_api_key = os.getenv(\"OPENAI_API_KEY\")"
   ]
  },
  {
   "cell_type": "code",
   "execution_count": 39,
   "metadata": {},
   "outputs": [],
   "source": [
    "with open(input_data_folder + 'food_user_qa_dataset.json', 'rt') as f_in:\n",
    "    data = json.load(f_in)"
   ]
  },
  {
   "cell_type": "code",
   "execution_count": 41,
   "metadata": {},
   "outputs": [],
   "source": [
    "documents = []\n",
    "for dish in data['dishes']:\n",
    "    dish_name = dish['dish name']\n",
    "    for doc in dish['documents']:\n",
    "        doc['dish_name'] = dish_name  # Add dish_name to each document\n",
    "        documents.append(doc)"
   ]
  },
  {
   "cell_type": "code",
   "execution_count": 87,
   "metadata": {},
   "outputs": [
    {
     "data": {
      "text/plain": [
       "[{'id': '142_2',\n",
       "  'question': 'How many calories does it have?',\n",
       "  'section': 'calories',\n",
       "  'text': 'The almond fudge banana cake has 224.8 calories.',\n",
       "  'dish_name': 'almond fudge banana cake'},\n",
       " {'id': '142_3',\n",
       "  'question': 'How much total fat does it contain?',\n",
       "  'section': 'nutritional',\n",
       "  'text': 'The almond fudge banana cake has 14 grams of total fat (PDV).',\n",
       "  'dish_name': 'almond fudge banana cake'},\n",
       " {'id': '142_4',\n",
       "  'question': 'What is the sugar content?',\n",
       "  'section': 'nutritional',\n",
       "  'text': 'The almond fudge banana cake has 87 grams of sugar (PDV).',\n",
       "  'dish_name': 'almond fudge banana cake'},\n",
       " {'id': '142_5',\n",
       "  'question': 'How much sodium is in this dish?',\n",
       "  'section': 'nutritional',\n",
       "  'text': 'The almond fudge banana cake has 10 grams of sodium (PDV).',\n",
       "  'dish_name': 'almond fudge banana cake'}]"
      ]
     },
     "execution_count": 87,
     "metadata": {},
     "output_type": "execute_result"
    }
   ],
   "source": [
    "documents[1:5]"
   ]
  },
  {
   "cell_type": "code",
   "execution_count": 43,
   "metadata": {},
   "outputs": [
    {
     "data": {
      "text/plain": [
       "ObjectApiResponse({'name': '81d6d96573fa', 'cluster_name': 'docker-cluster', 'cluster_uuid': 'Knoc8xY-Teq-lYkTwu4Eww', 'version': {'number': '8.4.3', 'build_flavor': 'default', 'build_type': 'docker', 'build_hash': '42f05b9372a9a4a470db3b52817899b99a76ee73', 'build_date': '2022-10-04T07:17:24.662462378Z', 'build_snapshot': False, 'lucene_version': '9.3.0', 'minimum_wire_compatibility_version': '7.17.0', 'minimum_index_compatibility_version': '7.0.0'}, 'tagline': 'You Know, for Search'})"
      ]
     },
     "execution_count": 43,
     "metadata": {},
     "output_type": "execute_result"
    }
   ],
   "source": [
    "from elasticsearch import Elasticsearch\n",
    "\n",
    "es = Elasticsearch(\"http://localhost:9200\")\n",
    "es.info()"
   ]
  },
  {
   "cell_type": "code",
   "execution_count": 44,
   "metadata": {},
   "outputs": [
    {
     "name": "stdout",
     "output_type": "stream",
     "text": [
      "Index 'menu-items' already exists.\n"
     ]
    }
   ],
   "source": [
    "\n",
    "index_name = \"menu-items\"\n",
    "\n",
    "# Check if index exists\n",
    "if not es.indices.exists(index=index_name):\n",
    "    # Create the index with the correct mapping\n",
    "    response = es.indices.create(\n",
    "        index=index_name,\n",
    "        body={\n",
    "            \"settings\": {\n",
    "                \"number_of_shards\": 1,\n",
    "                \"number_of_replicas\": 0\n",
    "            },\n",
    "            \"mappings\": {\n",
    "                \"properties\": {\n",
    "                    \"category\": {\"type\": \"text\"},\n",
    "                    \"dishes\": {\n",
    "                        \"type\": \"nested\",\n",
    "                        \"properties\": {\n",
    "                            \"dish name\": {\"type\": \"text\"},\n",
    "                            \"documents\": {\n",
    "                                \"type\": \"nested\",\n",
    "                                \"properties\": {\n",
    "                                    \"id\": {\"type\": \"keyword\"},\n",
    "                                    \"question\": {\"type\": \"text\"},\n",
    "                                    \"section\": {\"type\": \"text\"},\n",
    "                                    \"text\": {\"type\": \"text\"}\n",
    "                                }\n",
    "                            }\n",
    "                        }\n",
    "                    }\n",
    "                }\n",
    "            }\n",
    "        }\n",
    "    )\n",
    "    print(\"Index creation response:\", response)\n",
    "else:\n",
    "    print(f\"Index '{index_name}' already exists.\")\n"
   ]
  },
  {
   "cell_type": "code",
   "execution_count": 88,
   "metadata": {},
   "outputs": [
    {
     "name": "stdout",
     "output_type": "stream",
     "text": [
      "Index 'menu-items' already exists.\n"
     ]
    }
   ],
   "source": [
    "\n",
    "index_name = \"menu-items\"\n",
    "\n",
    "# Check if index exists\n",
    "if not es.indices.exists(index=index_name):\n",
    "    # Create the index with the correct mapping\n",
    "    response = es.indices.create(\n",
    "        index=index_name,\n",
    "        body={\n",
    "            \"settings\": {\n",
    "                \"number_of_shards\": 1,\n",
    "                \"number_of_replicas\": 0\n",
    "            },\n",
    "            \"mappings\": {\n",
    "        \"properties\": {\n",
    "            \"text\": {\"type\": \"text\"},\n",
    "            \"section\": {\"type\": \"text\"},\n",
    "            \"question\": {\"type\": \"text\"},\n",
    "            \"dish_name\": {\"type\": \"keyword\"},\n",
    "            \"id\": {\"type\": \"keyword\"}\n",
    "        }\n",
    "    }\n",
    "        }\n",
    "    )\n",
    "    print(\"Index creation response:\", response)\n",
    "else:\n",
    "    print(f\"Index '{index_name}' already exists.\")\n"
   ]
  },
  {
   "cell_type": "code",
   "execution_count": 91,
   "metadata": {},
   "outputs": [
    {
     "name": "stderr",
     "output_type": "stream",
     "text": [
      "100%|██████████████████████████████████████████████████████████| 3584/3584 [03:17<00:00, 18.18it/s]\n"
     ]
    }
   ],
   "source": [
    "from tqdm.auto import tqdm\n",
    "from elasticsearch.exceptions import NotFoundError, RequestError\n",
    "\n",
    "for doc in tqdm(documents):\n",
    "    try:\n",
    "        es.index(index=index_name, document=doc)\n",
    "    except (NotFoundError, RequestError) as e:\n",
    "        print(f\"Error indexing document: {doc}\")\n",
    "        print(e)\n"
   ]
  },
  {
   "cell_type": "code",
   "execution_count": 92,
   "metadata": {},
   "outputs": [
    {
     "name": "stdout",
     "output_type": "stream",
     "text": [
      "{'took': 1275, 'timed_out': False, '_shards': {'total': 1, 'successful': 1, 'skipped': 0, 'failed': 0}, 'hits': {'total': {'value': 0, 'relation': 'eq'}, 'max_score': None, 'hits': []}}\n"
     ]
    }
   ],
   "source": [
    "from elasticsearch import Elasticsearch\n",
    "\n",
    "es = Elasticsearch(\"http://localhost:9200\")\n",
    "index_name = \"menu-items\"\n",
    "\n",
    "# Example search query\n",
    "query = {\n",
    "    \"query\": {\n",
    "        \"match\": {\n",
    "            \"documents.text\": \"banana\"\n",
    "        }\n",
    "    }\n",
    "}\n",
    "\n",
    "response = es.search(index=index_name, body=query)\n",
    "print(response)\n"
   ]
  },
  {
   "cell_type": "code",
   "execution_count": 93,
   "metadata": {},
   "outputs": [
    {
     "name": "stdout",
     "output_type": "stream",
     "text": [
      "{'took': 33, 'timed_out': False, '_shards': {'total': 1, 'successful': 1, 'skipped': 0, 'failed': 0}, 'hits': {'total': {'value': 10000, 'relation': 'gte'}, 'max_score': 1.0, 'hits': [{'_index': 'menu-items', '_id': 'q1NncJEBM82uNR2Or_9y', '_score': 1.0, '_source': {'id': '3091.0_1', 'question': 'What are the ingredients?', 'section': 'ingredients', 'text': \"The kitty litter cake contains the following ingredients: ['spice cake mix', 'eggs', 'oil', 'water', 'white cake mix', 'vanilla instant pudding mix', 'cookies', 'green food coloring', 'tootsie rolls', 'new kitty litter box', 'pooper scooper']\", 'dish_name': 'kitty litter cake'}}, {'_index': 'menu-items', '_id': 'rFNncJEBM82uNR2Or_-u', '_score': 1.0, '_source': {'id': '3091.0_2', 'question': 'How many calories does it have?', 'section': 'calories', 'text': 'The kitty litter cake has 354.2 calories.', 'dish_name': 'kitty litter cake'}}, {'_index': 'menu-items', '_id': 'rVNncJEBM82uNR2Or__h', '_score': 1.0, '_source': {'id': '3091.0_3', 'question': 'How much total fat does it contain?', 'section': 'nutritional', 'text': 'The kitty litter cake has 23.0 grams of total fat (PDV).', 'dish_name': 'kitty litter cake'}}, {'_index': 'menu-items', '_id': 'rlNncJEBM82uNR2OsP8d', '_score': 1.0, '_source': {'id': '3091.0_4', 'question': 'What is the sugar content?', 'section': 'nutritional', 'text': 'The kitty litter cake has 144.0 grams of sugar (PDV).', 'dish_name': 'kitty litter cake'}}, {'_index': 'menu-items', '_id': 'r1NncJEBM82uNR2OsP9Y', '_score': 1.0, '_source': {'id': '3091.0_5', 'question': 'How much sodium is in this dish?', 'section': 'nutritional', 'text': 'The kitty litter cake has 20.0 grams of sodium (PDV).', 'dish_name': 'kitty litter cake'}}, {'_index': 'menu-items', '_id': 'sFNncJEBM82uNR2OsP-K', '_score': 1.0, '_source': {'id': '3091.0_6', 'question': 'What is the protein content?', 'section': 'nutritional', 'text': 'The kitty litter cake has 8.0 grams of protein (PDV).', 'dish_name': 'kitty litter cake'}}, {'_index': 'menu-items', '_id': 'sVNncJEBM82uNR2OsP_G', '_score': 1.0, '_source': {'id': '3091.0_7', 'question': 'How much saturated fat is present?', 'section': 'nutritional', 'text': 'The kitty litter cake has 13.0 grams of saturated fat (PDV).', 'dish_name': 'kitty litter cake'}}, {'_index': 'menu-items', '_id': 'slNncJEBM82uNR2OsP_4', '_score': 1.0, '_source': {'id': '3091.0_8', 'question': 'What are the carbohydrate levels?', 'section': 'nutritional', 'text': 'The kitty litter cake has 16.0 grams of carbohydrates (PDV).', 'dish_name': 'kitty litter cake'}}, {'_index': 'menu-items', '_id': 's1NncJEBM82uNR2Osf80', '_score': 1.0, '_source': {'id': '3091.0_9', 'question': 'How long does it take to prepare?', 'section': 'preparation', 'text': 'The kitty litter cake takes 60.0 minutes to prepare.', 'dish_name': 'kitty litter cake'}}, {'_index': 'menu-items', '_id': 'tFNncJEBM82uNR2Osf9w', '_score': 1.0, '_source': {'id': '3091.0_10', 'question': 'What are the steps to prepare this dish?', 'section': 'steps', 'text': 'The kitty litter cake contains [\\'prepare cake mixes and bake according to box directions\\', \\'prepare pudding , chill until ready to assemble\\', \\'crumble sandwich cookies in small batches in food processor , scraping often\\', \\'set aside all but 1 / 4 cup\\', \\'to the 1 / 4 cup of crumbs , add a few drops of green food coloring and mix using fork or shake in a jar\\', \\'when cakes are cooled to room temp , crumble into a large bowl\\', \\'toss with half the remaining cookie crumbs and chilled pudding\\', \\'you probably won\\\\\\'t need all the pudding , mix the cake and \"feel\" it , you don\\\\\\'t want it soggy , just moist\\', \\'ge ntly combine\\', \\'line litter box\\', \\'put mixture into box\\', \\'put 3 unwrapped tootsie rolls in microwave safe dish and heat until softened\\', \\'shape ends so they are no longer blunt , curving slightly\\', \\'repeat with 3 more tootsie rolls and bury in cake mixture\\', \\'sprinkle the other half of cookie crumbs over top\\', \\'scatter green crumbles lightly over top\\', \\'heat 3 tootsie rolls in microwave until almost melted\\', \\'scrape them on top of the cake and sprinkle with cookie crumbs\\', \\'spread remaining tootsie rolls over top\\', \\'take one and heat until pliable , hang over side of litter box , sprinkle with cookie crumbs\\']', 'dish_name': 'kitty litter cake'}}]}}\n"
     ]
    }
   ],
   "source": [
    "response = es.search(index=index_name, body={\"query\": {\"match_all\": {}}})\n",
    "print(response)"
   ]
  },
  {
   "cell_type": "code",
   "execution_count": 46,
   "metadata": {},
   "outputs": [
    {
     "name": "stdout",
     "output_type": "stream",
     "text": [
      "{'menu-items': {'mappings': {'properties': {'dish_name': {'type': 'keyword'}, 'id': {'type': 'keyword'}, 'question': {'type': 'text'}, 'section': {'type': 'text'}, 'text': {'type': 'text'}}}}}\n",
      "{'menu-items': {'settings': {'index': {'routing': {'allocation': {'include': {'_tier_preference': 'data_content'}}}, 'number_of_shards': '1', 'provided_name': 'menu-items', 'creation_date': '1724167714048', 'number_of_replicas': '0', 'uuid': 'LYmVzOZIRcqRaTQhnwAfZQ', 'version': {'created': '8040399'}}}}}\n"
     ]
    }
   ],
   "source": [
    "# Check index mapping\n",
    "mapping = es.indices.get_mapping(index=index_name)\n",
    "print(mapping)\n",
    "\n",
    "# Check index settings\n",
    "settings = es.indices.get_settings(index=index_name)\n",
    "print(settings)"
   ]
  },
  {
   "cell_type": "code",
   "execution_count": 94,
   "metadata": {},
   "outputs": [],
   "source": [
    "query = \"almond fudge banana cake\""
   ]
  },
  {
   "cell_type": "code",
   "execution_count": 98,
   "metadata": {},
   "outputs": [
    {
     "data": {
      "text/plain": [
       "{'id': '142_1',\n",
       " 'question': 'What are the ingredients?',\n",
       " 'section': 'ingredients',\n",
       " 'text': \"The almond fudge banana cake contains the following ingredients: ['dole banana', 'sugar', 'margarine', 'eggs', 'amaretto liqueur', 'vanilla extract', 'all-purpose flour', 'unsweetened cocoa powder', 'baking soda', 'salt', 'dole almond']\",\n",
       " 'dish_name': 'almond fudge banana cake'}"
      ]
     },
     "execution_count": 98,
     "metadata": {},
     "output_type": "execute_result"
    }
   ],
   "source": [
    "documents[0]"
   ]
  },
  {
   "cell_type": "code",
   "execution_count": 116,
   "metadata": {},
   "outputs": [],
   "source": [
    "def elastic_search(query, dish_name=None):\n",
    "    search_query = {\n",
    "        \"size\": 5,\n",
    "        \"query\": {\n",
    "            \"bool\": {\n",
    "                \"must\": [\n",
    "                    {\n",
    "                        \"multi_match\": {\n",
    "                            \"query\": query,\n",
    "                            \"fields\": [\"dish_name^3\", \"question^3\", \"text\", \"section\"],\n",
    "                            \"type\": \"best_fields\"\n",
    "                        }\n",
    "                    }\n",
    "                ]\n",
    "            }\n",
    "        }\n",
    "    }\n",
    "\n",
    "    # Add a filter by dish_name if it's provided\n",
    "    if dish_name:\n",
    "        search_query[\"query\"][\"bool\"][\"filter\"] = {\n",
    "            \"term\": {\n",
    "                \"dish_name.keyword\": dish_name\n",
    "            }\n",
    "        }\n",
    "\n",
    "    # Perform the search\n",
    "    response = es.search(index=index_name, body=search_query)\n",
    "\n",
    "    result_docs = []\n",
    "\n",
    "    for hit in response['hits']['hits']:\n",
    "        doc = hit['_source']\n",
    "        result_docs.append(doc)  # Collect all documents\n",
    "        \n",
    "\n",
    "    return result_docs\n"
   ]
  },
  {
   "cell_type": "code",
   "execution_count": 135,
   "metadata": {},
   "outputs": [
    {
     "data": {
      "text/plain": [
       "[{'id': '3091.0_1',\n",
       "  'question': 'What are the ingredients?',\n",
       "  'section': 'ingredients',\n",
       "  'text': \"The kitty litter cake contains the following ingredients: ['spice cake mix', 'eggs', 'oil', 'water', 'white cake mix', 'vanilla instant pudding mix', 'cookies', 'green food coloring', 'tootsie rolls', 'new kitty litter box', 'pooper scooper']\",\n",
       "  'dish_name': 'kitty litter cake'},\n",
       " {'id': '3333.0_1',\n",
       "  'question': 'What are the ingredients?',\n",
       "  'section': 'ingredients',\n",
       "  'text': \"The dirt cake ii contains the following ingredients: ['oreo cookies', 'butter', 'cream cheese', 'instant vanilla pudding', 'milk', 'cool whip', 'flower pot', 'artificial flower']\",\n",
       "  'dish_name': 'dirt cake ii'},\n",
       " {'id': '822.0_1',\n",
       "  'question': 'What are the ingredients?',\n",
       "  'section': 'ingredients',\n",
       "  'text': \"The heloise s cake mix cookies contains the following ingredients: ['cake mix', 'vegetable oil', 'eggs']\",\n",
       "  'dish_name': 'heloise s cake mix cookies'},\n",
       " {'id': '520.0_1',\n",
       "  'question': 'What are the ingredients?',\n",
       "  'section': 'ingredients',\n",
       "  'text': \"The apple pie cake contains the following ingredients: ['sugar', 'egg', 'salt', 'butter', 'flour', 'baking powder', 'cinnamon', 'nutmeg', 'vanilla', 'baking apples', 'pecans', 'golden raisin']\",\n",
       "  'dish_name': 'apple pie cake'},\n",
       " {'id': '916.0_1',\n",
       "  'question': 'What are the ingredients?',\n",
       "  'section': 'ingredients',\n",
       "  'text': \"The momma s fair funnel cake contains the following ingredients: ['eggs', 'sugar', 'milk', 'flour', 'salt', 'baking powder', 'vegetable oil']\",\n",
       "  'dish_name': 'momma s fair funnel cake'}]"
      ]
     },
     "execution_count": 135,
     "metadata": {},
     "output_type": "execute_result"
    }
   ],
   "source": [
    "elastic_search(query)"
   ]
  },
  {
   "cell_type": "code",
   "execution_count": 132,
   "metadata": {},
   "outputs": [],
   "source": [
    "def build_prompt(query, search_results):\n",
    "    prompt_template = \"\"\"\n",
    "You're an AI assistant helping with menu queries. Answer the QUESTION based on the CONTEXT provided.\n",
    "\n",
    "QUESTION: {question}\n",
    "\n",
    "CONTEXT: \n",
    "{context}\n",
    "\"\"\".strip()\n",
    "\n",
    "    context = \"\"\n",
    "    \n",
    "    for doc in search_results:\n",
    "        context += f\"Section: {doc['section']}\\nQuestion: {doc['question']}\\nAnswer: {doc['text']}\\n\\n\"\n",
    "    \n",
    "    prompt = prompt_template.format(question=query, context=context).strip()\n",
    "    return prompt\n"
   ]
  },
  {
   "cell_type": "code",
   "execution_count": 133,
   "metadata": {},
   "outputs": [
    {
     "data": {
      "text/plain": [
       "'what are ingredients in banana pudding cake contain'"
      ]
     },
     "execution_count": 133,
     "metadata": {},
     "output_type": "execute_result"
    }
   ],
   "source": [
    "query"
   ]
  },
  {
   "cell_type": "code",
   "execution_count": 134,
   "metadata": {},
   "outputs": [
    {
     "data": {
      "text/plain": [
       "[{'id': '3091.0_1',\n",
       "  'question': 'What are the ingredients?',\n",
       "  'section': 'ingredients',\n",
       "  'text': \"The kitty litter cake contains the following ingredients: ['spice cake mix', 'eggs', 'oil', 'water', 'white cake mix', 'vanilla instant pudding mix', 'cookies', 'green food coloring', 'tootsie rolls', 'new kitty litter box', 'pooper scooper']\",\n",
       "  'dish_name': 'kitty litter cake'},\n",
       " {'id': '3333.0_1',\n",
       "  'question': 'What are the ingredients?',\n",
       "  'section': 'ingredients',\n",
       "  'text': \"The dirt cake ii contains the following ingredients: ['oreo cookies', 'butter', 'cream cheese', 'instant vanilla pudding', 'milk', 'cool whip', 'flower pot', 'artificial flower']\",\n",
       "  'dish_name': 'dirt cake ii'},\n",
       " {'id': '822.0_1',\n",
       "  'question': 'What are the ingredients?',\n",
       "  'section': 'ingredients',\n",
       "  'text': \"The heloise s cake mix cookies contains the following ingredients: ['cake mix', 'vegetable oil', 'eggs']\",\n",
       "  'dish_name': 'heloise s cake mix cookies'},\n",
       " {'id': '520.0_1',\n",
       "  'question': 'What are the ingredients?',\n",
       "  'section': 'ingredients',\n",
       "  'text': \"The apple pie cake contains the following ingredients: ['sugar', 'egg', 'salt', 'butter', 'flour', 'baking powder', 'cinnamon', 'nutmeg', 'vanilla', 'baking apples', 'pecans', 'golden raisin']\",\n",
       "  'dish_name': 'apple pie cake'},\n",
       " {'id': '916.0_1',\n",
       "  'question': 'What are the ingredients?',\n",
       "  'section': 'ingredients',\n",
       "  'text': \"The momma s fair funnel cake contains the following ingredients: ['eggs', 'sugar', 'milk', 'flour', 'salt', 'baking powder', 'vegetable oil']\",\n",
       "  'dish_name': 'momma s fair funnel cake'}]"
      ]
     },
     "execution_count": 134,
     "metadata": {},
     "output_type": "execute_result"
    }
   ],
   "source": [
    "search_results= elastic_search(query)\n",
    "search_results"
   ]
  },
  {
   "cell_type": "code",
   "execution_count": 119,
   "metadata": {},
   "outputs": [],
   "source": [
    "# if using OPENAI \n",
    "from openai import OpenAI\n",
    "client = OpenAI()\n",
    "\n",
    "def llm(prompt):\n",
    "    response = client.chat.completions.create(\n",
    "        model=\"gpt-3.5-turbo\",\n",
    "        messages=[{\"role\": \"user\", \"content\": prompt}]\n",
    "    )\n",
    "    \n",
    "    return response.choices[0].message.content"
   ]
  },
  {
   "cell_type": "code",
   "execution_count": 120,
   "metadata": {},
   "outputs": [
    {
     "data": {
      "text/plain": [
       "'\\nfrom groq import Groq   \\n\\n#create client calling Groq class\\n\\nclient = Groq(api_key=os.getenv(\\'GROQ_API_KEY\\'))\\n\\nfrom openai import OpenAI\\nclient = OpenAI()\\n\\ndef llm(prompt):\\n    response = client.chat.completions.create(\\n        model=\"llama3-8b-8192\",\\n        messages=[{\"role\": \"user\", \"content\": prompt}]\\n    )\\n    \\n    return response.choices[0].message.content\\n\\n'"
      ]
     },
     "execution_count": 120,
     "metadata": {},
     "output_type": "execute_result"
    }
   ],
   "source": [
    "# iF USING groq\n",
    "\"\"\"\n",
    "from groq import Groq   \n",
    "\n",
    "#create client calling Groq class\n",
    "\n",
    "client = Groq(api_key=os.getenv('GROQ_API_KEY'))\n",
    "\n",
    "from openai import OpenAI\n",
    "client = OpenAI()\n",
    "\n",
    "def llm(prompt):\n",
    "    response = client.chat.completions.create(\n",
    "        model=\"llama3-8b-8192\",\n",
    "        messages=[{\"role\": \"user\", \"content\": prompt}]\n",
    "    )\n",
    "    \n",
    "    return response.choices[0].message.content\n",
    "\n",
    "\"\"\""
   ]
  },
  {
   "cell_type": "code",
   "execution_count": 150,
   "metadata": {},
   "outputs": [],
   "source": [
    "query = 'dish name please'\n",
    "\n",
    "def rag(query):\n",
    "    search_results = elastic_search(query)\n",
    "    prompt=build_prompt(query,search_results)\n",
    "    answer = llm(prompt)\n",
    "    return answer"
   ]
  },
  {
   "cell_type": "code",
   "execution_count": 151,
   "metadata": {},
   "outputs": [
    {
     "data": {
      "text/plain": [
       "\"I'm sorry, the dish name you are asking for is baby food pineapple coconut carrot cake.\""
      ]
     },
     "execution_count": 151,
     "metadata": {},
     "output_type": "execute_result"
    }
   ],
   "source": [
    "rag(query)\n"
   ]
  },
  {
   "cell_type": "code",
   "execution_count": null,
   "metadata": {},
   "outputs": [],
   "source": []
  }
 ],
 "metadata": {
  "kernelspec": {
   "display_name": "Python 3 (ipykernel)",
   "language": "python",
   "name": "python3"
  },
  "language_info": {
   "codemirror_mode": {
    "name": "ipython",
    "version": 3
   },
   "file_extension": ".py",
   "mimetype": "text/x-python",
   "name": "python",
   "nbconvert_exporter": "python",
   "pygments_lexer": "ipython3",
   "version": "3.9.9"
  }
 },
 "nbformat": 4,
 "nbformat_minor": 4
}
