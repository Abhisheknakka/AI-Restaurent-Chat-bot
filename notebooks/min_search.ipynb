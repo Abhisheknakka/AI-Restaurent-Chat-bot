{
 "cells": [
  {
   "cell_type": "code",
   "execution_count": 1,
   "metadata": {},
   "outputs": [],
   "source": [
    "import json\n",
    "import pandas as pd\n",
    "import elasticsearch\n",
    "from groq import Groq\n",
    "\n",
    "from dotenv import load_dotenv\n",
    "import os\n",
    "load_dotenv()\n",
    "from sklearn.feature_extraction.text import CountVectorizer\n"
   ]
  },
  {
   "cell_type": "code",
   "execution_count": 2,
   "metadata": {},
   "outputs": [
    {
     "data": {
      "text/plain": [
       "'d:\\\\Projects\\\\AI-Restaurent-Chat-bot\\\\notebooks'"
      ]
     },
     "execution_count": 2,
     "metadata": {},
     "output_type": "execute_result"
    }
   ],
   "source": [
    "import os\n",
    "os.getcwd()"
   ]
  },
  {
   "cell_type": "code",
   "execution_count": 3,
   "metadata": {},
   "outputs": [],
   "source": [
    "# change path for base folder\n",
    "base_folder = 'D:/Projects/AI-Restaurent-Chat-bot/'\n",
    "input_data_folder = base_folder+'input_data/'"
   ]
  },
  {
   "cell_type": "code",
   "execution_count": 1,
   "metadata": {},
   "outputs": [
    {
     "ename": "NameError",
     "evalue": "name 'load_dotenv' is not defined",
     "output_type": "error",
     "traceback": [
      "\u001b[1;31m---------------------------------------------------------------------------\u001b[0m",
      "\u001b[1;31mNameError\u001b[0m                                 Traceback (most recent call last)",
      "Cell \u001b[1;32mIn[1], line 2\u001b[0m\n\u001b[0;32m      1\u001b[0m \u001b[38;5;66;03m# Setup the OpenAI client to use either Groq, OpenAI.com, or Ollama API\u001b[39;00m\n\u001b[1;32m----> 2\u001b[0m \u001b[43mload_dotenv\u001b[49m(override\u001b[38;5;241m=\u001b[39m\u001b[38;5;28;01mTrue\u001b[39;00m)\n\u001b[0;32m      3\u001b[0m API_HOST \u001b[38;5;241m=\u001b[39m os\u001b[38;5;241m.\u001b[39mgetenv(\u001b[38;5;124m\"\u001b[39m\u001b[38;5;124mAPI_HOST\u001b[39m\u001b[38;5;124m\"\u001b[39m)\n\u001b[0;32m      4\u001b[0m API_HOST\n",
      "\u001b[1;31mNameError\u001b[0m: name 'load_dotenv' is not defined"
     ]
    }
   ],
   "source": [
    "# Setup the OpenAI client to use either Groq, OpenAI.com, or Ollama API\n",
    "load_dotenv(override=True)\n",
    "API_HOST = os.getenv(\"API_HOST\")\n",
    "API_HOST"
   ]
  },
  {
   "cell_type": "code",
   "execution_count": null,
   "metadata": {},
   "outputs": [],
   "source": [
    "if API_HOST == \"groq\":\n",
    "    client = Groq(api_key=os.getenv('GROQ_API_KEY'))\n",
    "    MODEL_NAME = os.getenv(\"GROQ_MODEL\")\n",
    "\n",
    "elif API_HOST == \"ollama\":\n",
    "    client = openai.OpenAI(\n",
    "        base_url=os.getenv(\"OLLAMA_ENDPOINT\"),\n",
    "        api_key=\"nokeyneeded\",\n",
    "    )\n",
    "    MODEL_NAME = os.getenv(\"OLLAMA_MODEL\")\n",
    "\n",
    "elif API_HOST == \"github\":\n",
    "    client = openai.OpenAI(base_url=\"https://models.inference.ai.azure.com\", api_key=os.getenv(\"GITHUB_TOKEN\"))\n",
    "    MODEL_NAME = os.getenv(\"GITHUB_MODEL\")\n",
    "\n",
    "else:\n",
    "    client = openai.OpenAI(api_key=os.getenv(\"OPENAI_API_KEY\"))\n",
    "    MODEL_NAME = os.getenv(\"OPENAI_MODEL\")"
   ]
  },
  {
   "cell_type": "code",
   "execution_count": null,
   "metadata": {},
   "outputs": [],
   "source": []
  },
  {
   "cell_type": "code",
   "execution_count": 4,
   "metadata": {},
   "outputs": [],
   "source": [
    "# openai api\n",
    "from openai import OpenAI\n",
    "client = OpenAI()\n",
    "openai_api_key = os.getenv(\"OPENAI_API_KEY\")"
   ]
  },
  {
   "cell_type": "code",
   "execution_count": 5,
   "metadata": {},
   "outputs": [],
   "source": [
    "with open(input_data_folder + 'food_user_qa_dataset.json', 'rt') as f_in:\n",
    "    data = json.load(f_in)"
   ]
  },
  {
   "cell_type": "code",
   "execution_count": 6,
   "metadata": {},
   "outputs": [],
   "source": [
    "documents = []\n",
    "for dish in data['dishes']:\n",
    "    dish_name = dish['dish name']\n",
    "    for doc in dish['documents']:\n",
    "        doc['dish_name'] = dish_name  # Add dish_name to each document\n",
    "        documents.append(doc)"
   ]
  },
  {
   "cell_type": "code",
   "execution_count": 8,
   "metadata": {},
   "outputs": [
    {
     "data": {
      "text/plain": [
       "[{'id': '142_2',\n",
       "  'question': 'How many calories does it have?',\n",
       "  'section': 'calories',\n",
       "  'text': 'The almond fudge banana cake has 224.8 calories.',\n",
       "  'dish_name': 'almond fudge banana cake'},\n",
       " {'id': '142_3',\n",
       "  'question': 'How much total fat does it contain?',\n",
       "  'section': 'nutritional',\n",
       "  'text': 'The almond fudge banana cake has 14 grams of total fat (PDV).',\n",
       "  'dish_name': 'almond fudge banana cake'},\n",
       " {'id': '142_4',\n",
       "  'question': 'What is the sugar content?',\n",
       "  'section': 'nutritional',\n",
       "  'text': 'The almond fudge banana cake has 87 grams of sugar (PDV).',\n",
       "  'dish_name': 'almond fudge banana cake'},\n",
       " {'id': '142_5',\n",
       "  'question': 'How much sodium is in this dish?',\n",
       "  'section': 'nutritional',\n",
       "  'text': 'The almond fudge banana cake has 10 grams of sodium (PDV).',\n",
       "  'dish_name': 'almond fudge banana cake'},\n",
       " {'id': '142_6',\n",
       "  'question': 'What is the protein content?',\n",
       "  'section': 'nutritional',\n",
       "  'text': 'The almond fudge banana cake has 7 grams of protein (PDV).',\n",
       "  'dish_name': 'almond fudge banana cake'},\n",
       " {'id': '142_7',\n",
       "  'question': 'How much saturated fat is present?',\n",
       "  'section': 'nutritional',\n",
       "  'text': 'The almond fudge banana cake has 9 grams of saturated fat (PDV).',\n",
       "  'dish_name': 'almond fudge banana cake'},\n",
       " {'id': '142_8',\n",
       "  'question': 'What are the carbohydrate levels?',\n",
       "  'section': 'nutritional',\n",
       "  'text': 'The almond fudge banana cake has 11 grams of carbohydrates (PDV).',\n",
       "  'dish_name': 'almond fudge banana cake'},\n",
       " {'id': '142_9',\n",
       "  'question': 'How long does it take to prepare?',\n",
       "  'section': 'preparation',\n",
       "  'text': 'The almond fudge banana cake takes 110 minutes to prepare.',\n",
       "  'dish_name': 'almond fudge banana cake'},\n",
       " {'id': '142_10',\n",
       "  'question': 'What are the steps to prepare this dish?',\n",
       "  'section': 'steps',\n",
       "  'text': \"The almond fudge banana cake contains ['mash bananas and set aside', 'beat sugar and margarine until light and fluffy', 'beat in eggs , liqueur and vanilla', 'combine dry ingredients', 'stir in almonds', 'add to sugar mixture alternately with bananas', 'beat well', 'pour batter into greased 10-inch bundt pan', 'bake in preheated 350f oven 45 to 50 minutes or until toothpick inserted in center comes out almost clean and cake pulls away from side of pan', 'cool 10 minutes', 'remove cake from pan to wire rack to cool completely', 'drizzle glaze over top and down side of cake', 'make 16-20 servings']\",\n",
       "  'dish_name': 'almond fudge banana cake'}]"
      ]
     },
     "execution_count": 8,
     "metadata": {},
     "output_type": "execute_result"
    }
   ],
   "source": [
    "documents[1:10]"
   ]
  },
  {
   "cell_type": "code",
   "execution_count": 8,
   "metadata": {},
   "outputs": [],
   "source": [
    "import wget\n",
    "url= \"https://raw.githubusercontent.com/alexeygrigorev/minsearch/main/minsearch.py\"\n",
    "#wget.download(url)\n",
    "\n"
   ]
  },
  {
   "cell_type": "code",
   "execution_count": 9,
   "metadata": {},
   "outputs": [],
   "source": [
    "import minsearch"
   ]
  },
  {
   "cell_type": "code",
   "execution_count": 10,
   "metadata": {},
   "outputs": [],
   "source": [
    "index = minsearch.Index(\n",
    "    text_fields = ['id', 'question','section','text','dish_name'],\n",
    "    keyword_fields=['dish_name']\n",
    "    #keyword_fields=['id']\n",
    "\n",
    ")"
   ]
  },
  {
   "cell_type": "code",
   "execution_count": 11,
   "metadata": {},
   "outputs": [
    {
     "data": {
      "text/plain": [
       "<minsearch.Index at 0x14feed7aed0>"
      ]
     },
     "execution_count": 11,
     "metadata": {},
     "output_type": "execute_result"
    }
   ],
   "source": [
    "index.fit(documents)"
   ]
  },
  {
   "cell_type": "code",
   "execution_count": 12,
   "metadata": {},
   "outputs": [],
   "source": [
    "question =\"pistachio cake  from mix\""
   ]
  },
  {
   "cell_type": "code",
   "execution_count": null,
   "metadata": {},
   "outputs": [],
   "source": [
    "question =\"pistachio cake  from mix\""
   ]
  },
  {
   "cell_type": "code",
   "execution_count": 13,
   "metadata": {},
   "outputs": [],
   "source": [
    "def minsearch(question):\n",
    "    return index.search(question)"
   ]
  },
  {
   "cell_type": "code",
   "execution_count": 14,
   "metadata": {},
   "outputs": [],
   "source": [
    "def elastic_search(query, dish_name=None):\n",
    "    search_query = {\n",
    "        \"size\": 5,\n",
    "        \"query\": {\n",
    "            \"bool\": {\n",
    "                \"must\": [\n",
    "                    {\n",
    "                        \"multi_match\": {\n",
    "                            \"query\": query,\n",
    "                            \"fields\": [\"dish_name^6\", \"question^3\", \"text\", \"section\"],\n",
    "                            \"type\": \"best_fields\"\n",
    "                        }\n",
    "                    }\n",
    "                ]\n",
    "            }\n",
    "        }\n",
    "    }\n",
    "\n",
    "    # Add a filter by dish_name if it's provided\n",
    "    if dish_name:\n",
    "        search_query[\"query\"][\"bool\"][\"filter\"] = {\n",
    "            \"term\": {\n",
    "                \"dish_name.keyword\": dish_name\n",
    "            }\n",
    "        }\n",
    "\n",
    "    # Perform the search\n",
    "    response = es.search(index=index_name, body=search_query)\n",
    "\n",
    "    result_docs = []\n",
    "\n",
    "    for hit in response['hits']['hits']:\n",
    "        doc = hit['_source']\n",
    "        result_docs.append(doc)  # Collect all documents\n",
    "        \n",
    "\n",
    "    return result_docs\n"
   ]
  },
  {
   "cell_type": "code",
   "execution_count": 15,
   "metadata": {},
   "outputs": [
    {
     "data": {
      "text/plain": [
       "[{'id': '15664_12',\n",
       "  'question': 'What is the rating of this dish?',\n",
       "  'section': 'rating',\n",
       "  'text': 'The pistachio cake  from mix has a rating of 5.',\n",
       "  'dish_name': 'pistachio cake  from mix'},\n",
       " {'id': '15664_6',\n",
       "  'question': 'What is the protein content?',\n",
       "  'section': 'nutritional',\n",
       "  'text': 'The pistachio cake  from mix has 6 grams of protein (PDV).',\n",
       "  'dish_name': 'pistachio cake  from mix'},\n",
       " {'id': '15664_5',\n",
       "  'question': 'How much sodium is in this dish?',\n",
       "  'section': 'nutritional',\n",
       "  'text': 'The pistachio cake  from mix has 9 grams of sodium (PDV).',\n",
       "  'dish_name': 'pistachio cake  from mix'},\n",
       " {'id': '15664_8',\n",
       "  'question': 'What are the carbohydrate levels?',\n",
       "  'section': 'nutritional',\n",
       "  'text': 'The pistachio cake  from mix has 8 grams of carbohydrates (PDV).',\n",
       "  'dish_name': 'pistachio cake  from mix'},\n",
       " {'id': '15664_7',\n",
       "  'question': 'How much saturated fat is present?',\n",
       "  'section': 'nutritional',\n",
       "  'text': 'The pistachio cake  from mix has 9 grams of saturated fat (PDV).',\n",
       "  'dish_name': 'pistachio cake  from mix'},\n",
       " {'id': '15664_14',\n",
       "  'question': 'What category does this dish fall under?',\n",
       "  'section': 'category',\n",
       "  'text': 'The category of pistachio cake  from mix is tasty.',\n",
       "  'dish_name': 'pistachio cake  from mix'},\n",
       " {'id': '15664_16',\n",
       "  'question': 'What is the price of this dish?',\n",
       "  'section': 'price',\n",
       "  'text': 'The price of pistachio cake  from mix is $27.',\n",
       "  'dish_name': 'pistachio cake  from mix'},\n",
       " {'id': '15664_15',\n",
       "  'question': 'What is the calorie status of this dish?',\n",
       "  'section': 'calorie_status',\n",
       "  'text': 'The calorie status of pistachio cake  from mix is Low Calory.',\n",
       "  'dish_name': 'pistachio cake  from mix'},\n",
       " {'id': '15664_3',\n",
       "  'question': 'How much total fat does it contain?',\n",
       "  'section': 'nutritional',\n",
       "  'text': 'The pistachio cake  from mix has 18 grams of total fat (PDV).',\n",
       "  'dish_name': 'pistachio cake  from mix'},\n",
       " {'id': '15664_1',\n",
       "  'question': 'What are the ingredients?',\n",
       "  'section': 'ingredients',\n",
       "  'text': \"The pistachio cake  from mix contains the following ingredients: ['instant pistachio pudding mix', 'white cake mix', 'eggs', 'vegetable oil', 'water', 'powdered sugar']\",\n",
       "  'dish_name': 'pistachio cake  from mix'}]"
      ]
     },
     "execution_count": 15,
     "metadata": {},
     "output_type": "execute_result"
    }
   ],
   "source": [
    "search_results= minsearch(question)\n",
    "search_results"
   ]
  },
  {
   "cell_type": "code",
   "execution_count": 21,
   "metadata": {},
   "outputs": [
    {
     "data": {
      "text/plain": [
       "{'id': '142_2',\n",
       " 'question': 'How many calories does it have?',\n",
       " 'section': 'calories',\n",
       " 'text': 'The almond fudge banana cake has 224.8 calories.',\n",
       " 'dish_name': 'almond fudge banana cake'}"
      ]
     },
     "execution_count": 21,
     "metadata": {},
     "output_type": "execute_result"
    }
   ],
   "source": [
    "documents[1]"
   ]
  },
  {
   "cell_type": "code",
   "execution_count": 22,
   "metadata": {},
   "outputs": [
    {
     "data": {
      "application/vnd.jupyter.widget-view+json": {
       "model_id": "af4b80b2f7e2434cb944f4a2ed83016c",
       "version_major": 2,
       "version_minor": 0
      },
      "text/plain": [
       "modules.json:   0%|          | 0.00/349 [00:00<?, ?B/s]"
      ]
     },
     "metadata": {},
     "output_type": "display_data"
    },
    {
     "name": "stderr",
     "output_type": "stream",
     "text": [
      "c:\\Users\\nakka\\AppData\\Local\\Programs\\Python\\Python312\\Lib\\site-packages\\huggingface_hub\\file_download.py:159: UserWarning: `huggingface_hub` cache-system uses symlinks by default to efficiently store duplicated files but your machine does not support them in C:\\Users\\nakka\\.cache\\huggingface\\hub\\models--sentence-transformers--all-mpnet-base-v2. Caching files will still work but in a degraded version that might require more space on your disk. This warning can be disabled by setting the `HF_HUB_DISABLE_SYMLINKS_WARNING` environment variable. For more details, see https://huggingface.co/docs/huggingface_hub/how-to-cache#limitations.\n",
      "To support symlinks on Windows, you either need to activate Developer Mode or to run Python as an administrator. In order to see activate developer mode, see this article: https://docs.microsoft.com/en-us/windows/apps/get-started/enable-your-device-for-development\n",
      "  warnings.warn(message)\n"
     ]
    },
    {
     "data": {
      "application/vnd.jupyter.widget-view+json": {
       "model_id": "2ef58e22c85042cfbc43e8b835a32480",
       "version_major": 2,
       "version_minor": 0
      },
      "text/plain": [
       "config_sentence_transformers.json:   0%|          | 0.00/116 [00:00<?, ?B/s]"
      ]
     },
     "metadata": {},
     "output_type": "display_data"
    },
    {
     "data": {
      "application/vnd.jupyter.widget-view+json": {
       "model_id": "b719a839045a4e588b12bf24fc15560b",
       "version_major": 2,
       "version_minor": 0
      },
      "text/plain": [
       "README.md:   0%|          | 0.00/10.6k [00:00<?, ?B/s]"
      ]
     },
     "metadata": {},
     "output_type": "display_data"
    },
    {
     "data": {
      "application/vnd.jupyter.widget-view+json": {
       "model_id": "181b7ee9127b4266bfb82af44daf3530",
       "version_major": 2,
       "version_minor": 0
      },
      "text/plain": [
       "sentence_bert_config.json:   0%|          | 0.00/53.0 [00:00<?, ?B/s]"
      ]
     },
     "metadata": {},
     "output_type": "display_data"
    },
    {
     "data": {
      "application/vnd.jupyter.widget-view+json": {
       "model_id": "ae07348890634c798b88aad49efbc25d",
       "version_major": 2,
       "version_minor": 0
      },
      "text/plain": [
       "config.json:   0%|          | 0.00/571 [00:00<?, ?B/s]"
      ]
     },
     "metadata": {},
     "output_type": "display_data"
    },
    {
     "data": {
      "application/vnd.jupyter.widget-view+json": {
       "model_id": "525bd843181a4e66a9da8c8a1efade21",
       "version_major": 2,
       "version_minor": 0
      },
      "text/plain": [
       "model.safetensors:   0%|          | 0.00/438M [00:00<?, ?B/s]"
      ]
     },
     "metadata": {},
     "output_type": "display_data"
    },
    {
     "data": {
      "application/vnd.jupyter.widget-view+json": {
       "model_id": "e5a23748c3a346f7ac22a569f104a417",
       "version_major": 2,
       "version_minor": 0
      },
      "text/plain": [
       "tokenizer_config.json:   0%|          | 0.00/363 [00:00<?, ?B/s]"
      ]
     },
     "metadata": {},
     "output_type": "display_data"
    },
    {
     "data": {
      "application/vnd.jupyter.widget-view+json": {
       "model_id": "a136ed61c5ca48d3ac9c4b0966573e19",
       "version_major": 2,
       "version_minor": 0
      },
      "text/plain": [
       "vocab.txt:   0%|          | 0.00/232k [00:00<?, ?B/s]"
      ]
     },
     "metadata": {},
     "output_type": "display_data"
    },
    {
     "data": {
      "application/vnd.jupyter.widget-view+json": {
       "model_id": "5ef4bf355d9f4e0a8d58d0dc44417fbd",
       "version_major": 2,
       "version_minor": 0
      },
      "text/plain": [
       "tokenizer.json:   0%|          | 0.00/466k [00:00<?, ?B/s]"
      ]
     },
     "metadata": {},
     "output_type": "display_data"
    },
    {
     "data": {
      "application/vnd.jupyter.widget-view+json": {
       "model_id": "069b85c065584435b05193a6f3606bf4",
       "version_major": 2,
       "version_minor": 0
      },
      "text/plain": [
       "special_tokens_map.json:   0%|          | 0.00/239 [00:00<?, ?B/s]"
      ]
     },
     "metadata": {},
     "output_type": "display_data"
    },
    {
     "name": "stderr",
     "output_type": "stream",
     "text": [
      "c:\\Users\\nakka\\AppData\\Local\\Programs\\Python\\Python312\\Lib\\site-packages\\transformers\\tokenization_utils_base.py:1601: FutureWarning: `clean_up_tokenization_spaces` was not set. It will be set to `True` by default. This behavior will be depracted in transformers v4.45, and will be then set to `False` by default. For more details check this issue: https://github.com/huggingface/transformers/issues/31884\n",
      "  warnings.warn(\n"
     ]
    },
    {
     "data": {
      "application/vnd.jupyter.widget-view+json": {
       "model_id": "76455a81cad347c98e1aa5c7f22df2fa",
       "version_major": 2,
       "version_minor": 0
      },
      "text/plain": [
       "1_Pooling/config.json:   0%|          | 0.00/190 [00:00<?, ?B/s]"
      ]
     },
     "metadata": {},
     "output_type": "display_data"
    }
   ],
   "source": [
    "# Converting our database into vectors.\n",
    "\n",
    "from sentence_transformers import SentenceTransformer\n",
    "model = SentenceTransformer(\"all-mpnet-base-v2\")"
   ]
  },
  {
   "cell_type": "code",
   "execution_count": 23,
   "metadata": {},
   "outputs": [
    {
     "data": {
      "text/plain": [
       "array([ 1.45805469e-02, -1.99083053e-03, -2.13489053e-03, -1.80335604e-02,\n",
       "       -5.10015637e-02, -1.65787507e-02, -1.78630021e-03,  1.76838841e-02,\n",
       "        6.66056052e-02, -1.00949463e-02,  3.96251082e-02, -5.45170754e-02,\n",
       "        3.80212590e-02,  4.14985642e-02,  1.05339047e-02, -3.68569940e-02,\n",
       "       -2.41204258e-02, -1.19364923e-02, -2.67536901e-02, -5.52969053e-03,\n",
       "       -4.20143865e-02,  5.30301081e-03, -5.64692095e-02,  3.84490602e-02,\n",
       "        5.69248525e-03, -2.42834515e-03,  9.71981697e-03, -1.39138559e-02,\n",
       "        4.13596956e-03,  1.58024840e-02,  2.86336299e-02, -3.80830690e-02,\n",
       "       -4.45273370e-02,  5.28516769e-02,  1.83281099e-06,  1.30049260e-02,\n",
       "        1.69290733e-02, -4.20571043e-04,  7.40678376e-03, -3.86865214e-02,\n",
       "        5.47060035e-02,  8.54937509e-02, -2.05739923e-02, -2.62397584e-02,\n",
       "        1.36871298e-04,  3.70169058e-02,  2.27064602e-02, -1.52531080e-02,\n",
       "       -2.74782162e-02,  1.20341603e-03,  6.66463189e-03, -4.47323844e-02,\n",
       "       -4.63145338e-02,  2.41506323e-02,  4.21406776e-02, -1.77044030e-02,\n",
       "        8.79412517e-03, -4.56263982e-02,  3.72805409e-02,  2.12550219e-02,\n",
       "       -2.53354050e-02,  1.11216558e-02, -1.34657761e-02,  1.57532413e-02,\n",
       "        9.92533043e-02,  2.53659729e-02,  6.08536694e-03,  3.30324541e-03,\n",
       "        7.07411841e-02,  4.57549915e-02,  4.97089662e-02, -2.57132761e-02,\n",
       "        6.41549975e-02,  9.24927145e-02, -3.85668725e-02,  9.33952816e-03,\n",
       "       -1.79801248e-02,  4.00122255e-02, -2.06488501e-02, -4.55418937e-02,\n",
       "        5.19889742e-02,  6.56843185e-02, -2.31178887e-02,  7.72347301e-02,\n",
       "        8.29076618e-02, -7.61708943e-03,  1.09452810e-02, -8.93938076e-03,\n",
       "       -1.84938591e-03,  3.34670432e-02, -1.69487856e-03, -3.83678637e-02,\n",
       "        6.12938963e-03,  1.25035178e-02, -3.03730834e-02,  2.27354863e-03,\n",
       "        3.35596800e-02, -2.32073967e-03, -2.28850842e-02, -3.83640155e-02,\n",
       "       -5.64830340e-02,  5.21805398e-02, -1.01562172e-01, -7.64318416e-03,\n",
       "       -4.31002192e-02,  1.18465051e-02,  5.66519424e-02, -6.62981570e-02,\n",
       "        4.45600748e-02,  6.49344400e-02,  4.02155332e-02,  1.37803108e-02,\n",
       "        2.61834860e-02,  2.71171257e-02,  6.15526296e-05, -1.13291359e-02,\n",
       "       -6.28372952e-02, -1.12660753e-03,  4.26280648e-02,  4.42175940e-02,\n",
       "       -2.69081797e-02, -6.92683365e-03, -3.65332179e-02,  1.11814588e-02,\n",
       "       -2.14922167e-02, -5.45592383e-02, -1.00134248e-02,  2.01208536e-02,\n",
       "        2.94785090e-02,  3.78072746e-02, -7.45477097e-04,  2.16591246e-02,\n",
       "       -3.59815620e-02,  5.96262701e-03,  5.25451591e-03, -6.42505735e-02,\n",
       "        1.24487549e-03, -2.40307990e-02,  1.42243039e-02,  4.66867685e-02,\n",
       "       -7.75346393e-03, -4.92927898e-03, -7.06399158e-02, -1.60013437e-02,\n",
       "        1.56137710e-02, -6.39060605e-03, -3.66768464e-02, -3.64047252e-02,\n",
       "       -2.21610349e-02,  1.37063060e-02,  5.92617989e-02,  3.97842452e-02,\n",
       "        1.90932434e-02,  3.63299996e-02,  6.11709505e-02,  2.44795904e-02,\n",
       "        2.88461242e-02, -4.34313044e-02, -6.28264621e-02,  4.84481640e-02,\n",
       "        2.00664531e-03, -2.18490008e-02,  4.64545339e-02, -1.51637280e-02,\n",
       "        2.01270520e-03, -2.83309612e-02,  7.97940493e-02, -1.04987016e-02,\n",
       "       -8.96538645e-02, -2.58147940e-02, -5.74612953e-02, -1.94717105e-02,\n",
       "       -2.67448090e-02, -1.20686665e-02, -7.59072695e-03,  6.71356246e-02,\n",
       "       -1.33518398e-01,  2.48057209e-02, -2.55634878e-02,  4.52956185e-03,\n",
       "        1.07840877e-02, -8.57433677e-02,  1.24668414e-02,  3.82892415e-02,\n",
       "       -1.52194481e-02,  5.43895364e-02,  1.09505877e-02, -3.13271247e-02,\n",
       "        1.26861203e-02, -1.51062505e-02,  3.17534581e-02, -7.34015484e-04,\n",
       "       -2.92504374e-02,  7.07863923e-03,  2.94511188e-02,  2.97129340e-02,\n",
       "       -2.17220094e-02, -5.66636771e-02,  3.64700705e-02, -3.11576147e-02,\n",
       "        2.10829377e-02, -2.94318274e-02, -1.33328009e-02, -7.80393230e-03,\n",
       "       -1.41991151e-03, -2.40499284e-02,  3.92542519e-02, -1.58128403e-02,\n",
       "       -5.15087992e-02, -1.70223527e-02, -1.86124388e-02,  1.82835460e-02,\n",
       "        5.93533404e-02,  9.56003368e-03,  1.41710211e-02,  5.92309609e-02,\n",
       "        1.37153724e-02, -9.30654001e-04, -3.21908928e-02,  1.66579392e-02,\n",
       "        1.89861283e-02,  3.37882377e-02,  9.06942040e-03, -4.62972485e-02,\n",
       "       -2.84244269e-02, -2.93525252e-02,  3.17586749e-03,  2.24637240e-02,\n",
       "        1.07473014e-02,  5.28044216e-02, -1.73966342e-03, -8.94009694e-03,\n",
       "        2.05002315e-02, -1.19090974e-02, -4.04270999e-02,  3.37301823e-03,\n",
       "        5.91902621e-02, -5.06340787e-02, -3.42513062e-02, -9.34030563e-02,\n",
       "        3.81242484e-02,  1.36136040e-02,  3.52661051e-02, -6.57412112e-02,\n",
       "        9.36083645e-02,  6.15865402e-02,  3.92373130e-02,  1.97115745e-02,\n",
       "        6.10374175e-02, -3.17963399e-02, -3.68845500e-02, -2.99153943e-02,\n",
       "       -2.84268684e-03,  8.00760929e-03, -4.13404703e-02, -2.91545466e-02,\n",
       "        8.71504005e-03, -3.24645191e-02,  1.14425905e-02, -1.67086050e-02,\n",
       "        3.03571839e-02, -7.99351186e-03, -1.45699959e-02, -1.47380913e-02,\n",
       "        4.77425009e-02, -4.75345291e-02, -2.87260935e-02, -1.24779018e-02,\n",
       "       -2.58156527e-02,  1.06233377e-02, -9.83325671e-03, -8.59799143e-03,\n",
       "        5.95462061e-02, -3.63881025e-03, -4.16858261e-03, -1.35389129e-02,\n",
       "       -6.32758215e-02,  1.10385465e-02, -4.30301167e-02, -1.94417238e-02,\n",
       "        1.31313847e-02, -2.57636141e-02, -1.81990415e-02, -2.79844236e-02,\n",
       "       -3.94039415e-03,  2.61866953e-03, -7.20217451e-03, -1.92389004e-02,\n",
       "        5.48402919e-03, -6.64384961e-02, -5.54704629e-02, -3.97792980e-02,\n",
       "        1.24563361e-02, -1.94304008e-02, -2.74695978e-02,  1.14403190e-02,\n",
       "       -6.26013279e-02,  5.31473719e-02, -2.25975458e-02, -3.79709266e-02,\n",
       "       -6.37628287e-02, -4.23484072e-02,  4.03472111e-02, -1.54859433e-02,\n",
       "        1.99986752e-02, -2.26522442e-02,  3.55457775e-02,  1.65402759e-02,\n",
       "       -2.54707094e-02, -1.65053438e-02, -2.76500117e-02,  1.41908210e-02,\n",
       "       -6.03499310e-03, -7.08105415e-02,  3.07467941e-04,  5.76596521e-02,\n",
       "       -1.65648237e-02, -4.54300046e-02,  5.53072477e-03,  8.96132886e-02,\n",
       "        2.54916865e-02,  1.56583022e-02,  4.87864017e-02, -2.86722668e-02,\n",
       "        6.31614774e-03,  1.72061790e-02,  3.49349827e-02,  2.12446600e-02,\n",
       "        1.23854624e-02, -1.14369793e-02, -8.85153282e-03,  2.23678201e-02,\n",
       "        2.69125011e-02,  2.49747885e-03,  9.15162789e-04, -2.66711023e-02,\n",
       "        1.79677252e-02, -4.04556058e-02,  1.74671356e-02,  4.37633619e-02,\n",
       "       -4.06682752e-02, -2.89374013e-02,  3.28469672e-03, -1.07081262e-02,\n",
       "       -4.88721281e-02, -3.44933979e-02,  6.05477719e-03, -9.77931079e-03,\n",
       "       -5.04887961e-02,  3.31614502e-02, -1.20681319e-02, -5.70808761e-02,\n",
       "        6.83562504e-03, -4.54429444e-03, -9.19971056e-03, -4.50031227e-03,\n",
       "        2.01436151e-02, -3.87822688e-02,  1.01382779e-02,  2.40395870e-02,\n",
       "        2.38419939e-02, -4.66478691e-02,  7.34343394e-06, -8.48494191e-03,\n",
       "        2.88066119e-02,  3.40793990e-02,  1.69067755e-02,  8.14019237e-03,\n",
       "       -2.86730453e-02, -2.50160340e-02, -2.78937966e-02, -8.73903837e-03,\n",
       "        7.24559044e-03,  8.77317134e-03, -4.61293804e-03,  4.54681665e-02,\n",
       "        2.97040753e-02, -5.50121889e-02,  2.54070479e-02, -3.83259030e-03,\n",
       "        3.86344530e-02, -8.87165070e-02,  9.98084550e-04, -7.60360248e-03,\n",
       "       -2.29355842e-02,  1.25186946e-02, -1.53450342e-02,  4.37689237e-02,\n",
       "       -5.14301807e-02, -3.08714006e-02,  3.68494578e-02, -2.74709631e-02,\n",
       "       -4.25303243e-02,  2.66258549e-02,  5.36477147e-03, -9.39638633e-03,\n",
       "       -2.12289561e-02,  5.54452911e-02,  2.66056731e-02,  1.96297616e-02,\n",
       "        2.49025133e-02,  3.08177643e-03,  1.39846210e-03,  3.74568626e-02,\n",
       "        2.79381350e-02,  8.79192352e-03,  1.86280552e-02,  1.85287874e-02,\n",
       "        2.85171829e-02,  9.45209991e-03, -4.90729623e-02, -6.90660328e-02,\n",
       "       -4.40433025e-02,  2.68445481e-02,  9.37743578e-03, -6.23101182e-02,\n",
       "       -2.62200702e-02, -4.42911610e-02,  3.33430916e-02, -5.52281775e-02,\n",
       "       -1.75241486e-03, -9.98744927e-03,  9.38290358e-03,  2.04389356e-02,\n",
       "        5.96649572e-02,  5.40042445e-02,  3.47534865e-02,  1.36960531e-02,\n",
       "       -5.18440641e-03,  1.05534103e-02,  4.47885040e-03, -3.15027982e-02,\n",
       "       -1.83357496e-03,  4.42494005e-02,  1.69935711e-02, -8.91879573e-02,\n",
       "        3.09530915e-05,  4.87814434e-02,  5.38792973e-03, -2.81441920e-02,\n",
       "       -1.61626898e-02, -1.25856418e-02, -1.24330604e-02, -1.88694280e-02,\n",
       "        6.55112639e-02,  2.18237448e-03,  9.03057307e-03,  6.71150833e-02,\n",
       "       -5.58778904e-02,  2.48031761e-03,  5.03586121e-02, -1.76478848e-02,\n",
       "       -3.94645073e-02,  5.83355948e-02, -2.03145016e-02, -8.29628762e-03,\n",
       "        5.35893552e-02,  3.79705392e-02,  7.25197315e-04,  9.60309897e-03,\n",
       "        6.26099408e-02,  3.23729217e-02, -4.81953174e-02,  5.94941853e-03,\n",
       "       -1.33042783e-02, -3.27690244e-02, -9.27121118e-02,  2.81073675e-02,\n",
       "       -2.54012668e-03, -7.71082714e-02,  3.79122458e-02,  5.24734438e-04,\n",
       "        3.39697301e-02,  2.48747598e-02, -1.76043976e-02, -5.28227864e-03,\n",
       "       -1.08983333e-03, -7.38776699e-02,  2.31522918e-02, -1.18315248e-02,\n",
       "        1.56752039e-02, -4.78873290e-02, -6.01696931e-02, -2.47919088e-04,\n",
       "        2.54214779e-02,  6.58282079e-03,  5.74240014e-02, -7.28005869e-03,\n",
       "        2.63866745e-02,  3.02153043e-02,  7.96219800e-03, -2.71480717e-02,\n",
       "       -2.31557922e-03, -1.16439620e-02, -6.36335183e-03,  5.79590350e-02,\n",
       "        5.03936410e-03, -1.18802302e-02,  1.79662686e-02,  4.76697199e-02,\n",
       "       -2.90381610e-02,  1.37095782e-03,  2.66430415e-02, -3.17227468e-02,\n",
       "        2.22000349e-02,  1.88792702e-02, -3.57382931e-02,  2.52768323e-02,\n",
       "        1.39613813e-02, -3.66712920e-02,  7.33502582e-03, -1.23152591e-03,\n",
       "        2.39748741e-03,  3.27124074e-02,  3.37285884e-02,  2.39754058e-02,\n",
       "        2.41197515e-02, -4.15270664e-02,  1.83825530e-02, -3.52718541e-03,\n",
       "       -3.58341821e-03,  1.10093411e-02,  3.80317494e-02,  2.38450002e-02,\n",
       "       -1.26580428e-02, -3.50481644e-02,  8.40425491e-03, -2.89721396e-02,\n",
       "        3.47816125e-02,  3.54531631e-02, -4.14447077e-02, -3.93847264e-02,\n",
       "        7.77036920e-02,  1.53335538e-02, -5.44550233e-02, -4.38855514e-02,\n",
       "       -9.82928090e-03,  3.44472961e-03,  5.08220382e-02, -6.50117081e-03,\n",
       "       -2.58715879e-02,  9.25239176e-03, -2.95255277e-02, -4.32976037e-02,\n",
       "       -5.05842734e-03,  7.70761864e-03,  4.31873091e-02, -1.28160755e-03,\n",
       "        5.91228977e-02,  9.61107493e-04,  3.20697501e-02,  2.77809426e-02,\n",
       "       -3.77872512e-02,  1.71719701e-03,  1.63598973e-02, -6.64439659e-33,\n",
       "       -7.06091011e-03,  3.85837145e-02,  1.53640918e-02, -2.15607658e-02,\n",
       "       -5.50879240e-02,  2.33081300e-02,  6.35285833e-05,  3.11547723e-02,\n",
       "       -3.11557539e-02, -1.03870472e-02, -7.55722681e-03,  4.90252813e-03,\n",
       "        2.57494431e-02, -1.92431062e-02,  6.42187474e-03, -4.75981012e-02,\n",
       "        2.07626559e-02,  4.58877720e-02, -2.97127049e-02,  4.02706377e-02,\n",
       "       -2.39982968e-03, -8.36287998e-03,  4.55638021e-02,  6.03694990e-02,\n",
       "       -3.37111652e-02, -6.50796518e-02, -1.02977054e-02, -2.10660254e-03,\n",
       "       -1.32302311e-03,  7.79231312e-03, -3.81945656e-03,  6.44878596e-02,\n",
       "       -3.53187770e-02,  8.16882402e-02,  1.06988121e-02,  2.53984064e-04,\n",
       "       -1.31526347e-02,  1.67689584e-02, -7.11971894e-02,  7.93163478e-03,\n",
       "       -1.54184522e-02,  6.36265194e-03,  1.00290570e-02, -1.46974705e-03,\n",
       "       -3.29306088e-02,  3.49122323e-02, -1.34561481e-02, -5.55301867e-02,\n",
       "        4.28796886e-03, -2.46274546e-02, -1.39309447e-02,  2.44168360e-02,\n",
       "       -5.48209026e-02, -4.69174795e-02, -1.71771031e-02,  3.07103321e-02,\n",
       "        3.79647035e-03, -8.57358575e-02, -6.05580769e-02, -4.14655320e-02,\n",
       "        8.62439647e-02,  1.53848818e-02,  5.79034425e-02,  7.68278912e-03,\n",
       "       -2.80459728e-02,  9.68190189e-03,  9.32641774e-02,  6.33622240e-03,\n",
       "        5.37713207e-02, -2.76005212e-02, -2.70611942e-02,  3.57903391e-02,\n",
       "       -4.17367704e-02, -1.78581737e-02, -2.08963919e-02, -1.05551414e-01,\n",
       "        2.72446219e-02,  3.53350379e-02,  4.83860262e-02,  6.55590668e-02,\n",
       "        8.21874943e-03,  1.02054207e-02, -5.09902053e-02, -1.13266082e-02,\n",
       "        2.02139411e-02, -2.65947878e-02, -3.99596170e-02,  1.83677096e-02,\n",
       "       -3.15355025e-02, -3.27597819e-02, -1.09042460e-02,  6.80448115e-02,\n",
       "        1.75939277e-02, -8.83550942e-03,  7.48915151e-02, -1.33665483e-02,\n",
       "       -4.05057780e-02, -1.12409713e-02,  2.78334916e-02, -3.31308134e-02,\n",
       "        5.96933849e-02, -3.17125395e-03, -6.13207631e-02,  5.92895411e-02,\n",
       "       -2.06258930e-02,  3.43816238e-03,  3.63754318e-03,  5.11236768e-03,\n",
       "       -4.67544869e-02, -3.76433916e-02,  1.46933757e-02,  7.48533057e-03,\n",
       "        4.59742397e-02,  2.05839686e-02, -1.13239582e-03,  5.22982180e-02,\n",
       "       -6.54181466e-03,  3.44880074e-02, -1.77939646e-02, -2.85736490e-02,\n",
       "        1.64543521e-02,  2.63409372e-02, -1.79890916e-02,  1.02552008e-02,\n",
       "       -4.13196869e-02,  3.69568691e-02,  2.52871830e-02, -5.32169491e-02,\n",
       "        1.72280762e-02, -5.19540012e-02, -1.21103423e-02, -4.24298868e-02,\n",
       "        2.58293625e-07, -4.11341526e-02,  6.09594695e-02, -3.11529953e-02,\n",
       "       -1.31168962e-01, -3.12655382e-02,  1.75225493e-02,  1.31412465e-02,\n",
       "        2.88461931e-02, -1.05621427e-01, -3.42593528e-02, -2.10208930e-02,\n",
       "        1.02074584e-02,  6.20942786e-02, -1.62673462e-02,  8.16557929e-02,\n",
       "       -3.23136225e-02, -7.27267712e-02, -3.53928432e-02, -1.95033737e-02,\n",
       "        5.60332043e-03, -5.45677729e-03, -6.02230523e-03,  2.44548800e-03,\n",
       "       -7.24055544e-02,  4.41873074e-02,  4.30283807e-02,  5.10067679e-03,\n",
       "       -4.31982055e-02, -5.99435531e-03,  2.72453353e-02, -8.51493254e-02,\n",
       "       -3.40190195e-02,  6.33059889e-02, -2.05261894e-02,  1.46221025e-02,\n",
       "       -4.80031334e-02,  8.48675668e-02,  5.83501607e-02,  3.87204066e-02,\n",
       "        7.23091885e-02, -5.37006333e-02,  5.68878464e-03, -2.93866103e-03,\n",
       "        2.70935260e-02, -3.40917856e-02,  6.99099600e-02, -5.71026583e-04,\n",
       "       -1.79770049e-02, -7.92981535e-02, -4.98059615e-02,  9.91232973e-03,\n",
       "        1.12634320e-02,  5.96338138e-03,  5.13637140e-02, -9.06711724e-03,\n",
       "       -3.93062383e-02,  3.12725944e-03,  4.81172614e-02, -3.60136889e-02,\n",
       "        1.01706646e-02,  3.78428996e-02, -4.35482507e-04,  2.10577101e-02,\n",
       "        8.95486772e-03, -2.53985692e-02, -1.99955385e-02,  2.45818626e-02,\n",
       "        1.85832605e-34,  4.30760495e-02, -1.87652167e-02,  9.62589215e-03,\n",
       "        6.75456151e-02, -6.21249713e-03,  8.52804922e-04, -1.63904931e-02,\n",
       "       -8.99975188e-03,  3.14638652e-02, -1.49254017e-02, -3.59330215e-02],\n",
       "      dtype=float32)"
      ]
     },
     "execution_count": 23,
     "metadata": {},
     "output_type": "execute_result"
    }
   ],
   "source": [
    "model.encode(\"abhishek\")"
   ]
  },
  {
   "cell_type": "code",
   "execution_count": 24,
   "metadata": {},
   "outputs": [
    {
     "data": {
      "text/plain": [
       "{'id': '142_2',\n",
       " 'question': 'How many calories does it have?',\n",
       " 'section': 'calories',\n",
       " 'text': 'The almond fudge banana cake has 224.8 calories.',\n",
       " 'dish_name': 'almond fudge banana cake'}"
      ]
     },
     "execution_count": 24,
     "metadata": {},
     "output_type": "execute_result"
    }
   ],
   "source": [
    "documents[1]"
   ]
  },
  {
   "cell_type": "code",
   "execution_count": 25,
   "metadata": {},
   "outputs": [],
   "source": [
    "operations = []\n",
    "\n",
    "for doc in documents:\n",
    "    doc[\"text_vector\"] = model.encode(doc[\"text\"]).tolist()\n",
    "    operations.append(doc)"
   ]
  },
  {
   "cell_type": "code",
   "execution_count": null,
   "metadata": {},
   "outputs": [],
   "source": [
    "# user question into embeddings\n",
    "\n",
    "search_term = \"Windows or mac?\"\n",
    "vector_search_term = model.encode(search_term)"
   ]
  },
  {
   "cell_type": "code",
   "execution_count": null,
   "metadata": {},
   "outputs": [],
   "source": [
    "query = {\n",
    "    \"field\":\"text_vector\",\n",
    "    \"query_vector\": vector_search_term,\n",
    "    \"k\":5,\n",
    "    \"num_candidates\":10000,\n",
    "}"
   ]
  },
  {
   "cell_type": "code",
   "execution_count": null,
   "metadata": {},
   "outputs": [],
   "source": [
    "# pass query to elastic search\n",
    "\n"
   ]
  },
  {
   "cell_type": "code",
   "execution_count": 16,
   "metadata": {},
   "outputs": [],
   "source": [
    "# if using OPENAI \n",
    "from openai import OpenAI\n",
    "client = OpenAI()\n",
    "\n",
    "def llm(prompt):\n",
    "    response = client.chat.completions.create(\n",
    "        model=\"gpt-3.5-turbo\",\n",
    "        messages=[{\"role\": \"user\", \"content\": prompt}]\n",
    "    )\n",
    "    \n",
    "    return response.choices[0].message.content"
   ]
  },
  {
   "cell_type": "code",
   "execution_count": 17,
   "metadata": {},
   "outputs": [
    {
     "data": {
      "text/plain": [
       "'\\nfrom groq import Groq   \\n\\n#create client calling Groq class\\n\\nclient = Groq(api_key=os.getenv(\\'GROQ_API_KEY\\'))\\n\\nfrom openai import OpenAI\\nclient = OpenAI()\\n\\ndef llm(prompt):\\n    response = client.chat.completions.create(\\n        model=\"llama3-8b-8192\",\\n        messages=[{\"role\": \"user\", \"content\": prompt}]\\n    )\\n    \\n    return response.choices[0].message.content\\n\\n'"
      ]
     },
     "execution_count": 17,
     "metadata": {},
     "output_type": "execute_result"
    }
   ],
   "source": [
    "# iF USING groq\n",
    "\"\"\"\n",
    "from groq import Groq   \n",
    "\n",
    "#create client calling Groq class\n",
    "\n",
    "client = Groq(api_key=os.getenv('GROQ_API_KEY'))\n",
    "\n",
    "from openai import OpenAI\n",
    "client = OpenAI()\n",
    "\n",
    "def llm(prompt):\n",
    "    response = client.chat.completions.create(\n",
    "        model=\"llama3-8b-8192\",\n",
    "        messages=[{\"role\": \"user\", \"content\": prompt}]\n",
    "    )\n",
    "    \n",
    "    return response.choices[0].message.content\n",
    "\n",
    "\"\"\""
   ]
  },
  {
   "cell_type": "code",
   "execution_count": 18,
   "metadata": {},
   "outputs": [],
   "source": [
    "def build_prompt(query, search_results):\n",
    "    prompt_template = \"\"\"\n",
    "You're an AI assistant helping with menu queries. Answer the QUESTION based on the CONTEXT provided.\n",
    "\n",
    "QUESTION: {question}\n",
    "\n",
    "CONTEXT: \n",
    "{context}\n",
    "\"\"\".strip()\n",
    "\n",
    "    context = \"\"\n",
    "    \n",
    "    for doc in search_results:\n",
    "        context += f\"Section: {doc['section']}\\nQuestion: {doc['question']}\\nAnswer: {doc['text']}\\n\\n\"\n",
    "    \n",
    "    prompt = prompt_template.format(question=query, context=context).strip()\n",
    "    return prompt\n"
   ]
  },
  {
   "cell_type": "code",
   "execution_count": null,
   "metadata": {},
   "outputs": [],
   "source": []
  },
  {
   "cell_type": "code",
   "execution_count": 19,
   "metadata": {},
   "outputs": [],
   "source": [
    "def rag(query):\n",
    "    search_results = minsearch(query)\n",
    "    prompt=build_prompt(query,search_results)\n",
    "    answer = llm(prompt)\n",
    "    return answer"
   ]
  },
  {
   "cell_type": "code",
   "execution_count": 20,
   "metadata": {},
   "outputs": [
    {
     "data": {
      "text/plain": [
       "'Based on the context provided, the white chocolate cake has 314.9 calories.'"
      ]
     },
     "execution_count": 20,
     "metadata": {},
     "output_type": "execute_result"
    }
   ],
   "source": [
    "query = \"what are the calories of white chocolate cake is it good?\"\n",
    "rag(query)"
   ]
  },
  {
   "cell_type": "code",
   "execution_count": null,
   "metadata": {},
   "outputs": [],
   "source": []
  }
 ],
 "metadata": {
  "kernelspec": {
   "display_name": "Python 3 (ipykernel)",
   "language": "python",
   "name": "python3"
  },
  "language_info": {
   "codemirror_mode": {
    "name": "ipython",
    "version": 3
   },
   "file_extension": ".py",
   "mimetype": "text/x-python",
   "name": "python",
   "nbconvert_exporter": "python",
   "pygments_lexer": "ipython3",
   "version": "3.12.4"
  }
 },
 "nbformat": 4,
 "nbformat_minor": 4
}
