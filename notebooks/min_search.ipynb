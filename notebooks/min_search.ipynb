{
 "cells": [
  {
   "cell_type": "code",
   "execution_count": 1,
   "metadata": {},
   "outputs": [
    {
     "data": {
      "text/plain": [
       "True"
      ]
     },
     "execution_count": 1,
     "metadata": {},
     "output_type": "execute_result"
    }
   ],
   "source": [
    "import json\n",
    "import pandas as pd\n",
    "import elasticsearch\n",
    "from dotenv import load_dotenv\n",
    "import os\n",
    "load_dotenv()"
   ]
  },
  {
   "cell_type": "code",
   "execution_count": 2,
   "metadata": {},
   "outputs": [
    {
     "data": {
      "text/plain": [
       "'D:\\\\Projects\\\\AI-Restaurent-Chat-bot\\\\notebooks'"
      ]
     },
     "execution_count": 2,
     "metadata": {},
     "output_type": "execute_result"
    }
   ],
   "source": [
    "import os\n",
    "os.getcwd()"
   ]
  },
  {
   "cell_type": "code",
   "execution_count": 3,
   "metadata": {},
   "outputs": [],
   "source": [
    "# change path for base folder\n",
    "base_folder = 'D:/Projects/AI-Restaurent-Chat-bot/'\n",
    "input_data_folder = base_folder+'input_data/'"
   ]
  },
  {
   "cell_type": "code",
   "execution_count": 4,
   "metadata": {},
   "outputs": [],
   "source": [
    "# openai api\n",
    "from openai import OpenAI\n",
    "client = OpenAI()\n",
    "openai_api_key = os.getenv(\"OPENAI_API_KEY\")"
   ]
  },
  {
   "cell_type": "code",
   "execution_count": 12,
   "metadata": {},
   "outputs": [],
   "source": [
    "# Read the Excel file\n",
    "df = pd.read_csv(input_data_folder+\"cakes_data.csv\")\n",
    "df.columns = df.columns.str.lower().str.replace(' ', '_')"
   ]
  },
  {
   "cell_type": "code",
   "execution_count": 13,
   "metadata": {},
   "outputs": [
    {
     "name": "stdout",
     "output_type": "stream",
     "text": [
      "<class 'pandas.core.frame.DataFrame'>\n"
     ]
    }
   ],
   "source": [
    "print(type(df))"
   ]
  },
  {
   "cell_type": "code",
   "execution_count": 14,
   "metadata": {},
   "outputs": [],
   "source": [
    "# Convert the DataFrame to a list of dictionaries (JSON-like structure)\n",
    "data = df.to_dict(orient='records')"
   ]
  },
  {
   "cell_type": "code",
   "execution_count": 15,
   "metadata": {},
   "outputs": [],
   "source": [
    "# Save to a JSON file for indexing\n",
    "with open(\"menu_data.json\", \"w\") as f:\n",
    "    json.dump(data, f, indent=4)"
   ]
  },
  {
   "cell_type": "code",
   "execution_count": 16,
   "metadata": {},
   "outputs": [
    {
     "data": {
      "text/plain": [
       "{'id': 520,\n",
       " 'name': 'apple pie cake',\n",
       " 'minutes': 40,\n",
       " 'tags': \"['60-minutes-or-less', 'time-to-make', 'course', 'main-ingredient', 'cuisine', 'preparation', 'north-american', 'pies-and-tarts', 'desserts', 'fruit', 'american', 'oven', 'cakes', 'pies', 'dietary', 'apples', 'equipment', 'number-of-servings']\",\n",
       " 'n_steps': 4,\n",
       " 'steps': \"['cream butter , sugar and the egg', 'mix together the flour , baking powder , cinnamon , salt , nutmeg , vanilla , apples , pecans , and raisins', 'mix together well with the creamed mixture', 'pour the batter into a round pie dish and bake at 350 30 to 40 minutes or until the cake is done and a toothpick inserted near the center comes out clean , not doughy']\",\n",
       " 'ingredients': \"['sugar', 'egg', 'salt', 'butter', 'flour', 'baking powder', 'cinnamon', 'nutmeg', 'vanilla', 'baking apples', 'pecans', 'golden raisin']\",\n",
       " 'n_ingredients': 12,\n",
       " 'user_id': 22504,\n",
       " 'rating': 3,\n",
       " 'review': \"The flavor of this was good, but the making of it didn't go very well.  There were a lot of steps, which isn't necessarily a  bad thing, but it didn't fall together like most cake recipes.  For example, I couldn't figure out why I had to melt the butter (and of course cool it) when I was just creaming it, or why add the sugar in two parts.   I had tons of tunnels.  And it would be helpful if there was a number for how long to bake.  At least a range, especially for us novice cooks.   It took 45 minutes for me.\",\n",
       " 'rating_category': 'so so',\n",
       " 'calories': 359.1,\n",
       " 'total_fat_(pdv)': 26,\n",
       " 'sugar_(pdv)': 136,\n",
       " 'sodium_(pdv)': 18,\n",
       " 'protein_(pdv)': 7,\n",
       " 'saturated_fat_(pdv)': 40,\n",
       " 'carbohydrates_(pdv)': 16,\n",
       " 'calorie_status': 'Low Calory',\n",
       " 'price': 20}"
      ]
     },
     "execution_count": 16,
     "metadata": {},
     "output_type": "execute_result"
    }
   ],
   "source": [
    "data[1]"
   ]
  },
  {
   "cell_type": "code",
   "execution_count": 18,
   "metadata": {},
   "outputs": [],
   "source": [
    "import wget\n",
    "url= \"https://raw.githubusercontent.com/alexeygrigorev/minsearch/main/minsearch.py\"\n",
    "#wget.download(url)\n",
    "\n"
   ]
  },
  {
   "cell_type": "code",
   "execution_count": 19,
   "metadata": {},
   "outputs": [],
   "source": [
    "import minsearch"
   ]
  },
  {
   "cell_type": "code",
   "execution_count": 20,
   "metadata": {},
   "outputs": [],
   "source": [
    "index = minsearch.Index(\n",
    "    text_fields = ['id', 'name', 'minutes', 'tags', 'n_steps', 'steps', 'ingredients', 'user_id', 'rating', 'review', 'rating_category',\n",
    "       'calories', 'total_fat_(pdv)', 'sugar_(pdv)', 'sodium_(pdv)',\n",
    "       'protein_(pdv)', 'saturated_fat_(pdv)', 'carbohydrates_(pdv)',\n",
    "       'calorie_status', 'price'],\n",
    "    keyword_fields=[]\n",
    ")"
   ]
  },
  {
   "cell_type": "code",
   "execution_count": 21,
   "metadata": {},
   "outputs": [
    {
     "data": {
      "text/plain": [
       "{'id': 520,\n",
       " 'name': 'apple pie cake',\n",
       " 'minutes': 40,\n",
       " 'tags': \"['60-minutes-or-less', 'time-to-make', 'course', 'main-ingredient', 'cuisine', 'preparation', 'north-american', 'pies-and-tarts', 'desserts', 'fruit', 'american', 'oven', 'cakes', 'pies', 'dietary', 'apples', 'equipment', 'number-of-servings']\",\n",
       " 'n_steps': 4,\n",
       " 'steps': \"['cream butter , sugar and the egg', 'mix together the flour , baking powder , cinnamon , salt , nutmeg , vanilla , apples , pecans , and raisins', 'mix together well with the creamed mixture', 'pour the batter into a round pie dish and bake at 350 30 to 40 minutes or until the cake is done and a toothpick inserted near the center comes out clean , not doughy']\",\n",
       " 'ingredients': \"['sugar', 'egg', 'salt', 'butter', 'flour', 'baking powder', 'cinnamon', 'nutmeg', 'vanilla', 'baking apples', 'pecans', 'golden raisin']\",\n",
       " 'n_ingredients': 12,\n",
       " 'user_id': 22504,\n",
       " 'rating': 3,\n",
       " 'review': \"The flavor of this was good, but the making of it didn't go very well.  There were a lot of steps, which isn't necessarily a  bad thing, but it didn't fall together like most cake recipes.  For example, I couldn't figure out why I had to melt the butter (and of course cool it) when I was just creaming it, or why add the sugar in two parts.   I had tons of tunnels.  And it would be helpful if there was a number for how long to bake.  At least a range, especially for us novice cooks.   It took 45 minutes for me.\",\n",
       " 'rating_category': 'so so',\n",
       " 'calories': 359.1,\n",
       " 'total_fat_(pdv)': 26,\n",
       " 'sugar_(pdv)': 136,\n",
       " 'sodium_(pdv)': 18,\n",
       " 'protein_(pdv)': 7,\n",
       " 'saturated_fat_(pdv)': 40,\n",
       " 'carbohydrates_(pdv)': 16,\n",
       " 'calorie_status': 'Low Calory',\n",
       " 'price': 20}"
      ]
     },
     "execution_count": 21,
     "metadata": {},
     "output_type": "execute_result"
    }
   ],
   "source": [
    "data[1]"
   ]
  },
  {
   "cell_type": "code",
   "execution_count": 22,
   "metadata": {},
   "outputs": [
    {
     "name": "stdout",
     "output_type": "stream",
     "text": [
      "Field: id, Sample Texts: [142, 520, 822, 916, 1633]\n",
      "Field: name, Sample Texts: ['almond fudge banana cake', 'apple pie cake', 'heloise s cake mix cookies', 'momma s fair funnel cake', 'mc donald s pancakes']\n",
      "Field: minutes, Sample Texts: [110, 40, 8, 20, 20]\n",
      "Field: tags, Sample Texts: [\"['weeknight', 'time-to-make', 'course', 'preparation', 'for-large-groups', 'desserts', 'oven', 'cakes', 'dietary', 'equipment', 'number-of-servings', '4-hours-or-less']\", \"['60-minutes-or-less', 'time-to-make', 'course', 'main-ingredient', 'cuisine', 'preparation', 'north-american', 'pies-and-tarts', 'desserts', 'fruit', 'american', 'oven', 'cakes', 'pies', 'dietary', 'apples', 'equipment', 'number-of-servings']\", \"['15-minutes-or-less', 'time-to-make', 'course', 'preparation', '5-ingredients-or-less', 'drop-cookies', 'desserts', 'oven', 'easy', 'cakes', 'cookies-and-brownies', 'dietary', 'equipment', 'number-of-servings']\", \"['30-minutes-or-less', 'time-to-make', 'course', 'preparation', 'healthy', 'desserts', 'cakes', 'dietary', 'number-of-servings']\", \"['30-minutes-or-less', 'time-to-make', 'course', 'preparation', '5-ingredients-or-less', 'pancakes-and-waffles', 'breakfast', 'easy', 'dietary', '3-steps-or-less']\"]\n",
      "Field: n_steps, Sample Texts: [13, 4, 4, 9, 4]\n",
      "Field: steps, Sample Texts: [\"['mash bananas and set aside', 'beat sugar and margarine until light and fluffy', 'beat in eggs , liqueur and vanilla', 'combine dry ingredients', 'stir in almonds', 'add to sugar mixture alternately with bananas', 'beat well', 'pour batter into greased 10-inch bundt pan', 'bake in preheated 350f oven 45 to 50 minutes or until toothpick inserted in center comes out almost clean and cake pulls away from side of pan', 'cool 10 minutes', 'remove cake from pan to wire rack to cool completely', 'drizzle glaze over top and down side of cake', 'make 16-20 servings']\", \"['cream butter , sugar and the egg', 'mix together the flour , baking powder , cinnamon , salt , nutmeg , vanilla , apples , pecans , and raisins', 'mix together well with the creamed mixture', 'pour the batter into a round pie dish and bake at 350 30 to 40 minutes or until the cake is done and a toothpick inserted near the center comes out clean , not doughy']\", \"['mix all ingredients well to remove lumps', 'stir in raisins and / or nuts and / or chocolate chips if you so desire', 'drop by teaspoonfuls on an ungreased baking sheet about 2-inches apart', 'bake at 350f for 8-10 minutes']\", \"['beat eggs and sugar together and then add the milk slowly--beat', 'add the dry ingredients and beat until smooth and creamy', 'pour batter into a funnel and at the same time , use your finger to plug the hole', 'in a large cast iron pot , add 2 inches of oil to the bottom', 'when the oil becomes hot , move your hand over the pot and slowly release your finger so the batter can start cooking', 'move the funnel around to make designs', 'brown on both sides--then immediately remove and drain extremely well', 'top with brown sugar , or honey , or cinnamon sugar , or powdered sugar as a topping', 'be careful and do not get burned !']\", \"['put all ingredients into a blender', 'blend on high speed a few seconds until smooth', 'let stand 10 minutes before using 1 / 4 cup batter for each pancake on hot , oiled griddle , browning each side', 'makes 8 to 10 pancakes']\"]\n",
      "Field: ingredients, Sample Texts: [\"['dole banana', 'sugar', 'margarine', 'eggs', 'amaretto liqueur', 'vanilla extract', 'all-purpose flour', 'unsweetened cocoa powder', 'baking soda', 'salt', 'dole almond']\", \"['sugar', 'egg', 'salt', 'butter', 'flour', 'baking powder', 'cinnamon', 'nutmeg', 'vanilla', 'baking apples', 'pecans', 'golden raisin']\", \"['cake mix', 'vegetable oil', 'eggs']\", \"['eggs', 'sugar', 'milk', 'flour', 'salt', 'baking powder', 'vegetable oil']\", \"['carbonated lemon-lime beverage', 'egg', 'sugar', 'oil', 'biscuit mix']\"]\n",
      "Field: user_id, Sample Texts: [914114, 22504, 36327, 13640, 60908]\n",
      "Field: rating, Sample Texts: [4, 3, 5, 5, 5]\n",
      "Field: review, Sample Texts: ['Came out great for a chocolate Easter cake. I made an almond cream cheese frosting instead of a chocolate glaze to make it more Spring-like. Very moist and the banana is definately the strongest flavor coming from the cake. Will definately make again.', \"The flavor of this was good, but the making of it didn't go very well.  There were a lot of steps, which isn't necessarily a  bad thing, but it didn't fall together like most cake recipes.  For example, I couldn't figure out why I had to melt the butter (and of course cool it) when I was just creaming it, or why add the sugar in two parts.   I had tons of tunnels.  And it would be helpful if there was a number for how long to bake.  At least a range, especially for us novice cooks.   It took 45 minutes for me.\", 'What a great recipe!  Inexpensive and EASY!!  My favorite is a chocolate cake with peanut butter chips.  Yum!', 'This is a great recipe, its small, quick and tastes great.', 'OMG, these are great! I was looking for something faster than scratch, but more interesting than plain baking mix. This fit the bill, perfectly. I did have to add about 1/2 C. of milk to thin, as the batter was too thick to scoop. But with that only addition, they were super! Very high-rising and light and fluffy. DH gave them 5 stars. They were delicious with Louisiana cane syrup. Thanks so much for sharing, CeeDee! ']\n",
      "Field: rating_category, Sample Texts: ['tasty', 'so so', 'tasty', 'tasty', 'tasty']\n",
      "Field: calories, Sample Texts: [224.8, 359.1, 137.4, 398.9, 225.6]\n",
      "Field: total_fat_(pdv), Sample Texts: [14, 26, 11, 9, 14]\n",
      "Field: sugar_(pdv), Sample Texts: [87, 136, 46, 34, 39]\n",
      "Field: sodium_(pdv), Sample Texts: [10, 18, 6, 16, 16]\n",
      "Field: protein_(pdv), Sample Texts: [7, 7, 2, 27, 8]\n",
      "Field: saturated_fat_(pdv), Sample Texts: [9, 40, 5, 13, 10]\n",
      "Field: carbohydrates_(pdv), Sample Texts: [11, 16, 5, 23, 10]\n",
      "Field: calorie_status, Sample Texts: ['Low Calory', 'Low Calory', 'Low Calory', 'Low Calory', 'Low Calory']\n",
      "Field: price, Sample Texts: [24, 20, 44, 31, 31]\n"
     ]
    }
   ],
   "source": [
    "for field in index.text_fields:\n",
    "    texts = [doc.get(field, '') for doc in data]\n",
    "    print(f\"Field: {field}, Sample Texts: {texts[:5]}\")  # Print first 5 texts for each field"
   ]
  },
  {
   "cell_type": "code",
   "execution_count": 46,
   "metadata": {},
   "outputs": [
    {
     "ename": "ValueError",
     "evalue": "empty vocabulary; perhaps the documents only contain stop words",
     "output_type": "error",
     "traceback": [
      "\u001b[1;31m---------------------------------------------------------------------------\u001b[0m",
      "\u001b[1;31mValueError\u001b[0m                                Traceback (most recent call last)",
      "Cell \u001b[1;32mIn[46], line 6\u001b[0m\n\u001b[0;32m      3\u001b[0m     \u001b[38;5;28;01mfor\u001b[39;00m field \u001b[38;5;129;01min\u001b[39;00m index\u001b[38;5;241m.\u001b[39mtext_fields:\n\u001b[0;32m      4\u001b[0m         doc[field] \u001b[38;5;241m=\u001b[39m \u001b[38;5;28mstr\u001b[39m(doc\u001b[38;5;241m.\u001b[39mget(field, \u001b[38;5;124m'\u001b[39m\u001b[38;5;124m'\u001b[39m))\n\u001b[1;32m----> 6\u001b[0m \u001b[43mindex\u001b[49m\u001b[38;5;241;43m.\u001b[39;49m\u001b[43mfit\u001b[49m\u001b[43m(\u001b[49m\u001b[43mdata\u001b[49m\u001b[43m)\u001b[49m\n",
      "File \u001b[1;32mD:\\Projects\\AI-Restaurent-Chat-bot\\notebooks\\minsearch.py:51\u001b[0m, in \u001b[0;36mIndex.fit\u001b[1;34m(self, docs)\u001b[0m\n\u001b[0;32m     49\u001b[0m \u001b[38;5;28;01mfor\u001b[39;00m field \u001b[38;5;129;01min\u001b[39;00m \u001b[38;5;28mself\u001b[39m\u001b[38;5;241m.\u001b[39mtext_fields:\n\u001b[0;32m     50\u001b[0m     texts \u001b[38;5;241m=\u001b[39m [doc\u001b[38;5;241m.\u001b[39mget(field, \u001b[38;5;124m'\u001b[39m\u001b[38;5;124m'\u001b[39m) \u001b[38;5;28;01mfor\u001b[39;00m doc \u001b[38;5;129;01min\u001b[39;00m docs]\n\u001b[1;32m---> 51\u001b[0m     \u001b[38;5;28mself\u001b[39m\u001b[38;5;241m.\u001b[39mtext_matrices[field] \u001b[38;5;241m=\u001b[39m \u001b[38;5;28;43mself\u001b[39;49m\u001b[38;5;241;43m.\u001b[39;49m\u001b[43mvectorizers\u001b[49m\u001b[43m[\u001b[49m\u001b[43mfield\u001b[49m\u001b[43m]\u001b[49m\u001b[38;5;241;43m.\u001b[39;49m\u001b[43mfit_transform\u001b[49m\u001b[43m(\u001b[49m\u001b[43mtexts\u001b[49m\u001b[43m)\u001b[49m\n\u001b[0;32m     53\u001b[0m \u001b[38;5;28;01mfor\u001b[39;00m doc \u001b[38;5;129;01min\u001b[39;00m docs:\n\u001b[0;32m     54\u001b[0m     \u001b[38;5;28;01mfor\u001b[39;00m field \u001b[38;5;129;01min\u001b[39;00m \u001b[38;5;28mself\u001b[39m\u001b[38;5;241m.\u001b[39mkeyword_fields:\n",
      "File \u001b[1;32m~\\AppData\\Local\\Programs\\Python\\Python312\\Lib\\site-packages\\sklearn\\feature_extraction\\text.py:2091\u001b[0m, in \u001b[0;36mTfidfVectorizer.fit_transform\u001b[1;34m(self, raw_documents, y)\u001b[0m\n\u001b[0;32m   2084\u001b[0m \u001b[38;5;28mself\u001b[39m\u001b[38;5;241m.\u001b[39m_check_params()\n\u001b[0;32m   2085\u001b[0m \u001b[38;5;28mself\u001b[39m\u001b[38;5;241m.\u001b[39m_tfidf \u001b[38;5;241m=\u001b[39m TfidfTransformer(\n\u001b[0;32m   2086\u001b[0m     norm\u001b[38;5;241m=\u001b[39m\u001b[38;5;28mself\u001b[39m\u001b[38;5;241m.\u001b[39mnorm,\n\u001b[0;32m   2087\u001b[0m     use_idf\u001b[38;5;241m=\u001b[39m\u001b[38;5;28mself\u001b[39m\u001b[38;5;241m.\u001b[39muse_idf,\n\u001b[0;32m   2088\u001b[0m     smooth_idf\u001b[38;5;241m=\u001b[39m\u001b[38;5;28mself\u001b[39m\u001b[38;5;241m.\u001b[39msmooth_idf,\n\u001b[0;32m   2089\u001b[0m     sublinear_tf\u001b[38;5;241m=\u001b[39m\u001b[38;5;28mself\u001b[39m\u001b[38;5;241m.\u001b[39msublinear_tf,\n\u001b[0;32m   2090\u001b[0m )\n\u001b[1;32m-> 2091\u001b[0m X \u001b[38;5;241m=\u001b[39m \u001b[38;5;28;43msuper\u001b[39;49m\u001b[43m(\u001b[49m\u001b[43m)\u001b[49m\u001b[38;5;241;43m.\u001b[39;49m\u001b[43mfit_transform\u001b[49m\u001b[43m(\u001b[49m\u001b[43mraw_documents\u001b[49m\u001b[43m)\u001b[49m\n\u001b[0;32m   2092\u001b[0m \u001b[38;5;28mself\u001b[39m\u001b[38;5;241m.\u001b[39m_tfidf\u001b[38;5;241m.\u001b[39mfit(X)\n\u001b[0;32m   2093\u001b[0m \u001b[38;5;66;03m# X is already a transformed view of raw_documents so\u001b[39;00m\n\u001b[0;32m   2094\u001b[0m \u001b[38;5;66;03m# we set copy to False\u001b[39;00m\n",
      "File \u001b[1;32m~\\AppData\\Local\\Programs\\Python\\Python312\\Lib\\site-packages\\sklearn\\base.py:1473\u001b[0m, in \u001b[0;36m_fit_context.<locals>.decorator.<locals>.wrapper\u001b[1;34m(estimator, *args, **kwargs)\u001b[0m\n\u001b[0;32m   1466\u001b[0m     estimator\u001b[38;5;241m.\u001b[39m_validate_params()\n\u001b[0;32m   1468\u001b[0m \u001b[38;5;28;01mwith\u001b[39;00m config_context(\n\u001b[0;32m   1469\u001b[0m     skip_parameter_validation\u001b[38;5;241m=\u001b[39m(\n\u001b[0;32m   1470\u001b[0m         prefer_skip_nested_validation \u001b[38;5;129;01mor\u001b[39;00m global_skip_validation\n\u001b[0;32m   1471\u001b[0m     )\n\u001b[0;32m   1472\u001b[0m ):\n\u001b[1;32m-> 1473\u001b[0m     \u001b[38;5;28;01mreturn\u001b[39;00m \u001b[43mfit_method\u001b[49m\u001b[43m(\u001b[49m\u001b[43mestimator\u001b[49m\u001b[43m,\u001b[49m\u001b[43m \u001b[49m\u001b[38;5;241;43m*\u001b[39;49m\u001b[43margs\u001b[49m\u001b[43m,\u001b[49m\u001b[43m \u001b[49m\u001b[38;5;241;43m*\u001b[39;49m\u001b[38;5;241;43m*\u001b[39;49m\u001b[43mkwargs\u001b[49m\u001b[43m)\u001b[49m\n",
      "File \u001b[1;32m~\\AppData\\Local\\Programs\\Python\\Python312\\Lib\\site-packages\\sklearn\\feature_extraction\\text.py:1372\u001b[0m, in \u001b[0;36mCountVectorizer.fit_transform\u001b[1;34m(self, raw_documents, y)\u001b[0m\n\u001b[0;32m   1364\u001b[0m             warnings\u001b[38;5;241m.\u001b[39mwarn(\n\u001b[0;32m   1365\u001b[0m                 \u001b[38;5;124m\"\u001b[39m\u001b[38;5;124mUpper case characters found in\u001b[39m\u001b[38;5;124m\"\u001b[39m\n\u001b[0;32m   1366\u001b[0m                 \u001b[38;5;124m\"\u001b[39m\u001b[38;5;124m vocabulary while \u001b[39m\u001b[38;5;124m'\u001b[39m\u001b[38;5;124mlowercase\u001b[39m\u001b[38;5;124m'\u001b[39m\u001b[38;5;124m\"\u001b[39m\n\u001b[0;32m   1367\u001b[0m                 \u001b[38;5;124m\"\u001b[39m\u001b[38;5;124m is True. These entries will not\u001b[39m\u001b[38;5;124m\"\u001b[39m\n\u001b[0;32m   1368\u001b[0m                 \u001b[38;5;124m\"\u001b[39m\u001b[38;5;124m be matched with any documents\u001b[39m\u001b[38;5;124m\"\u001b[39m\n\u001b[0;32m   1369\u001b[0m             )\n\u001b[0;32m   1370\u001b[0m             \u001b[38;5;28;01mbreak\u001b[39;00m\n\u001b[1;32m-> 1372\u001b[0m vocabulary, X \u001b[38;5;241m=\u001b[39m \u001b[38;5;28;43mself\u001b[39;49m\u001b[38;5;241;43m.\u001b[39;49m\u001b[43m_count_vocab\u001b[49m\u001b[43m(\u001b[49m\u001b[43mraw_documents\u001b[49m\u001b[43m,\u001b[49m\u001b[43m \u001b[49m\u001b[38;5;28;43mself\u001b[39;49m\u001b[38;5;241;43m.\u001b[39;49m\u001b[43mfixed_vocabulary_\u001b[49m\u001b[43m)\u001b[49m\n\u001b[0;32m   1374\u001b[0m \u001b[38;5;28;01mif\u001b[39;00m \u001b[38;5;28mself\u001b[39m\u001b[38;5;241m.\u001b[39mbinary:\n\u001b[0;32m   1375\u001b[0m     X\u001b[38;5;241m.\u001b[39mdata\u001b[38;5;241m.\u001b[39mfill(\u001b[38;5;241m1\u001b[39m)\n",
      "File \u001b[1;32m~\\AppData\\Local\\Programs\\Python\\Python312\\Lib\\site-packages\\sklearn\\feature_extraction\\text.py:1278\u001b[0m, in \u001b[0;36mCountVectorizer._count_vocab\u001b[1;34m(self, raw_documents, fixed_vocab)\u001b[0m\n\u001b[0;32m   1276\u001b[0m     vocabulary \u001b[38;5;241m=\u001b[39m \u001b[38;5;28mdict\u001b[39m(vocabulary)\n\u001b[0;32m   1277\u001b[0m     \u001b[38;5;28;01mif\u001b[39;00m \u001b[38;5;129;01mnot\u001b[39;00m vocabulary:\n\u001b[1;32m-> 1278\u001b[0m         \u001b[38;5;28;01mraise\u001b[39;00m \u001b[38;5;167;01mValueError\u001b[39;00m(\n\u001b[0;32m   1279\u001b[0m             \u001b[38;5;124m\"\u001b[39m\u001b[38;5;124mempty vocabulary; perhaps the documents only contain stop words\u001b[39m\u001b[38;5;124m\"\u001b[39m\n\u001b[0;32m   1280\u001b[0m         )\n\u001b[0;32m   1282\u001b[0m \u001b[38;5;28;01mif\u001b[39;00m indptr[\u001b[38;5;241m-\u001b[39m\u001b[38;5;241m1\u001b[39m] \u001b[38;5;241m>\u001b[39m np\u001b[38;5;241m.\u001b[39miinfo(np\u001b[38;5;241m.\u001b[39mint32)\u001b[38;5;241m.\u001b[39mmax:  \u001b[38;5;66;03m# = 2**31 - 1\u001b[39;00m\n\u001b[0;32m   1283\u001b[0m     \u001b[38;5;28;01mif\u001b[39;00m _IS_32BIT:\n",
      "\u001b[1;31mValueError\u001b[0m: empty vocabulary; perhaps the documents only contain stop words"
     ]
    }
   ],
   "source": [
    "# Convert all fields in the data to strings\n",
    "for doc in data:\n",
    "    for field in index.text_fields:\n",
    "        doc[field] = str(doc.get(field, ''))\n",
    "\n",
    "index.fit(data)"
   ]
  },
  {
   "cell_type": "code",
   "execution_count": 36,
   "metadata": {},
   "outputs": [],
   "source": [
    "question =\"names under 15"
   ]
  },
  {
   "cell_type": "code",
   "execution_count": null,
   "metadata": {},
   "outputs": [],
   "source": [
    "index.search(question)"
   ]
  },
  {
   "cell_type": "code",
   "execution_count": null,
   "metadata": {},
   "outputs": [],
   "source": [
    "from elasticsearch import Elasticsearch\n",
    "\n",
    "es = Elasticsearch(\"http://localhost:9200\")\n",
    "es.info()"
   ]
  },
  {
   "cell_type": "code",
   "execution_count": 44,
   "metadata": {},
   "outputs": [
    {
     "name": "stdout",
     "output_type": "stream",
     "text": [
      "Index 'menu-items' already exists.\n"
     ]
    }
   ],
   "source": [
    "\n",
    "index_name = \"menu-items\"\n",
    "\n",
    "# Check if index exists\n",
    "if not es.indices.exists(index=index_name):\n",
    "    # Create the index with the correct mapping\n",
    "    response = es.indices.create(\n",
    "        index=index_name,\n",
    "        body={\n",
    "            \"settings\": {\n",
    "                \"number_of_shards\": 1,\n",
    "                \"number_of_replicas\": 0\n",
    "            },\n",
    "            \"mappings\": {\n",
    "                \"properties\": {\n",
    "                    \"category\": {\"type\": \"text\"},\n",
    "                    \"dishes\": {\n",
    "                        \"type\": \"nested\",\n",
    "                        \"properties\": {\n",
    "                            \"dish name\": {\"type\": \"text\"},\n",
    "                            \"documents\": {\n",
    "                                \"type\": \"nested\",\n",
    "                                \"properties\": {\n",
    "                                    \"id\": {\"type\": \"keyword\"},\n",
    "                                    \"question\": {\"type\": \"text\"},\n",
    "                                    \"section\": {\"type\": \"text\"},\n",
    "                                    \"text\": {\"type\": \"text\"}\n",
    "                                }\n",
    "                            }\n",
    "                        }\n",
    "                    }\n",
    "                }\n",
    "            }\n",
    "        }\n",
    "    )\n",
    "    print(\"Index creation response:\", response)\n",
    "else:\n",
    "    print(f\"Index '{index_name}' already exists.\")\n"
   ]
  },
  {
   "cell_type": "code",
   "execution_count": 88,
   "metadata": {},
   "outputs": [
    {
     "name": "stdout",
     "output_type": "stream",
     "text": [
      "Index 'menu-items' already exists.\n"
     ]
    }
   ],
   "source": [
    "\n",
    "index_name = \"menu-items\"\n",
    "\n",
    "# Check if index exists\n",
    "if not es.indices.exists(index=index_name):\n",
    "    # Create the index with the correct mapping\n",
    "    response = es.indices.create(\n",
    "        index=index_name,\n",
    "        body={\n",
    "            \"settings\": {\n",
    "                \"number_of_shards\": 1,\n",
    "                \"number_of_replicas\": 0\n",
    "            },\n",
    "            \"mappings\": {\n",
    "        \"properties\": {\n",
    "            \"text\": {\"type\": \"text\"},\n",
    "            \"section\": {\"type\": \"text\"},\n",
    "            \"question\": {\"type\": \"text\"},\n",
    "            \"dish_name\": {\"type\": \"keyword\"},\n",
    "            \"id\": {\"type\": \"keyword\"}\n",
    "        }\n",
    "    }\n",
    "        }\n",
    "    )\n",
    "    print(\"Index creation response:\", response)\n",
    "else:\n",
    "    print(f\"Index '{index_name}' already exists.\")\n"
   ]
  },
  {
   "cell_type": "code",
   "execution_count": 91,
   "metadata": {},
   "outputs": [
    {
     "name": "stderr",
     "output_type": "stream",
     "text": [
      "100%|██████████████████████████████████████████████████████████| 3584/3584 [03:17<00:00, 18.18it/s]\n"
     ]
    }
   ],
   "source": [
    "from tqdm.auto import tqdm\n",
    "from elasticsearch.exceptions import NotFoundError, RequestError\n",
    "\n",
    "for doc in tqdm(documents):\n",
    "    try:\n",
    "        es.index(index=index_name, document=doc)\n",
    "    except (NotFoundError, RequestError) as e:\n",
    "        print(f\"Error indexing document: {doc}\")\n",
    "        print(e)\n"
   ]
  },
  {
   "cell_type": "code",
   "execution_count": 92,
   "metadata": {},
   "outputs": [
    {
     "name": "stdout",
     "output_type": "stream",
     "text": [
      "{'took': 1275, 'timed_out': False, '_shards': {'total': 1, 'successful': 1, 'skipped': 0, 'failed': 0}, 'hits': {'total': {'value': 0, 'relation': 'eq'}, 'max_score': None, 'hits': []}}\n"
     ]
    }
   ],
   "source": [
    "from elasticsearch import Elasticsearch\n",
    "\n",
    "es = Elasticsearch(\"http://localhost:9200\")\n",
    "index_name = \"menu-items\"\n",
    "\n",
    "# Example search query\n",
    "query = {\n",
    "    \"query\": {\n",
    "        \"match\": {\n",
    "            \"documents.text\": \"banana\"\n",
    "        }\n",
    "    }\n",
    "}\n",
    "\n",
    "response = es.search(index=index_name, body=query)\n",
    "print(response)\n"
   ]
  },
  {
   "cell_type": "code",
   "execution_count": 93,
   "metadata": {},
   "outputs": [
    {
     "name": "stdout",
     "output_type": "stream",
     "text": [
      "{'took': 33, 'timed_out': False, '_shards': {'total': 1, 'successful': 1, 'skipped': 0, 'failed': 0}, 'hits': {'total': {'value': 10000, 'relation': 'gte'}, 'max_score': 1.0, 'hits': [{'_index': 'menu-items', '_id': 'q1NncJEBM82uNR2Or_9y', '_score': 1.0, '_source': {'id': '3091.0_1', 'question': 'What are the ingredients?', 'section': 'ingredients', 'text': \"The kitty litter cake contains the following ingredients: ['spice cake mix', 'eggs', 'oil', 'water', 'white cake mix', 'vanilla instant pudding mix', 'cookies', 'green food coloring', 'tootsie rolls', 'new kitty litter box', 'pooper scooper']\", 'dish_name': 'kitty litter cake'}}, {'_index': 'menu-items', '_id': 'rFNncJEBM82uNR2Or_-u', '_score': 1.0, '_source': {'id': '3091.0_2', 'question': 'How many calories does it have?', 'section': 'calories', 'text': 'The kitty litter cake has 354.2 calories.', 'dish_name': 'kitty litter cake'}}, {'_index': 'menu-items', '_id': 'rVNncJEBM82uNR2Or__h', '_score': 1.0, '_source': {'id': '3091.0_3', 'question': 'How much total fat does it contain?', 'section': 'nutritional', 'text': 'The kitty litter cake has 23.0 grams of total fat (PDV).', 'dish_name': 'kitty litter cake'}}, {'_index': 'menu-items', '_id': 'rlNncJEBM82uNR2OsP8d', '_score': 1.0, '_source': {'id': '3091.0_4', 'question': 'What is the sugar content?', 'section': 'nutritional', 'text': 'The kitty litter cake has 144.0 grams of sugar (PDV).', 'dish_name': 'kitty litter cake'}}, {'_index': 'menu-items', '_id': 'r1NncJEBM82uNR2OsP9Y', '_score': 1.0, '_source': {'id': '3091.0_5', 'question': 'How much sodium is in this dish?', 'section': 'nutritional', 'text': 'The kitty litter cake has 20.0 grams of sodium (PDV).', 'dish_name': 'kitty litter cake'}}, {'_index': 'menu-items', '_id': 'sFNncJEBM82uNR2OsP-K', '_score': 1.0, '_source': {'id': '3091.0_6', 'question': 'What is the protein content?', 'section': 'nutritional', 'text': 'The kitty litter cake has 8.0 grams of protein (PDV).', 'dish_name': 'kitty litter cake'}}, {'_index': 'menu-items', '_id': 'sVNncJEBM82uNR2OsP_G', '_score': 1.0, '_source': {'id': '3091.0_7', 'question': 'How much saturated fat is present?', 'section': 'nutritional', 'text': 'The kitty litter cake has 13.0 grams of saturated fat (PDV).', 'dish_name': 'kitty litter cake'}}, {'_index': 'menu-items', '_id': 'slNncJEBM82uNR2OsP_4', '_score': 1.0, '_source': {'id': '3091.0_8', 'question': 'What are the carbohydrate levels?', 'section': 'nutritional', 'text': 'The kitty litter cake has 16.0 grams of carbohydrates (PDV).', 'dish_name': 'kitty litter cake'}}, {'_index': 'menu-items', '_id': 's1NncJEBM82uNR2Osf80', '_score': 1.0, '_source': {'id': '3091.0_9', 'question': 'How long does it take to prepare?', 'section': 'preparation', 'text': 'The kitty litter cake takes 60.0 minutes to prepare.', 'dish_name': 'kitty litter cake'}}, {'_index': 'menu-items', '_id': 'tFNncJEBM82uNR2Osf9w', '_score': 1.0, '_source': {'id': '3091.0_10', 'question': 'What are the steps to prepare this dish?', 'section': 'steps', 'text': 'The kitty litter cake contains [\\'prepare cake mixes and bake according to box directions\\', \\'prepare pudding , chill until ready to assemble\\', \\'crumble sandwich cookies in small batches in food processor , scraping often\\', \\'set aside all but 1 / 4 cup\\', \\'to the 1 / 4 cup of crumbs , add a few drops of green food coloring and mix using fork or shake in a jar\\', \\'when cakes are cooled to room temp , crumble into a large bowl\\', \\'toss with half the remaining cookie crumbs and chilled pudding\\', \\'you probably won\\\\\\'t need all the pudding , mix the cake and \"feel\" it , you don\\\\\\'t want it soggy , just moist\\', \\'ge ntly combine\\', \\'line litter box\\', \\'put mixture into box\\', \\'put 3 unwrapped tootsie rolls in microwave safe dish and heat until softened\\', \\'shape ends so they are no longer blunt , curving slightly\\', \\'repeat with 3 more tootsie rolls and bury in cake mixture\\', \\'sprinkle the other half of cookie crumbs over top\\', \\'scatter green crumbles lightly over top\\', \\'heat 3 tootsie rolls in microwave until almost melted\\', \\'scrape them on top of the cake and sprinkle with cookie crumbs\\', \\'spread remaining tootsie rolls over top\\', \\'take one and heat until pliable , hang over side of litter box , sprinkle with cookie crumbs\\']', 'dish_name': 'kitty litter cake'}}]}}\n"
     ]
    }
   ],
   "source": [
    "response = es.search(index=index_name, body={\"query\": {\"match_all\": {}}})\n",
    "print(response)"
   ]
  },
  {
   "cell_type": "code",
   "execution_count": 46,
   "metadata": {},
   "outputs": [
    {
     "name": "stdout",
     "output_type": "stream",
     "text": [
      "{'menu-items': {'mappings': {'properties': {'dish_name': {'type': 'keyword'}, 'id': {'type': 'keyword'}, 'question': {'type': 'text'}, 'section': {'type': 'text'}, 'text': {'type': 'text'}}}}}\n",
      "{'menu-items': {'settings': {'index': {'routing': {'allocation': {'include': {'_tier_preference': 'data_content'}}}, 'number_of_shards': '1', 'provided_name': 'menu-items', 'creation_date': '1724167714048', 'number_of_replicas': '0', 'uuid': 'LYmVzOZIRcqRaTQhnwAfZQ', 'version': {'created': '8040399'}}}}}\n"
     ]
    }
   ],
   "source": [
    "# Check index mapping\n",
    "mapping = es.indices.get_mapping(index=index_name)\n",
    "print(mapping)\n",
    "\n",
    "# Check index settings\n",
    "settings = es.indices.get_settings(index=index_name)\n",
    "print(settings)"
   ]
  },
  {
   "cell_type": "code",
   "execution_count": 94,
   "metadata": {},
   "outputs": [],
   "source": [
    "query = \"almond fudge banana cake\""
   ]
  },
  {
   "cell_type": "code",
   "execution_count": 98,
   "metadata": {},
   "outputs": [
    {
     "data": {
      "text/plain": [
       "{'id': '142_1',\n",
       " 'question': 'What are the ingredients?',\n",
       " 'section': 'ingredients',\n",
       " 'text': \"The almond fudge banana cake contains the following ingredients: ['dole banana', 'sugar', 'margarine', 'eggs', 'amaretto liqueur', 'vanilla extract', 'all-purpose flour', 'unsweetened cocoa powder', 'baking soda', 'salt', 'dole almond']\",\n",
       " 'dish_name': 'almond fudge banana cake'}"
      ]
     },
     "execution_count": 98,
     "metadata": {},
     "output_type": "execute_result"
    }
   ],
   "source": [
    "documents[0]"
   ]
  },
  {
   "cell_type": "code",
   "execution_count": 116,
   "metadata": {},
   "outputs": [],
   "source": [
    "def elastic_search(query, dish_name=None):\n",
    "    search_query = {\n",
    "        \"size\": 5,\n",
    "        \"query\": {\n",
    "            \"bool\": {\n",
    "                \"must\": [\n",
    "                    {\n",
    "                        \"multi_match\": {\n",
    "                            \"query\": query,\n",
    "                            \"fields\": [\"dish_name^6\", \"question^3\", \"text\", \"section\"],\n",
    "                            \"type\": \"best_fields\"\n",
    "                        }\n",
    "                    }\n",
    "                ]\n",
    "            }\n",
    "        }\n",
    "    }\n",
    "\n",
    "    # Add a filter by dish_name if it's provided\n",
    "    if dish_name:\n",
    "        search_query[\"query\"][\"bool\"][\"filter\"] = {\n",
    "            \"term\": {\n",
    "                \"dish_name.keyword\": dish_name\n",
    "            }\n",
    "        }\n",
    "\n",
    "    # Perform the search\n",
    "    response = es.search(index=index_name, body=search_query)\n",
    "\n",
    "    result_docs = []\n",
    "\n",
    "    for hit in response['hits']['hits']:\n",
    "        doc = hit['_source']\n",
    "        result_docs.append(doc)  # Collect all documents\n",
    "        \n",
    "\n",
    "    return result_docs\n"
   ]
  },
  {
   "cell_type": "code",
   "execution_count": 135,
   "metadata": {},
   "outputs": [
    {
     "data": {
      "text/plain": [
       "[{'id': '3091.0_1',\n",
       "  'question': 'What are the ingredients?',\n",
       "  'section': 'ingredients',\n",
       "  'text': \"The kitty litter cake contains the following ingredients: ['spice cake mix', 'eggs', 'oil', 'water', 'white cake mix', 'vanilla instant pudding mix', 'cookies', 'green food coloring', 'tootsie rolls', 'new kitty litter box', 'pooper scooper']\",\n",
       "  'dish_name': 'kitty litter cake'},\n",
       " {'id': '3333.0_1',\n",
       "  'question': 'What are the ingredients?',\n",
       "  'section': 'ingredients',\n",
       "  'text': \"The dirt cake ii contains the following ingredients: ['oreo cookies', 'butter', 'cream cheese', 'instant vanilla pudding', 'milk', 'cool whip', 'flower pot', 'artificial flower']\",\n",
       "  'dish_name': 'dirt cake ii'},\n",
       " {'id': '822.0_1',\n",
       "  'question': 'What are the ingredients?',\n",
       "  'section': 'ingredients',\n",
       "  'text': \"The heloise s cake mix cookies contains the following ingredients: ['cake mix', 'vegetable oil', 'eggs']\",\n",
       "  'dish_name': 'heloise s cake mix cookies'},\n",
       " {'id': '520.0_1',\n",
       "  'question': 'What are the ingredients?',\n",
       "  'section': 'ingredients',\n",
       "  'text': \"The apple pie cake contains the following ingredients: ['sugar', 'egg', 'salt', 'butter', 'flour', 'baking powder', 'cinnamon', 'nutmeg', 'vanilla', 'baking apples', 'pecans', 'golden raisin']\",\n",
       "  'dish_name': 'apple pie cake'},\n",
       " {'id': '916.0_1',\n",
       "  'question': 'What are the ingredients?',\n",
       "  'section': 'ingredients',\n",
       "  'text': \"The momma s fair funnel cake contains the following ingredients: ['eggs', 'sugar', 'milk', 'flour', 'salt', 'baking powder', 'vegetable oil']\",\n",
       "  'dish_name': 'momma s fair funnel cake'}]"
      ]
     },
     "execution_count": 135,
     "metadata": {},
     "output_type": "execute_result"
    }
   ],
   "source": [
    "elastic_search(query)"
   ]
  },
  {
   "cell_type": "code",
   "execution_count": 132,
   "metadata": {},
   "outputs": [],
   "source": [
    "def build_prompt(query, search_results):\n",
    "    prompt_template = \"\"\"\n",
    "You're an AI assistant helping with menu queries. Answer the QUESTION based on the CONTEXT provided.\n",
    "\n",
    "QUESTION: {question}\n",
    "\n",
    "CONTEXT: \n",
    "{context}\n",
    "\"\"\".strip()\n",
    "\n",
    "    context = \"\"\n",
    "    \n",
    "    for doc in search_results:\n",
    "        context += f\"Section: {doc['section']}\\nQuestion: {doc['question']}\\nAnswer: {doc['text']}\\n\\n\"\n",
    "    \n",
    "    prompt = prompt_template.format(question=query, context=context).strip()\n",
    "    return prompt\n"
   ]
  },
  {
   "cell_type": "code",
   "execution_count": 133,
   "metadata": {},
   "outputs": [
    {
     "data": {
      "text/plain": [
       "'what are ingredients in banana pudding cake contain'"
      ]
     },
     "execution_count": 133,
     "metadata": {},
     "output_type": "execute_result"
    }
   ],
   "source": [
    "query"
   ]
  },
  {
   "cell_type": "code",
   "execution_count": 134,
   "metadata": {},
   "outputs": [
    {
     "data": {
      "text/plain": [
       "[{'id': '3091.0_1',\n",
       "  'question': 'What are the ingredients?',\n",
       "  'section': 'ingredients',\n",
       "  'text': \"The kitty litter cake contains the following ingredients: ['spice cake mix', 'eggs', 'oil', 'water', 'white cake mix', 'vanilla instant pudding mix', 'cookies', 'green food coloring', 'tootsie rolls', 'new kitty litter box', 'pooper scooper']\",\n",
       "  'dish_name': 'kitty litter cake'},\n",
       " {'id': '3333.0_1',\n",
       "  'question': 'What are the ingredients?',\n",
       "  'section': 'ingredients',\n",
       "  'text': \"The dirt cake ii contains the following ingredients: ['oreo cookies', 'butter', 'cream cheese', 'instant vanilla pudding', 'milk', 'cool whip', 'flower pot', 'artificial flower']\",\n",
       "  'dish_name': 'dirt cake ii'},\n",
       " {'id': '822.0_1',\n",
       "  'question': 'What are the ingredients?',\n",
       "  'section': 'ingredients',\n",
       "  'text': \"The heloise s cake mix cookies contains the following ingredients: ['cake mix', 'vegetable oil', 'eggs']\",\n",
       "  'dish_name': 'heloise s cake mix cookies'},\n",
       " {'id': '520.0_1',\n",
       "  'question': 'What are the ingredients?',\n",
       "  'section': 'ingredients',\n",
       "  'text': \"The apple pie cake contains the following ingredients: ['sugar', 'egg', 'salt', 'butter', 'flour', 'baking powder', 'cinnamon', 'nutmeg', 'vanilla', 'baking apples', 'pecans', 'golden raisin']\",\n",
       "  'dish_name': 'apple pie cake'},\n",
       " {'id': '916.0_1',\n",
       "  'question': 'What are the ingredients?',\n",
       "  'section': 'ingredients',\n",
       "  'text': \"The momma s fair funnel cake contains the following ingredients: ['eggs', 'sugar', 'milk', 'flour', 'salt', 'baking powder', 'vegetable oil']\",\n",
       "  'dish_name': 'momma s fair funnel cake'}]"
      ]
     },
     "execution_count": 134,
     "metadata": {},
     "output_type": "execute_result"
    }
   ],
   "source": [
    "search_results= elastic_search(query)\n",
    "search_results"
   ]
  },
  {
   "cell_type": "code",
   "execution_count": 119,
   "metadata": {},
   "outputs": [],
   "source": [
    "# if using OPENAI \n",
    "from openai import OpenAI\n",
    "client = OpenAI()\n",
    "\n",
    "def llm(prompt):\n",
    "    response = client.chat.completions.create(\n",
    "        model=\"gpt-3.5-turbo\",\n",
    "        messages=[{\"role\": \"user\", \"content\": prompt}]\n",
    "    )\n",
    "    \n",
    "    return response.choices[0].message.content"
   ]
  },
  {
   "cell_type": "code",
   "execution_count": 120,
   "metadata": {},
   "outputs": [
    {
     "data": {
      "text/plain": [
       "'\\nfrom groq import Groq   \\n\\n#create client calling Groq class\\n\\nclient = Groq(api_key=os.getenv(\\'GROQ_API_KEY\\'))\\n\\nfrom openai import OpenAI\\nclient = OpenAI()\\n\\ndef llm(prompt):\\n    response = client.chat.completions.create(\\n        model=\"llama3-8b-8192\",\\n        messages=[{\"role\": \"user\", \"content\": prompt}]\\n    )\\n    \\n    return response.choices[0].message.content\\n\\n'"
      ]
     },
     "execution_count": 120,
     "metadata": {},
     "output_type": "execute_result"
    }
   ],
   "source": [
    "# iF USING groq\n",
    "\"\"\"\n",
    "from groq import Groq   \n",
    "\n",
    "#create client calling Groq class\n",
    "\n",
    "client = Groq(api_key=os.getenv('GROQ_API_KEY'))\n",
    "\n",
    "from openai import OpenAI\n",
    "client = OpenAI()\n",
    "\n",
    "def llm(prompt):\n",
    "    response = client.chat.completions.create(\n",
    "        model=\"llama3-8b-8192\",\n",
    "        messages=[{\"role\": \"user\", \"content\": prompt}]\n",
    "    )\n",
    "    \n",
    "    return response.choices[0].message.content\n",
    "\n",
    "\"\"\""
   ]
  },
  {
   "cell_type": "code",
   "execution_count": 150,
   "metadata": {},
   "outputs": [],
   "source": [
    "query = 'dish name please'\n",
    "\n",
    "def rag(query):\n",
    "    search_results = elastic_search(query)\n",
    "    prompt=build_prompt(query,search_results)\n",
    "    answer = llm(prompt)\n",
    "    return answer"
   ]
  },
  {
   "cell_type": "code",
   "execution_count": 151,
   "metadata": {},
   "outputs": [
    {
     "data": {
      "text/plain": [
       "\"I'm sorry, the dish name you are asking for is baby food pineapple coconut carrot cake.\""
      ]
     },
     "execution_count": 151,
     "metadata": {},
     "output_type": "execute_result"
    }
   ],
   "source": [
    "rag(query)\n"
   ]
  },
  {
   "cell_type": "code",
   "execution_count": null,
   "metadata": {},
   "outputs": [],
   "source": []
  }
 ],
 "metadata": {
  "kernelspec": {
   "display_name": "Python 3 (ipykernel)",
   "language": "python",
   "name": "python3"
  },
  "language_info": {
   "codemirror_mode": {
    "name": "ipython",
    "version": 3
   },
   "file_extension": ".py",
   "mimetype": "text/x-python",
   "name": "python",
   "nbconvert_exporter": "python",
   "pygments_lexer": "ipython3",
   "version": "3.12.4"
  }
 },
 "nbformat": 4,
 "nbformat_minor": 4
}
