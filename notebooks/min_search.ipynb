{
 "cells": [
  {
   "cell_type": "code",
   "execution_count": 1,
   "metadata": {},
   "outputs": [],
   "source": [
    "import json\n",
    "import pandas as pd\n",
    "import elasticsearch\n",
    "from dotenv import load_dotenv\n",
    "import os\n",
    "load_dotenv()\n",
    "from sklearn.feature_extraction.text import CountVectorizer\n"
   ]
  },
  {
   "cell_type": "code",
   "execution_count": 2,
   "metadata": {},
   "outputs": [
    {
     "data": {
      "text/plain": [
       "'d:\\\\Projects\\\\AI-Restaurent-Chat-bot\\\\notebooks'"
      ]
     },
     "execution_count": 2,
     "metadata": {},
     "output_type": "execute_result"
    }
   ],
   "source": [
    "import os\n",
    "os.getcwd()"
   ]
  },
  {
   "cell_type": "code",
   "execution_count": 3,
   "metadata": {},
   "outputs": [],
   "source": [
    "# change path for base folder\n",
    "base_folder = 'D:/Projects/AI-Restaurent-Chat-bot/'\n",
    "input_data_folder = base_folder+'input_data/'"
   ]
  },
  {
   "cell_type": "code",
   "execution_count": 4,
   "metadata": {},
   "outputs": [],
   "source": [
    "# openai api\n",
    "from openai import OpenAI\n",
    "client = OpenAI()\n",
    "openai_api_key = os.getenv(\"OPENAI_API_KEY\")"
   ]
  },
  {
   "cell_type": "code",
   "execution_count": 5,
   "metadata": {},
   "outputs": [],
   "source": [
    "with open(input_data_folder + 'food_user_qa_dataset.json', 'rt') as f_in:\n",
    "    data = json.load(f_in)"
   ]
  },
  {
   "cell_type": "code",
   "execution_count": 6,
   "metadata": {},
   "outputs": [],
   "source": [
    "documents = []\n",
    "for dish in data['dishes']:\n",
    "    dish_name = dish['dish name']\n",
    "    for doc in dish['documents']:\n",
    "        doc['dish_name'] = dish_name  # Add dish_name to each document\n",
    "        documents.append(doc)"
   ]
  },
  {
   "cell_type": "code",
   "execution_count": 7,
   "metadata": {},
   "outputs": [
    {
     "data": {
      "text/plain": [
       "{'id': '142_2',\n",
       " 'question': 'How many calories does it have?',\n",
       " 'section': 'calories',\n",
       " 'text': 'The almond fudge banana cake has 224.8 calories.',\n",
       " 'dish_name': 'almond fudge banana cake'}"
      ]
     },
     "execution_count": 7,
     "metadata": {},
     "output_type": "execute_result"
    }
   ],
   "source": [
    "documents[1]"
   ]
  },
  {
   "cell_type": "code",
   "execution_count": 8,
   "metadata": {},
   "outputs": [],
   "source": [
    "import wget\n",
    "url= \"https://raw.githubusercontent.com/alexeygrigorev/minsearch/main/minsearch.py\"\n",
    "#wget.download(url)\n",
    "\n"
   ]
  },
  {
   "cell_type": "code",
   "execution_count": 9,
   "metadata": {},
   "outputs": [],
   "source": [
    "import minsearch"
   ]
  },
  {
   "cell_type": "code",
   "execution_count": 10,
   "metadata": {},
   "outputs": [],
   "source": [
    "index = minsearch.Index(\n",
    "    text_fields = ['id', 'question','section','text','dish_name'],\n",
    "    keyword_fields=['dish_name']\n",
    ")"
   ]
  },
  {
   "cell_type": "code",
   "execution_count": 11,
   "metadata": {},
   "outputs": [
    {
     "data": {
      "text/plain": [
       "<minsearch.Index at 0x14feed7aed0>"
      ]
     },
     "execution_count": 11,
     "metadata": {},
     "output_type": "execute_result"
    }
   ],
   "source": [
    "index.fit(documents)"
   ]
  },
  {
   "cell_type": "code",
   "execution_count": 12,
   "metadata": {},
   "outputs": [],
   "source": [
    "question =\"pistachio cake  from mix\""
   ]
  },
  {
   "cell_type": "code",
   "execution_count": 13,
   "metadata": {},
   "outputs": [],
   "source": [
    "def minsearch(question):\n",
    "    return index.search(question)"
   ]
  },
  {
   "cell_type": "code",
   "execution_count": 14,
   "metadata": {},
   "outputs": [],
   "source": [
    "def elastic_search(query, dish_name=None):\n",
    "    search_query = {\n",
    "        \"size\": 5,\n",
    "        \"query\": {\n",
    "            \"bool\": {\n",
    "                \"must\": [\n",
    "                    {\n",
    "                        \"multi_match\": {\n",
    "                            \"query\": query,\n",
    "                            \"fields\": [\"dish_name^6\", \"question^3\", \"text\", \"section\"],\n",
    "                            \"type\": \"best_fields\"\n",
    "                        }\n",
    "                    }\n",
    "                ]\n",
    "            }\n",
    "        }\n",
    "    }\n",
    "\n",
    "    # Add a filter by dish_name if it's provided\n",
    "    if dish_name:\n",
    "        search_query[\"query\"][\"bool\"][\"filter\"] = {\n",
    "            \"term\": {\n",
    "                \"dish_name.keyword\": dish_name\n",
    "            }\n",
    "        }\n",
    "\n",
    "    # Perform the search\n",
    "    response = es.search(index=index_name, body=search_query)\n",
    "\n",
    "    result_docs = []\n",
    "\n",
    "    for hit in response['hits']['hits']:\n",
    "        doc = hit['_source']\n",
    "        result_docs.append(doc)  # Collect all documents\n",
    "        \n",
    "\n",
    "    return result_docs\n"
   ]
  },
  {
   "cell_type": "code",
   "execution_count": 15,
   "metadata": {},
   "outputs": [
    {
     "data": {
      "text/plain": [
       "[{'id': '15664_12',\n",
       "  'question': 'What is the rating of this dish?',\n",
       "  'section': 'rating',\n",
       "  'text': 'The pistachio cake  from mix has a rating of 5.',\n",
       "  'dish_name': 'pistachio cake  from mix'},\n",
       " {'id': '15664_6',\n",
       "  'question': 'What is the protein content?',\n",
       "  'section': 'nutritional',\n",
       "  'text': 'The pistachio cake  from mix has 6 grams of protein (PDV).',\n",
       "  'dish_name': 'pistachio cake  from mix'},\n",
       " {'id': '15664_5',\n",
       "  'question': 'How much sodium is in this dish?',\n",
       "  'section': 'nutritional',\n",
       "  'text': 'The pistachio cake  from mix has 9 grams of sodium (PDV).',\n",
       "  'dish_name': 'pistachio cake  from mix'},\n",
       " {'id': '15664_8',\n",
       "  'question': 'What are the carbohydrate levels?',\n",
       "  'section': 'nutritional',\n",
       "  'text': 'The pistachio cake  from mix has 8 grams of carbohydrates (PDV).',\n",
       "  'dish_name': 'pistachio cake  from mix'},\n",
       " {'id': '15664_7',\n",
       "  'question': 'How much saturated fat is present?',\n",
       "  'section': 'nutritional',\n",
       "  'text': 'The pistachio cake  from mix has 9 grams of saturated fat (PDV).',\n",
       "  'dish_name': 'pistachio cake  from mix'},\n",
       " {'id': '15664_14',\n",
       "  'question': 'What category does this dish fall under?',\n",
       "  'section': 'category',\n",
       "  'text': 'The category of pistachio cake  from mix is tasty.',\n",
       "  'dish_name': 'pistachio cake  from mix'},\n",
       " {'id': '15664_16',\n",
       "  'question': 'What is the price of this dish?',\n",
       "  'section': 'price',\n",
       "  'text': 'The price of pistachio cake  from mix is $27.',\n",
       "  'dish_name': 'pistachio cake  from mix'},\n",
       " {'id': '15664_15',\n",
       "  'question': 'What is the calorie status of this dish?',\n",
       "  'section': 'calorie_status',\n",
       "  'text': 'The calorie status of pistachio cake  from mix is Low Calory.',\n",
       "  'dish_name': 'pistachio cake  from mix'},\n",
       " {'id': '15664_3',\n",
       "  'question': 'How much total fat does it contain?',\n",
       "  'section': 'nutritional',\n",
       "  'text': 'The pistachio cake  from mix has 18 grams of total fat (PDV).',\n",
       "  'dish_name': 'pistachio cake  from mix'},\n",
       " {'id': '15664_1',\n",
       "  'question': 'What are the ingredients?',\n",
       "  'section': 'ingredients',\n",
       "  'text': \"The pistachio cake  from mix contains the following ingredients: ['instant pistachio pudding mix', 'white cake mix', 'eggs', 'vegetable oil', 'water', 'powdered sugar']\",\n",
       "  'dish_name': 'pistachio cake  from mix'}]"
      ]
     },
     "execution_count": 15,
     "metadata": {},
     "output_type": "execute_result"
    }
   ],
   "source": [
    "search_results= minsearch(question)\n",
    "search_results"
   ]
  },
  {
   "cell_type": "code",
   "execution_count": 21,
   "metadata": {},
   "outputs": [
    {
     "data": {
      "text/plain": [
       "{'id': '142_2',\n",
       " 'question': 'How many calories does it have?',\n",
       " 'section': 'calories',\n",
       " 'text': 'The almond fudge banana cake has 224.8 calories.',\n",
       " 'dish_name': 'almond fudge banana cake'}"
      ]
     },
     "execution_count": 21,
     "metadata": {},
     "output_type": "execute_result"
    }
   ],
   "source": [
    "documents[1]"
   ]
  },
  {
   "cell_type": "code",
   "execution_count": null,
   "metadata": {},
   "outputs": [],
   "source": [
    "# Converting our database into vectors.\n",
    "\n"
   ]
  },
  {
   "cell_type": "code",
   "execution_count": 16,
   "metadata": {},
   "outputs": [],
   "source": [
    "# if using OPENAI \n",
    "from openai import OpenAI\n",
    "client = OpenAI()\n",
    "\n",
    "def llm(prompt):\n",
    "    response = client.chat.completions.create(\n",
    "        model=\"gpt-3.5-turbo\",\n",
    "        messages=[{\"role\": \"user\", \"content\": prompt}]\n",
    "    )\n",
    "    \n",
    "    return response.choices[0].message.content"
   ]
  },
  {
   "cell_type": "code",
   "execution_count": 17,
   "metadata": {},
   "outputs": [
    {
     "data": {
      "text/plain": [
       "'\\nfrom groq import Groq   \\n\\n#create client calling Groq class\\n\\nclient = Groq(api_key=os.getenv(\\'GROQ_API_KEY\\'))\\n\\nfrom openai import OpenAI\\nclient = OpenAI()\\n\\ndef llm(prompt):\\n    response = client.chat.completions.create(\\n        model=\"llama3-8b-8192\",\\n        messages=[{\"role\": \"user\", \"content\": prompt}]\\n    )\\n    \\n    return response.choices[0].message.content\\n\\n'"
      ]
     },
     "execution_count": 17,
     "metadata": {},
     "output_type": "execute_result"
    }
   ],
   "source": [
    "# iF USING groq\n",
    "\"\"\"\n",
    "from groq import Groq   \n",
    "\n",
    "#create client calling Groq class\n",
    "\n",
    "client = Groq(api_key=os.getenv('GROQ_API_KEY'))\n",
    "\n",
    "from openai import OpenAI\n",
    "client = OpenAI()\n",
    "\n",
    "def llm(prompt):\n",
    "    response = client.chat.completions.create(\n",
    "        model=\"llama3-8b-8192\",\n",
    "        messages=[{\"role\": \"user\", \"content\": prompt}]\n",
    "    )\n",
    "    \n",
    "    return response.choices[0].message.content\n",
    "\n",
    "\"\"\""
   ]
  },
  {
   "cell_type": "code",
   "execution_count": 18,
   "metadata": {},
   "outputs": [],
   "source": [
    "def build_prompt(query, search_results):\n",
    "    prompt_template = \"\"\"\n",
    "You're an AI assistant helping with menu queries. Answer the QUESTION based on the CONTEXT provided.\n",
    "\n",
    "QUESTION: {question}\n",
    "\n",
    "CONTEXT: \n",
    "{context}\n",
    "\"\"\".strip()\n",
    "\n",
    "    context = \"\"\n",
    "    \n",
    "    for doc in search_results:\n",
    "        context += f\"Section: {doc['section']}\\nQuestion: {doc['question']}\\nAnswer: {doc['text']}\\n\\n\"\n",
    "    \n",
    "    prompt = prompt_template.format(question=query, context=context).strip()\n",
    "    return prompt\n"
   ]
  },
  {
   "cell_type": "code",
   "execution_count": null,
   "metadata": {},
   "outputs": [],
   "source": []
  },
  {
   "cell_type": "code",
   "execution_count": 19,
   "metadata": {},
   "outputs": [],
   "source": [
    "def rag(query):\n",
    "    search_results = minsearch(query)\n",
    "    prompt=build_prompt(query,search_results)\n",
    "    answer = llm(prompt)\n",
    "    return answer"
   ]
  },
  {
   "cell_type": "code",
   "execution_count": 20,
   "metadata": {},
   "outputs": [
    {
     "data": {
      "text/plain": [
       "'Based on the context provided, the white chocolate cake has 314.9 calories.'"
      ]
     },
     "execution_count": 20,
     "metadata": {},
     "output_type": "execute_result"
    }
   ],
   "source": [
    "query = \"what are the calories of white chocolate cake is it good?\"\n",
    "rag(query)"
   ]
  },
  {
   "cell_type": "code",
   "execution_count": null,
   "metadata": {},
   "outputs": [],
   "source": []
  }
 ],
 "metadata": {
  "kernelspec": {
   "display_name": "Python 3 (ipykernel)",
   "language": "python",
   "name": "python3"
  },
  "language_info": {
   "codemirror_mode": {
    "name": "ipython",
    "version": 3
   },
   "file_extension": ".py",
   "mimetype": "text/x-python",
   "name": "python",
   "nbconvert_exporter": "python",
   "pygments_lexer": "ipython3",
   "version": "3.12.4"
  }
 },
 "nbformat": 4,
 "nbformat_minor": 4
}
