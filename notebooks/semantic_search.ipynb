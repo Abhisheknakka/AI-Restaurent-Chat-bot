{
 "cells": [
  {
   "cell_type": "code",
   "execution_count": 2,
   "metadata": {},
   "outputs": [
    {
     "data": {
      "text/plain": [
       "True"
      ]
     },
     "execution_count": 2,
     "metadata": {},
     "output_type": "execute_result"
    }
   ],
   "source": [
    "import json\n",
    "import elasticsearch\n",
    "from dotenv import load_dotenv\n",
    "import os\n",
    "load_dotenv()"
   ]
  },
  {
   "cell_type": "code",
   "execution_count": 3,
   "metadata": {},
   "outputs": [],
   "source": [
    "# change path for base folder\n",
    "base_folder = 'D:/Projects/AI-Restaurent-Chat-bot/'\n",
    "input_data_folder = base_folder+'input_data/'"
   ]
  },
  {
   "cell_type": "code",
   "execution_count": 4,
   "metadata": {},
   "outputs": [],
   "source": [
    "# openai api\n",
    "from openai import OpenAI\n",
    "client = OpenAI()\n",
    "openai_api_key = os.getenv(\"OPENAI_API_KEY\")"
   ]
  },
  {
   "cell_type": "code",
   "execution_count": 5,
   "metadata": {},
   "outputs": [],
   "source": [
    "import json\n",
    "\n",
    "with open(input_data_folder+\"food_user_qa_dataset.json\",'rt') as f_in:\n",
    "    data = json.load(f_in)"
   ]
  },
  {
   "cell_type": "code",
   "execution_count": 6,
   "metadata": {},
   "outputs": [],
   "source": [
    "documents = []\n",
    "for dish in data['dishes']:\n",
    "    dish_name = dish['dish name']\n",
    "    for doc in dish['documents']:\n",
    "        doc['dishi_name'] = dish_name  # Add dish_name to each document\n",
    "        documents.append(doc)"
   ]
  },
  {
   "cell_type": "code",
   "execution_count": 7,
   "metadata": {},
   "outputs": [
    {
     "data": {
      "text/plain": [
       "{'id': '142_2',\n",
       " 'question': 'How many calories does it have?',\n",
       " 'section': 'calories',\n",
       " 'text': 'The almond fudge banana cake has 224.8 calories.',\n",
       " 'dishi_name': 'almond fudge banana cake'}"
      ]
     },
     "execution_count": 7,
     "metadata": {},
     "output_type": "execute_result"
    }
   ],
   "source": [
    "documents[1]"
   ]
  },
  {
   "cell_type": "code",
   "execution_count": 8,
   "metadata": {},
   "outputs": [],
   "source": [
    "# Flatten the documents into a list of texts\n",
    "texts = []\n",
    "for dish in data['dishes']:\n",
    "    for doc in dish[\"documents\"]:\n",
    "        texts.append(doc[\"text\"])"
   ]
  },
  {
   "cell_type": "code",
   "execution_count": 1,
   "metadata": {},
   "outputs": [
    {
     "name": "stderr",
     "output_type": "stream",
     "text": [
      "C:\\Users\\nakka\\AppData\\Local\\Programs\\Python\\Python312\\Lib\\site-packages\\sentence_transformers\\cross_encoder\\CrossEncoder.py:11: TqdmExperimentalWarning: Using `tqdm.autonotebook.tqdm` in notebook mode. Use `tqdm.tqdm` instead to force console mode (e.g. in jupyter console)\n",
      "  from tqdm.autonotebook import tqdm, trange\n"
     ]
    }
   ],
   "source": [
    "#Step 2 create embeddings using pretrained models\n",
    "from sentence_transformers import SentenceTransformer\n",
    "model = SentenceTransformer('all-MiniLM-L6-v2')\n"
   ]
  },
  {
   "cell_type": "code",
   "execution_count": 9,
   "metadata": {},
   "outputs": [
    {
     "data": {
      "application/vnd.jupyter.widget-view+json": {
       "model_id": "9d1f54c0bf95489195b8db4b4be68caa",
       "version_major": 2,
       "version_minor": 0
      },
      "text/plain": [
       "modules.json:   0%|          | 0.00/349 [00:00<?, ?B/s]"
      ]
     },
     "metadata": {},
     "output_type": "display_data"
    },
    {
     "name": "stderr",
     "output_type": "stream",
     "text": [
      "C:\\Users\\nakka\\AppData\\Local\\Programs\\Python\\Python312\\Lib\\site-packages\\huggingface_hub\\file_download.py:159: UserWarning: `huggingface_hub` cache-system uses symlinks by default to efficiently store duplicated files but your machine does not support them in C:\\Users\\nakka\\.cache\\huggingface\\hub\\models--sentence-transformers--all-MiniLM-L6-v2. Caching files will still work but in a degraded version that might require more space on your disk. This warning can be disabled by setting the `HF_HUB_DISABLE_SYMLINKS_WARNING` environment variable. For more details, see https://huggingface.co/docs/huggingface_hub/how-to-cache#limitations.\n",
      "To support symlinks on Windows, you either need to activate Developer Mode or to run Python as an administrator. In order to see activate developer mode, see this article: https://docs.microsoft.com/en-us/windows/apps/get-started/enable-your-device-for-development\n",
      "  warnings.warn(message)\n"
     ]
    },
    {
     "data": {
      "application/vnd.jupyter.widget-view+json": {
       "model_id": "f9cbd84dc0514121860bb629e034be42",
       "version_major": 2,
       "version_minor": 0
      },
      "text/plain": [
       "config_sentence_transformers.json:   0%|          | 0.00/116 [00:00<?, ?B/s]"
      ]
     },
     "metadata": {},
     "output_type": "display_data"
    },
    {
     "data": {
      "application/vnd.jupyter.widget-view+json": {
       "model_id": "309c542a8f0f431d84359f941d361b81",
       "version_major": 2,
       "version_minor": 0
      },
      "text/plain": [
       "README.md:   0%|          | 0.00/10.7k [00:00<?, ?B/s]"
      ]
     },
     "metadata": {},
     "output_type": "display_data"
    },
    {
     "data": {
      "application/vnd.jupyter.widget-view+json": {
       "model_id": "9d42dae47b794993b5b3a3ce3a4ef650",
       "version_major": 2,
       "version_minor": 0
      },
      "text/plain": [
       "sentence_bert_config.json:   0%|          | 0.00/53.0 [00:00<?, ?B/s]"
      ]
     },
     "metadata": {},
     "output_type": "display_data"
    },
    {
     "data": {
      "application/vnd.jupyter.widget-view+json": {
       "model_id": "2de172ca83be4767ac079e8d2004cd8c",
       "version_major": 2,
       "version_minor": 0
      },
      "text/plain": [
       "config.json:   0%|          | 0.00/612 [00:00<?, ?B/s]"
      ]
     },
     "metadata": {},
     "output_type": "display_data"
    },
    {
     "data": {
      "application/vnd.jupyter.widget-view+json": {
       "model_id": "2d7622e465cb45e2992e61e0a9ecb9dc",
       "version_major": 2,
       "version_minor": 0
      },
      "text/plain": [
       "model.safetensors:   0%|          | 0.00/90.9M [00:00<?, ?B/s]"
      ]
     },
     "metadata": {},
     "output_type": "display_data"
    },
    {
     "data": {
      "application/vnd.jupyter.widget-view+json": {
       "model_id": "1a405856787642bd8c59e050588ecb10",
       "version_major": 2,
       "version_minor": 0
      },
      "text/plain": [
       "tokenizer_config.json:   0%|          | 0.00/350 [00:00<?, ?B/s]"
      ]
     },
     "metadata": {},
     "output_type": "display_data"
    },
    {
     "data": {
      "application/vnd.jupyter.widget-view+json": {
       "model_id": "ccf4cf23c6c44bf2b5381fd9cfe0d3fc",
       "version_major": 2,
       "version_minor": 0
      },
      "text/plain": [
       "vocab.txt:   0%|          | 0.00/232k [00:00<?, ?B/s]"
      ]
     },
     "metadata": {},
     "output_type": "display_data"
    },
    {
     "data": {
      "application/vnd.jupyter.widget-view+json": {
       "model_id": "b8d1b2a365cf47e3b89801ee590d04b2",
       "version_major": 2,
       "version_minor": 0
      },
      "text/plain": [
       "tokenizer.json:   0%|          | 0.00/466k [00:00<?, ?B/s]"
      ]
     },
     "metadata": {},
     "output_type": "display_data"
    },
    {
     "data": {
      "application/vnd.jupyter.widget-view+json": {
       "model_id": "65037f341b0443f6929c3e06aa5fb0e7",
       "version_major": 2,
       "version_minor": 0
      },
      "text/plain": [
       "special_tokens_map.json:   0%|          | 0.00/112 [00:00<?, ?B/s]"
      ]
     },
     "metadata": {},
     "output_type": "display_data"
    },
    {
     "name": "stderr",
     "output_type": "stream",
     "text": [
      "C:\\Users\\nakka\\AppData\\Local\\Programs\\Python\\Python312\\Lib\\site-packages\\transformers\\tokenization_utils_base.py:1601: FutureWarning: `clean_up_tokenization_spaces` was not set. It will be set to `True` by default. This behavior will be depracted in transformers v4.45, and will be then set to `False` by default. For more details check this issue: https://github.com/huggingface/transformers/issues/31884\n",
      "  warnings.warn(\n"
     ]
    },
    {
     "data": {
      "application/vnd.jupyter.widget-view+json": {
       "model_id": "e2c97caf7ac24c1b91e884b7d122cacb",
       "version_major": 2,
       "version_minor": 0
      },
      "text/plain": [
       "1_Pooling/config.json:   0%|          | 0.00/190 [00:00<?, ?B/s]"
      ]
     },
     "metadata": {},
     "output_type": "display_data"
    }
   ],
   "source": [
    "# Initialize the model\n",
    "model = SentenceTransformer('all-MiniLM-L6-v2')\n",
    "#model = SentenceTransformer(\"all-mpnet-base-v2\")\n",
    "\n",
    "# Create embeddings\n",
    "embeddings = model.encode(texts)\n",
    "\n",
    "# Save the embeddings along with their corresponding text\n",
    "embedding_data = list(zip(texts, embeddings.tolist()))\n",
    "\n",
    "# Save to a JSON file\n",
    "with open('embeddings.json', 'w') as f:\n",
    "    json.dump(embedding_data, f)"
   ]
  },
  {
   "cell_type": "code",
   "execution_count": 11,
   "metadata": {},
   "outputs": [
    {
     "data": {
      "text/plain": [
       "384"
      ]
     },
     "execution_count": 11,
     "metadata": {},
     "output_type": "execute_result"
    }
   ],
   "source": [
    "len(model.encode(\"This is a simple sentence\"))\n"
   ]
  },
  {
   "cell_type": "code",
   "execution_count": 15,
   "metadata": {},
   "outputs": [
    {
     "data": {
      "text/plain": [
       "{'id': '142_2',\n",
       " 'question': 'How many calories does it have?',\n",
       " 'section': 'calories',\n",
       " 'text': 'The almond fudge banana cake has 224.8 calories.',\n",
       " 'dishi_name': 'almond fudge banana cake',\n",
       " 'text_vector': [0.03449180722236633,\n",
       "  0.06103437766432762,\n",
       "  -0.03340601176023483,\n",
       "  0.04663167893886566,\n",
       "  0.002620068145915866,\n",
       "  0.01821102201938629,\n",
       "  0.02113189734518528,\n",
       "  -0.018273789435625076,\n",
       "  0.05332517996430397,\n",
       "  0.07002101093530655,\n",
       "  0.003915894776582718,\n",
       "  -0.13695941865444183,\n",
       "  -0.08629322052001953,\n",
       "  -0.13535600900650024,\n",
       "  0.042913611978292465,\n",
       "  -0.005807182751595974,\n",
       "  0.04823851212859154,\n",
       "  -0.06157195195555687,\n",
       "  -2.105251587636303e-05,\n",
       "  0.02553781494498253,\n",
       "  0.0631554126739502,\n",
       "  0.031545720994472504,\n",
       "  0.00606145802885294,\n",
       "  -0.05777645856142044,\n",
       "  -0.02174616977572441,\n",
       "  0.04484262689948082,\n",
       "  -0.035916104912757874,\n",
       "  -0.026758482679724693,\n",
       "  -0.05808210372924805,\n",
       "  -0.02171657606959343,\n",
       "  -0.020915331318974495,\n",
       "  0.018911145627498627,\n",
       "  0.05785742029547691,\n",
       "  0.07298256456851959,\n",
       "  -0.050149329006671906,\n",
       "  -0.019739732146263123,\n",
       "  -0.03593624383211136,\n",
       "  -0.06380191445350647,\n",
       "  -0.005001166369765997,\n",
       "  -0.07255308330059052,\n",
       "  -0.06202366203069687,\n",
       "  0.12922123074531555,\n",
       "  0.00668387720361352,\n",
       "  -0.07035072147846222,\n",
       "  -0.047247227281332016,\n",
       "  0.020942820236086845,\n",
       "  0.05186151713132858,\n",
       "  -0.05584491044282913,\n",
       "  0.0029288739897310734,\n",
       "  0.04563368111848831,\n",
       "  0.0028363715391606092,\n",
       "  0.08772430568933487,\n",
       "  0.0183864776045084,\n",
       "  0.021858379244804382,\n",
       "  0.0334673747420311,\n",
       "  -0.004159337840974331,\n",
       "  -0.026954349130392075,\n",
       "  0.001582424738444388,\n",
       "  -0.04337174817919731,\n",
       "  0.07464279979467392,\n",
       "  0.0021297468338161707,\n",
       "  0.025435371324419975,\n",
       "  0.03358926251530647,\n",
       "  -0.05746762454509735,\n",
       "  -0.0241470355540514,\n",
       "  -0.01696200855076313,\n",
       "  -0.11268945038318634,\n",
       "  -0.07191479206085205,\n",
       "  0.05270848423242569,\n",
       "  0.009339673444628716,\n",
       "  0.015743231400847435,\n",
       "  0.08464978635311127,\n",
       "  0.04721570014953613,\n",
       "  -0.05920644477009773,\n",
       "  -0.009669930674135685,\n",
       "  -0.004006005357950926,\n",
       "  0.022915689274668694,\n",
       "  0.021636314690113068,\n",
       "  -0.021166525781154633,\n",
       "  0.08955011516809464,\n",
       "  -0.021638499572873116,\n",
       "  -0.012963748537003994,\n",
       "  0.04942852258682251,\n",
       "  -0.06146768108010292,\n",
       "  0.05433037877082825,\n",
       "  -0.06780654937028885,\n",
       "  -0.008644613437354565,\n",
       "  0.03211638703942299,\n",
       "  0.008316718973219395,\n",
       "  0.04319760203361511,\n",
       "  0.014285693876445293,\n",
       "  0.010850521735846996,\n",
       "  0.08268037438392639,\n",
       "  0.0893920436501503,\n",
       "  -0.010084855370223522,\n",
       "  -0.05693505331873894,\n",
       "  -0.06204828992486,\n",
       "  -0.04283750057220459,\n",
       "  -0.022136447951197624,\n",
       "  0.02055288292467594,\n",
       "  -0.007354015950113535,\n",
       "  0.0752825066447258,\n",
       "  -0.02049761265516281,\n",
       "  -0.04145243018865585,\n",
       "  -0.0012637514155358076,\n",
       "  0.04458162933588028,\n",
       "  0.04733164981007576,\n",
       "  -0.0007580149103887379,\n",
       "  0.1059761792421341,\n",
       "  0.011473961174488068,\n",
       "  0.04770481586456299,\n",
       "  0.006407018285244703,\n",
       "  0.0642499104142189,\n",
       "  -0.00540116336196661,\n",
       "  -0.03125939145684242,\n",
       "  -0.07333356887102127,\n",
       "  -0.029529990628361702,\n",
       "  0.026559438556432724,\n",
       "  0.034381069242954254,\n",
       "  -0.0018393757054582238,\n",
       "  0.052263688296079636,\n",
       "  -0.024582305923104286,\n",
       "  0.07133014500141144,\n",
       "  -0.019910795614123344,\n",
       "  -0.043339803814888,\n",
       "  -0.01998322643339634,\n",
       "  -0.09817330539226532,\n",
       "  -4.6321654366422875e-34,\n",
       "  -0.013681290671229362,\n",
       "  0.07165339589118958,\n",
       "  0.10398206114768982,\n",
       "  -0.03583032637834549,\n",
       "  0.07803712040185928,\n",
       "  -0.026795702055096626,\n",
       "  -0.010146375745534897,\n",
       "  0.040366362780332565,\n",
       "  0.054147567600011826,\n",
       "  -0.0018268241547048092,\n",
       "  -0.02372136525809765,\n",
       "  0.02724502980709076,\n",
       "  -0.008218816481530666,\n",
       "  0.029342127963900566,\n",
       "  -0.07139534503221512,\n",
       "  -0.020205285400152206,\n",
       "  -0.07669059932231903,\n",
       "  -0.005526137072592974,\n",
       "  0.07003646343946457,\n",
       "  0.043038953095674515,\n",
       "  0.010375086218118668,\n",
       "  -0.019375044852495193,\n",
       "  0.02584824524819851,\n",
       "  -0.06279389560222626,\n",
       "  -0.07164504379034042,\n",
       "  0.05973159149289131,\n",
       "  -0.007799121551215649,\n",
       "  0.023562537506222725,\n",
       "  0.019281014800071716,\n",
       "  -0.006418377161026001,\n",
       "  -0.014491774141788483,\n",
       "  -0.021694501861929893,\n",
       "  0.0025390638038516045,\n",
       "  -0.07850871235132217,\n",
       "  -0.01595509797334671,\n",
       "  0.027201145887374878,\n",
       "  -0.0008121237042360008,\n",
       "  -0.02118518576025963,\n",
       "  -0.09837276488542557,\n",
       "  0.08979646116495132,\n",
       "  0.00458285678178072,\n",
       "  -0.012024489231407642,\n",
       "  0.02286829985678196,\n",
       "  0.03318015858530998,\n",
       "  -0.07780645042657852,\n",
       "  0.024744465947151184,\n",
       "  -0.039215993136167526,\n",
       "  0.08241592347621918,\n",
       "  0.0654502660036087,\n",
       "  0.04618968814611435,\n",
       "  -0.014553138054907322,\n",
       "  -0.06642434000968933,\n",
       "  0.06979619711637497,\n",
       "  0.04889542609453201,\n",
       "  0.010405642911791801,\n",
       "  -0.1005437821149826,\n",
       "  -0.05714118480682373,\n",
       "  0.037222880870103836,\n",
       "  -0.0022541070356965065,\n",
       "  -0.0010284199379384518,\n",
       "  0.029137663543224335,\n",
       "  -0.12348490953445435,\n",
       "  -0.0055091725662350655,\n",
       "  0.01770995743572712,\n",
       "  -0.1172751933336258,\n",
       "  0.03360336273908615,\n",
       "  -0.06960310786962509,\n",
       "  0.0020307814702391624,\n",
       "  0.0416792593896389,\n",
       "  0.026800338178873062,\n",
       "  -0.0001015084344544448,\n",
       "  0.038966093212366104,\n",
       "  0.07910153269767761,\n",
       "  -0.10072200000286102,\n",
       "  -0.007448984310030937,\n",
       "  0.04933139309287071,\n",
       "  -0.030680030584335327,\n",
       "  -0.035780683159828186,\n",
       "  -0.004947514273226261,\n",
       "  0.06019933894276619,\n",
       "  0.055940184742212296,\n",
       "  0.02247985079884529,\n",
       "  -0.047329191118478775,\n",
       "  -0.05104989558458328,\n",
       "  -0.07028590142726898,\n",
       "  0.00364015344530344,\n",
       "  -0.08870523422956467,\n",
       "  0.024047035723924637,\n",
       "  0.05546887218952179,\n",
       "  0.0557282492518425,\n",
       "  -0.022658713161945343,\n",
       "  -0.05273210629820824,\n",
       "  0.06105475872755051,\n",
       "  0.05648350715637207,\n",
       "  -0.05256236344575882,\n",
       "  7.78538632921736e-34,\n",
       "  -0.08088979125022888,\n",
       "  0.002656805096194148,\n",
       "  -0.03498856723308563,\n",
       "  0.030626479536294937,\n",
       "  0.06867878139019012,\n",
       "  -0.035798460245132446,\n",
       "  0.08453604578971863,\n",
       "  -0.007626202888786793,\n",
       "  -0.07113967835903168,\n",
       "  -0.060497161000967026,\n",
       "  -0.022969285026192665,\n",
       "  -0.024021007120609283,\n",
       "  0.05182512849569321,\n",
       "  -0.03730393946170807,\n",
       "  0.013686119578778744,\n",
       "  0.09928932040929794,\n",
       "  0.03631765767931938,\n",
       "  0.005394662730395794,\n",
       "  0.037425290793180466,\n",
       "  -0.05897965654730797,\n",
       "  -0.021312979981303215,\n",
       "  0.05688639357686043,\n",
       "  0.06621766090393066,\n",
       "  0.0325339250266552,\n",
       "  -0.04211646318435669,\n",
       "  0.04152961075305939,\n",
       "  0.05605398863554001,\n",
       "  -0.016683343797922134,\n",
       "  0.0006270888261497021,\n",
       "  -0.033442266285419464,\n",
       "  0.06114047020673752,\n",
       "  0.039000026881694794,\n",
       "  0.03496775031089783,\n",
       "  0.021266276016831398,\n",
       "  -0.024749737232923508,\n",
       "  -0.01372321043163538,\n",
       "  -0.05462436378002167,\n",
       "  -0.02768789418041706,\n",
       "  0.03391806408762932,\n",
       "  0.04771316051483154,\n",
       "  0.007160472217947245,\n",
       "  0.051795195788145065,\n",
       "  -0.01982300542294979,\n",
       "  0.02391211874783039,\n",
       "  0.013516973704099655,\n",
       "  -0.013102764263749123,\n",
       "  -0.001348337042145431,\n",
       "  -0.028261326253414154,\n",
       "  0.04108085483312607,\n",
       "  0.07353775203227997,\n",
       "  -0.01171999890357256,\n",
       "  -0.06418506801128387,\n",
       "  -0.11667079478502274,\n",
       "  -0.05564991012215614,\n",
       "  -0.02548106200993061,\n",
       "  0.06309540569782257,\n",
       "  -0.08638638257980347,\n",
       "  0.08188062161207199,\n",
       "  -0.03687967732548714,\n",
       "  0.03372392803430557,\n",
       "  -0.061070315539836884,\n",
       "  0.006463455967605114,\n",
       "  0.06467769294977188,\n",
       "  0.019160574302077293,\n",
       "  0.052186232060194016,\n",
       "  0.08989023417234421,\n",
       "  0.08750436455011368,\n",
       "  0.041175659745931625,\n",
       "  0.09740300476551056,\n",
       "  0.09113918244838715,\n",
       "  0.0002572883095126599,\n",
       "  0.03316111117601395,\n",
       "  0.07193472981452942,\n",
       "  0.028941180557012558,\n",
       "  0.08094472438097,\n",
       "  0.0890190452337265,\n",
       "  0.12779800593852997,\n",
       "  -0.03026779741048813,\n",
       "  -0.01550032664090395,\n",
       "  -0.006310336757451296,\n",
       "  -0.06074458733201027,\n",
       "  -0.042598456144332886,\n",
       "  0.015372424386441708,\n",
       "  -0.01123221404850483,\n",
       "  -0.0500953271985054,\n",
       "  0.015621066093444824,\n",
       "  -0.018665935844182968,\n",
       "  -0.09129524230957031,\n",
       "  -0.05835140496492386,\n",
       "  0.10605423897504807,\n",
       "  -0.14935386180877686,\n",
       "  0.014386403374373913,\n",
       "  0.03977993503212929,\n",
       "  -0.02582400292158127,\n",
       "  0.005147898569703102,\n",
       "  -1.7141276842380648e-08,\n",
       "  0.038257431238889694,\n",
       "  -0.06676076352596283,\n",
       "  -0.05512358993291855,\n",
       "  0.007244267500936985,\n",
       "  0.01938467100262642,\n",
       "  0.050721425563097,\n",
       "  -0.020786922425031662,\n",
       "  0.02934630587697029,\n",
       "  -0.06829472631216049,\n",
       "  -0.04342719167470932,\n",
       "  0.007037150673568249,\n",
       "  0.0162784606218338,\n",
       "  -0.03687993064522743,\n",
       "  0.04460423067212105,\n",
       "  -0.07307513058185577,\n",
       "  -0.05995377525687218,\n",
       "  0.022464290261268616,\n",
       "  0.06907927989959717,\n",
       "  -0.0018085496267303824,\n",
       "  -0.018679842352867126,\n",
       "  -0.04281987249851227,\n",
       "  0.04354797676205635,\n",
       "  -0.06384959071874619,\n",
       "  -0.00855467189103365,\n",
       "  -0.022647688165307045,\n",
       "  -0.01435043290257454,\n",
       "  -0.09242567420005798,\n",
       "  -0.004954400472342968,\n",
       "  -0.01798391155898571,\n",
       "  0.049891140311956406,\n",
       "  -0.028694234788417816,\n",
       "  -0.0021019750274717808,\n",
       "  -0.04132911562919617,\n",
       "  0.010536525398492813,\n",
       "  -0.04496726021170616,\n",
       "  -0.01853577047586441,\n",
       "  -0.059587135910987854,\n",
       "  0.004013750236481428,\n",
       "  -0.09345590323209763,\n",
       "  -0.023504730314016342,\n",
       "  0.09907951951026917,\n",
       "  -0.045338161289691925,\n",
       "  0.017067233100533485,\n",
       "  -0.004353672731667757,\n",
       "  -0.05535731837153435,\n",
       "  -0.05361832678318024,\n",
       "  -0.05430002510547638,\n",
       "  0.054671335965394974,\n",
       "  -0.02746911160647869,\n",
       "  0.1089334487915039,\n",
       "  0.10069087892770767,\n",
       "  0.07061704248189926,\n",
       "  -0.0997871607542038,\n",
       "  0.060472406446933746,\n",
       "  -0.04893897846341133,\n",
       "  -0.06096220389008522,\n",
       "  0.020861651748418808,\n",
       "  0.04184383898973465,\n",
       "  -0.010094670578837395,\n",
       "  0.041698381304740906,\n",
       "  0.0024031882639974356,\n",
       "  -0.01324260514229536,\n",
       "  0.01581961289048195,\n",
       "  -0.0767914280295372]}"
      ]
     },
     "execution_count": 15,
     "metadata": {},
     "output_type": "execute_result"
    }
   ],
   "source": [
    "documents[1]"
   ]
  },
  {
   "cell_type": "code",
   "execution_count": 12,
   "metadata": {},
   "outputs": [],
   "source": [
    "#created the dense vector using the pre-trained model\n",
    "operations = []\n",
    "for doc in documents:\n",
    "    # Transforming the title into an embedding using the model\n",
    "    doc[\"text_vector\"] = model.encode(doc[\"text\"]).tolist()\n",
    "    operations.append(doc)"
   ]
  },
  {
   "cell_type": "code",
   "execution_count": 16,
   "metadata": {},
   "outputs": [
    {
     "ename": "ConnectionError",
     "evalue": "Connection error caused by: ConnectionError(Connection error caused by: NewConnectionError(<urllib3.connection.HTTPConnection object at 0x0000028075F39E20>: Failed to establish a new connection: [WinError 10061] No connection could be made because the target machine actively refused it))",
     "output_type": "error",
     "traceback": [
      "\u001b[1;31m---------------------------------------------------------------------------\u001b[0m",
      "\u001b[1;31mConnectionError\u001b[0m                           Traceback (most recent call last)",
      "Cell \u001b[1;32mIn[16], line 5\u001b[0m\n\u001b[0;32m      2\u001b[0m \u001b[38;5;28;01mfrom\u001b[39;00m \u001b[38;5;21;01melasticsearch\u001b[39;00m \u001b[38;5;28;01mimport\u001b[39;00m Elasticsearch\n\u001b[0;32m      3\u001b[0m es_client \u001b[38;5;241m=\u001b[39m Elasticsearch(\u001b[38;5;124m'\u001b[39m\u001b[38;5;124mhttp://localhost:9200\u001b[39m\u001b[38;5;124m'\u001b[39m) \n\u001b[1;32m----> 5\u001b[0m \u001b[43mes_client\u001b[49m\u001b[38;5;241;43m.\u001b[39;49m\u001b[43minfo\u001b[49m\u001b[43m(\u001b[49m\u001b[43m)\u001b[49m\n",
      "File \u001b[1;32m~\\AppData\\Local\\Programs\\Python\\Python312\\Lib\\site-packages\\elasticsearch\\_sync\\client\\utils.py:446\u001b[0m, in \u001b[0;36m_rewrite_parameters.<locals>.wrapper.<locals>.wrapped\u001b[1;34m(*args, **kwargs)\u001b[0m\n\u001b[0;32m    443\u001b[0m         \u001b[38;5;28;01mexcept\u001b[39;00m \u001b[38;5;167;01mKeyError\u001b[39;00m:\n\u001b[0;32m    444\u001b[0m             \u001b[38;5;28;01mpass\u001b[39;00m\n\u001b[1;32m--> 446\u001b[0m \u001b[38;5;28;01mreturn\u001b[39;00m \u001b[43mapi\u001b[49m\u001b[43m(\u001b[49m\u001b[38;5;241;43m*\u001b[39;49m\u001b[43margs\u001b[49m\u001b[43m,\u001b[49m\u001b[43m \u001b[49m\u001b[38;5;241;43m*\u001b[39;49m\u001b[38;5;241;43m*\u001b[39;49m\u001b[43mkwargs\u001b[49m\u001b[43m)\u001b[49m\n",
      "File \u001b[1;32m~\\AppData\\Local\\Programs\\Python\\Python312\\Lib\\site-packages\\elasticsearch\\_sync\\client\\__init__.py:2464\u001b[0m, in \u001b[0;36mElasticsearch.info\u001b[1;34m(self, error_trace, filter_path, human, pretty)\u001b[0m\n\u001b[0;32m   2462\u001b[0m     __query[\u001b[38;5;124m\"\u001b[39m\u001b[38;5;124mpretty\u001b[39m\u001b[38;5;124m\"\u001b[39m] \u001b[38;5;241m=\u001b[39m pretty\n\u001b[0;32m   2463\u001b[0m __headers \u001b[38;5;241m=\u001b[39m {\u001b[38;5;124m\"\u001b[39m\u001b[38;5;124maccept\u001b[39m\u001b[38;5;124m\"\u001b[39m: \u001b[38;5;124m\"\u001b[39m\u001b[38;5;124mapplication/json\u001b[39m\u001b[38;5;124m\"\u001b[39m}\n\u001b[1;32m-> 2464\u001b[0m \u001b[38;5;28;01mreturn\u001b[39;00m \u001b[38;5;28;43mself\u001b[39;49m\u001b[38;5;241;43m.\u001b[39;49m\u001b[43mperform_request\u001b[49m\u001b[43m(\u001b[49m\u001b[43m  \u001b[49m\u001b[38;5;66;43;03m# type: ignore[return-value]\u001b[39;49;00m\n\u001b[0;32m   2465\u001b[0m \u001b[43m    \u001b[49m\u001b[38;5;124;43m\"\u001b[39;49m\u001b[38;5;124;43mGET\u001b[39;49m\u001b[38;5;124;43m\"\u001b[39;49m\u001b[43m,\u001b[49m\n\u001b[0;32m   2466\u001b[0m \u001b[43m    \u001b[49m\u001b[43m__path\u001b[49m\u001b[43m,\u001b[49m\n\u001b[0;32m   2467\u001b[0m \u001b[43m    \u001b[49m\u001b[43mparams\u001b[49m\u001b[38;5;241;43m=\u001b[39;49m\u001b[43m__query\u001b[49m\u001b[43m,\u001b[49m\n\u001b[0;32m   2468\u001b[0m \u001b[43m    \u001b[49m\u001b[43mheaders\u001b[49m\u001b[38;5;241;43m=\u001b[39;49m\u001b[43m__headers\u001b[49m\u001b[43m,\u001b[49m\n\u001b[0;32m   2469\u001b[0m \u001b[43m    \u001b[49m\u001b[43mendpoint_id\u001b[49m\u001b[38;5;241;43m=\u001b[39;49m\u001b[38;5;124;43m\"\u001b[39;49m\u001b[38;5;124;43minfo\u001b[39;49m\u001b[38;5;124;43m\"\u001b[39;49m\u001b[43m,\u001b[49m\n\u001b[0;32m   2470\u001b[0m \u001b[43m    \u001b[49m\u001b[43mpath_parts\u001b[49m\u001b[38;5;241;43m=\u001b[39;49m\u001b[43m__path_parts\u001b[49m\u001b[43m,\u001b[49m\n\u001b[0;32m   2471\u001b[0m \u001b[43m\u001b[49m\u001b[43m)\u001b[49m\n",
      "File \u001b[1;32m~\\AppData\\Local\\Programs\\Python\\Python312\\Lib\\site-packages\\elasticsearch\\_sync\\client\\_base.py:271\u001b[0m, in \u001b[0;36mBaseClient.perform_request\u001b[1;34m(self, method, path, params, headers, body, endpoint_id, path_parts)\u001b[0m\n\u001b[0;32m    255\u001b[0m \u001b[38;5;28;01mdef\u001b[39;00m \u001b[38;5;21mperform_request\u001b[39m(\n\u001b[0;32m    256\u001b[0m     \u001b[38;5;28mself\u001b[39m,\n\u001b[0;32m    257\u001b[0m     method: \u001b[38;5;28mstr\u001b[39m,\n\u001b[1;32m   (...)\u001b[0m\n\u001b[0;32m    264\u001b[0m     path_parts: Optional[Mapping[\u001b[38;5;28mstr\u001b[39m, Any]] \u001b[38;5;241m=\u001b[39m \u001b[38;5;28;01mNone\u001b[39;00m,\n\u001b[0;32m    265\u001b[0m ) \u001b[38;5;241m-\u001b[39m\u001b[38;5;241m>\u001b[39m ApiResponse[Any]:\n\u001b[0;32m    266\u001b[0m     \u001b[38;5;28;01mwith\u001b[39;00m \u001b[38;5;28mself\u001b[39m\u001b[38;5;241m.\u001b[39m_otel\u001b[38;5;241m.\u001b[39mspan(\n\u001b[0;32m    267\u001b[0m         method,\n\u001b[0;32m    268\u001b[0m         endpoint_id\u001b[38;5;241m=\u001b[39mendpoint_id,\n\u001b[0;32m    269\u001b[0m         path_parts\u001b[38;5;241m=\u001b[39mpath_parts \u001b[38;5;129;01mor\u001b[39;00m {},\n\u001b[0;32m    270\u001b[0m     ) \u001b[38;5;28;01mas\u001b[39;00m otel_span:\n\u001b[1;32m--> 271\u001b[0m         response \u001b[38;5;241m=\u001b[39m \u001b[38;5;28;43mself\u001b[39;49m\u001b[38;5;241;43m.\u001b[39;49m\u001b[43m_perform_request\u001b[49m\u001b[43m(\u001b[49m\n\u001b[0;32m    272\u001b[0m \u001b[43m            \u001b[49m\u001b[43mmethod\u001b[49m\u001b[43m,\u001b[49m\n\u001b[0;32m    273\u001b[0m \u001b[43m            \u001b[49m\u001b[43mpath\u001b[49m\u001b[43m,\u001b[49m\n\u001b[0;32m    274\u001b[0m \u001b[43m            \u001b[49m\u001b[43mparams\u001b[49m\u001b[38;5;241;43m=\u001b[39;49m\u001b[43mparams\u001b[49m\u001b[43m,\u001b[49m\n\u001b[0;32m    275\u001b[0m \u001b[43m            \u001b[49m\u001b[43mheaders\u001b[49m\u001b[38;5;241;43m=\u001b[39;49m\u001b[43mheaders\u001b[49m\u001b[43m,\u001b[49m\n\u001b[0;32m    276\u001b[0m \u001b[43m            \u001b[49m\u001b[43mbody\u001b[49m\u001b[38;5;241;43m=\u001b[39;49m\u001b[43mbody\u001b[49m\u001b[43m,\u001b[49m\n\u001b[0;32m    277\u001b[0m \u001b[43m            \u001b[49m\u001b[43motel_span\u001b[49m\u001b[38;5;241;43m=\u001b[39;49m\u001b[43motel_span\u001b[49m\u001b[43m,\u001b[49m\n\u001b[0;32m    278\u001b[0m \u001b[43m        \u001b[49m\u001b[43m)\u001b[49m\n\u001b[0;32m    279\u001b[0m         otel_span\u001b[38;5;241m.\u001b[39mset_elastic_cloud_metadata(response\u001b[38;5;241m.\u001b[39mmeta\u001b[38;5;241m.\u001b[39mheaders)\n\u001b[0;32m    280\u001b[0m         \u001b[38;5;28;01mreturn\u001b[39;00m response\n",
      "File \u001b[1;32m~\\AppData\\Local\\Programs\\Python\\Python312\\Lib\\site-packages\\elasticsearch\\_sync\\client\\_base.py:316\u001b[0m, in \u001b[0;36mBaseClient._perform_request\u001b[1;34m(self, method, path, params, headers, body, otel_span)\u001b[0m\n\u001b[0;32m    313\u001b[0m \u001b[38;5;28;01melse\u001b[39;00m:\n\u001b[0;32m    314\u001b[0m     target \u001b[38;5;241m=\u001b[39m path\n\u001b[1;32m--> 316\u001b[0m meta, resp_body \u001b[38;5;241m=\u001b[39m \u001b[38;5;28;43mself\u001b[39;49m\u001b[38;5;241;43m.\u001b[39;49m\u001b[43mtransport\u001b[49m\u001b[38;5;241;43m.\u001b[39;49m\u001b[43mperform_request\u001b[49m\u001b[43m(\u001b[49m\n\u001b[0;32m    317\u001b[0m \u001b[43m    \u001b[49m\u001b[43mmethod\u001b[49m\u001b[43m,\u001b[49m\n\u001b[0;32m    318\u001b[0m \u001b[43m    \u001b[49m\u001b[43mtarget\u001b[49m\u001b[43m,\u001b[49m\n\u001b[0;32m    319\u001b[0m \u001b[43m    \u001b[49m\u001b[43mheaders\u001b[49m\u001b[38;5;241;43m=\u001b[39;49m\u001b[43mrequest_headers\u001b[49m\u001b[43m,\u001b[49m\n\u001b[0;32m    320\u001b[0m \u001b[43m    \u001b[49m\u001b[43mbody\u001b[49m\u001b[38;5;241;43m=\u001b[39;49m\u001b[43mbody\u001b[49m\u001b[43m,\u001b[49m\n\u001b[0;32m    321\u001b[0m \u001b[43m    \u001b[49m\u001b[43mrequest_timeout\u001b[49m\u001b[38;5;241;43m=\u001b[39;49m\u001b[38;5;28;43mself\u001b[39;49m\u001b[38;5;241;43m.\u001b[39;49m\u001b[43m_request_timeout\u001b[49m\u001b[43m,\u001b[49m\n\u001b[0;32m    322\u001b[0m \u001b[43m    \u001b[49m\u001b[43mmax_retries\u001b[49m\u001b[38;5;241;43m=\u001b[39;49m\u001b[38;5;28;43mself\u001b[39;49m\u001b[38;5;241;43m.\u001b[39;49m\u001b[43m_max_retries\u001b[49m\u001b[43m,\u001b[49m\n\u001b[0;32m    323\u001b[0m \u001b[43m    \u001b[49m\u001b[43mretry_on_status\u001b[49m\u001b[38;5;241;43m=\u001b[39;49m\u001b[38;5;28;43mself\u001b[39;49m\u001b[38;5;241;43m.\u001b[39;49m\u001b[43m_retry_on_status\u001b[49m\u001b[43m,\u001b[49m\n\u001b[0;32m    324\u001b[0m \u001b[43m    \u001b[49m\u001b[43mretry_on_timeout\u001b[49m\u001b[38;5;241;43m=\u001b[39;49m\u001b[38;5;28;43mself\u001b[39;49m\u001b[38;5;241;43m.\u001b[39;49m\u001b[43m_retry_on_timeout\u001b[49m\u001b[43m,\u001b[49m\n\u001b[0;32m    325\u001b[0m \u001b[43m    \u001b[49m\u001b[43mclient_meta\u001b[49m\u001b[38;5;241;43m=\u001b[39;49m\u001b[38;5;28;43mself\u001b[39;49m\u001b[38;5;241;43m.\u001b[39;49m\u001b[43m_client_meta\u001b[49m\u001b[43m,\u001b[49m\n\u001b[0;32m    326\u001b[0m \u001b[43m    \u001b[49m\u001b[43motel_span\u001b[49m\u001b[38;5;241;43m=\u001b[39;49m\u001b[43motel_span\u001b[49m\u001b[43m,\u001b[49m\n\u001b[0;32m    327\u001b[0m \u001b[43m\u001b[49m\u001b[43m)\u001b[49m\n\u001b[0;32m    329\u001b[0m \u001b[38;5;66;03m# HEAD with a 404 is returned as a normal response\u001b[39;00m\n\u001b[0;32m    330\u001b[0m \u001b[38;5;66;03m# since this is used as an 'exists' functionality.\u001b[39;00m\n\u001b[0;32m    331\u001b[0m \u001b[38;5;28;01mif\u001b[39;00m \u001b[38;5;129;01mnot\u001b[39;00m (method \u001b[38;5;241m==\u001b[39m \u001b[38;5;124m\"\u001b[39m\u001b[38;5;124mHEAD\u001b[39m\u001b[38;5;124m\"\u001b[39m \u001b[38;5;129;01mand\u001b[39;00m meta\u001b[38;5;241m.\u001b[39mstatus \u001b[38;5;241m==\u001b[39m \u001b[38;5;241m404\u001b[39m) \u001b[38;5;129;01mand\u001b[39;00m (\n\u001b[0;32m    332\u001b[0m     \u001b[38;5;129;01mnot\u001b[39;00m \u001b[38;5;241m200\u001b[39m \u001b[38;5;241m<\u001b[39m\u001b[38;5;241m=\u001b[39m meta\u001b[38;5;241m.\u001b[39mstatus \u001b[38;5;241m<\u001b[39m \u001b[38;5;241m299\u001b[39m\n\u001b[0;32m    333\u001b[0m     \u001b[38;5;129;01mand\u001b[39;00m (\n\u001b[1;32m   (...)\u001b[0m\n\u001b[0;32m    337\u001b[0m     )\n\u001b[0;32m    338\u001b[0m ):\n",
      "File \u001b[1;32m~\\AppData\\Local\\Programs\\Python\\Python312\\Lib\\site-packages\\elastic_transport\\_transport.py:342\u001b[0m, in \u001b[0;36mTransport.perform_request\u001b[1;34m(self, method, target, body, headers, max_retries, retry_on_status, retry_on_timeout, request_timeout, client_meta, otel_span)\u001b[0m\n\u001b[0;32m    340\u001b[0m \u001b[38;5;28;01mtry\u001b[39;00m:\n\u001b[0;32m    341\u001b[0m     otel_span\u001b[38;5;241m.\u001b[39mset_node_metadata(node\u001b[38;5;241m.\u001b[39mhost, node\u001b[38;5;241m.\u001b[39mport, node\u001b[38;5;241m.\u001b[39mbase_url, target)\n\u001b[1;32m--> 342\u001b[0m     resp \u001b[38;5;241m=\u001b[39m \u001b[43mnode\u001b[49m\u001b[38;5;241;43m.\u001b[39;49m\u001b[43mperform_request\u001b[49m\u001b[43m(\u001b[49m\n\u001b[0;32m    343\u001b[0m \u001b[43m        \u001b[49m\u001b[43mmethod\u001b[49m\u001b[43m,\u001b[49m\n\u001b[0;32m    344\u001b[0m \u001b[43m        \u001b[49m\u001b[43mtarget\u001b[49m\u001b[43m,\u001b[49m\n\u001b[0;32m    345\u001b[0m \u001b[43m        \u001b[49m\u001b[43mbody\u001b[49m\u001b[38;5;241;43m=\u001b[39;49m\u001b[43mrequest_body\u001b[49m\u001b[43m,\u001b[49m\n\u001b[0;32m    346\u001b[0m \u001b[43m        \u001b[49m\u001b[43mheaders\u001b[49m\u001b[38;5;241;43m=\u001b[39;49m\u001b[43mrequest_headers\u001b[49m\u001b[43m,\u001b[49m\n\u001b[0;32m    347\u001b[0m \u001b[43m        \u001b[49m\u001b[43mrequest_timeout\u001b[49m\u001b[38;5;241;43m=\u001b[39;49m\u001b[43mrequest_timeout\u001b[49m\u001b[43m,\u001b[49m\n\u001b[0;32m    348\u001b[0m \u001b[43m    \u001b[49m\u001b[43m)\u001b[49m\n\u001b[0;32m    349\u001b[0m     _logger\u001b[38;5;241m.\u001b[39minfo(\n\u001b[0;32m    350\u001b[0m         \u001b[38;5;124m\"\u001b[39m\u001b[38;5;132;01m%s\u001b[39;00m\u001b[38;5;124m \u001b[39m\u001b[38;5;132;01m%s\u001b[39;00m\u001b[38;5;132;01m%s\u001b[39;00m\u001b[38;5;124m [status:\u001b[39m\u001b[38;5;132;01m%s\u001b[39;00m\u001b[38;5;124m duration:\u001b[39m\u001b[38;5;132;01m%.3f\u001b[39;00m\u001b[38;5;124ms]\u001b[39m\u001b[38;5;124m\"\u001b[39m\n\u001b[0;32m    351\u001b[0m         \u001b[38;5;241m%\u001b[39m (\n\u001b[1;32m   (...)\u001b[0m\n\u001b[0;32m    357\u001b[0m         )\n\u001b[0;32m    358\u001b[0m     )\n\u001b[0;32m    360\u001b[0m     \u001b[38;5;28;01mif\u001b[39;00m method \u001b[38;5;241m!=\u001b[39m \u001b[38;5;124m\"\u001b[39m\u001b[38;5;124mHEAD\u001b[39m\u001b[38;5;124m\"\u001b[39m:\n",
      "File \u001b[1;32m~\\AppData\\Local\\Programs\\Python\\Python312\\Lib\\site-packages\\elastic_transport\\_node\\_http_urllib3.py:202\u001b[0m, in \u001b[0;36mUrllib3HttpNode.perform_request\u001b[1;34m(self, method, target, body, headers, request_timeout)\u001b[0m\n\u001b[0;32m    194\u001b[0m         err \u001b[38;5;241m=\u001b[39m \u001b[38;5;167;01mConnectionError\u001b[39;00m(\u001b[38;5;28mstr\u001b[39m(e), errors\u001b[38;5;241m=\u001b[39m(e,))\n\u001b[0;32m    195\u001b[0m     \u001b[38;5;28mself\u001b[39m\u001b[38;5;241m.\u001b[39m_log_request(\n\u001b[0;32m    196\u001b[0m         method\u001b[38;5;241m=\u001b[39mmethod,\n\u001b[0;32m    197\u001b[0m         target\u001b[38;5;241m=\u001b[39mtarget,\n\u001b[1;32m   (...)\u001b[0m\n\u001b[0;32m    200\u001b[0m         exception\u001b[38;5;241m=\u001b[39merr,\n\u001b[0;32m    201\u001b[0m     )\n\u001b[1;32m--> 202\u001b[0m     \u001b[38;5;28;01mraise\u001b[39;00m err \u001b[38;5;28;01mfrom\u001b[39;00m \u001b[38;5;28;01mNone\u001b[39;00m\n\u001b[0;32m    204\u001b[0m meta \u001b[38;5;241m=\u001b[39m ApiResponseMeta(\n\u001b[0;32m    205\u001b[0m     node\u001b[38;5;241m=\u001b[39m\u001b[38;5;28mself\u001b[39m\u001b[38;5;241m.\u001b[39mconfig,\n\u001b[0;32m    206\u001b[0m     duration\u001b[38;5;241m=\u001b[39mduration,\n\u001b[1;32m   (...)\u001b[0m\n\u001b[0;32m    209\u001b[0m     headers\u001b[38;5;241m=\u001b[39mresponse_headers,\n\u001b[0;32m    210\u001b[0m )\n\u001b[0;32m    211\u001b[0m \u001b[38;5;28mself\u001b[39m\u001b[38;5;241m.\u001b[39m_log_request(\n\u001b[0;32m    212\u001b[0m     method\u001b[38;5;241m=\u001b[39mmethod,\n\u001b[0;32m    213\u001b[0m     target\u001b[38;5;241m=\u001b[39mtarget,\n\u001b[1;32m   (...)\u001b[0m\n\u001b[0;32m    217\u001b[0m     response\u001b[38;5;241m=\u001b[39mdata,\n\u001b[0;32m    218\u001b[0m )\n",
      "\u001b[1;31mConnectionError\u001b[0m: Connection error caused by: ConnectionError(Connection error caused by: NewConnectionError(<urllib3.connection.HTTPConnection object at 0x0000028075F39E20>: Failed to establish a new connection: [WinError 10061] No connection could be made because the target machine actively refused it))"
     ]
    }
   ],
   "source": [
    "#Step 3: Setup ElasticSearch connection\n",
    "from elasticsearch import Elasticsearch\n",
    "es_client = Elasticsearch('http://localhost:9200') \n",
    "\n",
    "es_client.info()"
   ]
  },
  {
   "cell_type": "code",
   "execution_count": null,
   "metadata": {},
   "outputs": [],
   "source": [
    "\"\"\"\n",
    "Step 4: Create Mappings and Index\n",
    "Mapping is the process of defining how a document, and the fields it contains, are stored and indexed.\n",
    "\n",
    "Each document is a collection of fields, which each have their own data type.\n",
    "\n",
    "We can compare mapping to a database schema in how it describes the fields and properties that documents hold, the datatype of each field (e.g., string, integer, or date), and how those fields should be indexed and stored\n",
    "\"\"\""
   ]
  },
  {
   "cell_type": "code",
   "execution_count": null,
   "metadata": {},
   "outputs": [],
   "source": [
    "index_settings = {\n",
    "    \"settings\": {\n",
    "        \"number_of_shards\": 1,\n",
    "        \"number_of_replicas\": 0\n",
    "    },\n",
    "    \"mappings\": {\n",
    "        \"properties\": {\n",
    "            \"id\": {\"type\": \"text\"},\n",
    "            \"text\": {\"type\": \"text\"},\n",
    "            \"section\": {\"type\": \"text\"},\n",
    "            \"question\": {\"type\": \"text\"},\n",
    "            \"dishi_name\": {\"type\": \"keyword\"} ,\n",
    "            \"text_vector\": {\"type\": \"dense_vector\", \"dims\": 768, \"index\": True, \"similarity\": \"cosine\"},\n",
    "        }\n",
    "    }\n",
    "}"
   ]
  },
  {
   "cell_type": "code",
   "execution_count": null,
   "metadata": {},
   "outputs": [],
   "source": [
    "index_name = \"dish-name\"\n",
    "\n",
    "es_client.indices.delete(index=index_name, ignore_unavailable=True)\n",
    "es_client.indices.create(index=index_name, body=index_settings)"
   ]
  },
  {
   "cell_type": "code",
   "execution_count": 17,
   "metadata": {},
   "outputs": [
    {
     "data": {
      "text/plain": [
       "{'id': '142_2',\n",
       " 'question': 'How many calories does it have?',\n",
       " 'section': 'calories',\n",
       " 'text': 'The almond fudge banana cake has 224.8 calories.',\n",
       " 'dishi_name': 'almond fudge banana cake',\n",
       " 'text_vector': [0.03449180722236633,\n",
       "  0.06103437766432762,\n",
       "  -0.03340601176023483,\n",
       "  0.04663167893886566,\n",
       "  0.002620068145915866,\n",
       "  0.01821102201938629,\n",
       "  0.02113189734518528,\n",
       "  -0.018273789435625076,\n",
       "  0.05332517996430397,\n",
       "  0.07002101093530655,\n",
       "  0.003915894776582718,\n",
       "  -0.13695941865444183,\n",
       "  -0.08629322052001953,\n",
       "  -0.13535600900650024,\n",
       "  0.042913611978292465,\n",
       "  -0.005807182751595974,\n",
       "  0.04823851212859154,\n",
       "  -0.06157195195555687,\n",
       "  -2.105251587636303e-05,\n",
       "  0.02553781494498253,\n",
       "  0.0631554126739502,\n",
       "  0.031545720994472504,\n",
       "  0.00606145802885294,\n",
       "  -0.05777645856142044,\n",
       "  -0.02174616977572441,\n",
       "  0.04484262689948082,\n",
       "  -0.035916104912757874,\n",
       "  -0.026758482679724693,\n",
       "  -0.05808210372924805,\n",
       "  -0.02171657606959343,\n",
       "  -0.020915331318974495,\n",
       "  0.018911145627498627,\n",
       "  0.05785742029547691,\n",
       "  0.07298256456851959,\n",
       "  -0.050149329006671906,\n",
       "  -0.019739732146263123,\n",
       "  -0.03593624383211136,\n",
       "  -0.06380191445350647,\n",
       "  -0.005001166369765997,\n",
       "  -0.07255308330059052,\n",
       "  -0.06202366203069687,\n",
       "  0.12922123074531555,\n",
       "  0.00668387720361352,\n",
       "  -0.07035072147846222,\n",
       "  -0.047247227281332016,\n",
       "  0.020942820236086845,\n",
       "  0.05186151713132858,\n",
       "  -0.05584491044282913,\n",
       "  0.0029288739897310734,\n",
       "  0.04563368111848831,\n",
       "  0.0028363715391606092,\n",
       "  0.08772430568933487,\n",
       "  0.0183864776045084,\n",
       "  0.021858379244804382,\n",
       "  0.0334673747420311,\n",
       "  -0.004159337840974331,\n",
       "  -0.026954349130392075,\n",
       "  0.001582424738444388,\n",
       "  -0.04337174817919731,\n",
       "  0.07464279979467392,\n",
       "  0.0021297468338161707,\n",
       "  0.025435371324419975,\n",
       "  0.03358926251530647,\n",
       "  -0.05746762454509735,\n",
       "  -0.0241470355540514,\n",
       "  -0.01696200855076313,\n",
       "  -0.11268945038318634,\n",
       "  -0.07191479206085205,\n",
       "  0.05270848423242569,\n",
       "  0.009339673444628716,\n",
       "  0.015743231400847435,\n",
       "  0.08464978635311127,\n",
       "  0.04721570014953613,\n",
       "  -0.05920644477009773,\n",
       "  -0.009669930674135685,\n",
       "  -0.004006005357950926,\n",
       "  0.022915689274668694,\n",
       "  0.021636314690113068,\n",
       "  -0.021166525781154633,\n",
       "  0.08955011516809464,\n",
       "  -0.021638499572873116,\n",
       "  -0.012963748537003994,\n",
       "  0.04942852258682251,\n",
       "  -0.06146768108010292,\n",
       "  0.05433037877082825,\n",
       "  -0.06780654937028885,\n",
       "  -0.008644613437354565,\n",
       "  0.03211638703942299,\n",
       "  0.008316718973219395,\n",
       "  0.04319760203361511,\n",
       "  0.014285693876445293,\n",
       "  0.010850521735846996,\n",
       "  0.08268037438392639,\n",
       "  0.0893920436501503,\n",
       "  -0.010084855370223522,\n",
       "  -0.05693505331873894,\n",
       "  -0.06204828992486,\n",
       "  -0.04283750057220459,\n",
       "  -0.022136447951197624,\n",
       "  0.02055288292467594,\n",
       "  -0.007354015950113535,\n",
       "  0.0752825066447258,\n",
       "  -0.02049761265516281,\n",
       "  -0.04145243018865585,\n",
       "  -0.0012637514155358076,\n",
       "  0.04458162933588028,\n",
       "  0.04733164981007576,\n",
       "  -0.0007580149103887379,\n",
       "  0.1059761792421341,\n",
       "  0.011473961174488068,\n",
       "  0.04770481586456299,\n",
       "  0.006407018285244703,\n",
       "  0.0642499104142189,\n",
       "  -0.00540116336196661,\n",
       "  -0.03125939145684242,\n",
       "  -0.07333356887102127,\n",
       "  -0.029529990628361702,\n",
       "  0.026559438556432724,\n",
       "  0.034381069242954254,\n",
       "  -0.0018393757054582238,\n",
       "  0.052263688296079636,\n",
       "  -0.024582305923104286,\n",
       "  0.07133014500141144,\n",
       "  -0.019910795614123344,\n",
       "  -0.043339803814888,\n",
       "  -0.01998322643339634,\n",
       "  -0.09817330539226532,\n",
       "  -4.6321654366422875e-34,\n",
       "  -0.013681290671229362,\n",
       "  0.07165339589118958,\n",
       "  0.10398206114768982,\n",
       "  -0.03583032637834549,\n",
       "  0.07803712040185928,\n",
       "  -0.026795702055096626,\n",
       "  -0.010146375745534897,\n",
       "  0.040366362780332565,\n",
       "  0.054147567600011826,\n",
       "  -0.0018268241547048092,\n",
       "  -0.02372136525809765,\n",
       "  0.02724502980709076,\n",
       "  -0.008218816481530666,\n",
       "  0.029342127963900566,\n",
       "  -0.07139534503221512,\n",
       "  -0.020205285400152206,\n",
       "  -0.07669059932231903,\n",
       "  -0.005526137072592974,\n",
       "  0.07003646343946457,\n",
       "  0.043038953095674515,\n",
       "  0.010375086218118668,\n",
       "  -0.019375044852495193,\n",
       "  0.02584824524819851,\n",
       "  -0.06279389560222626,\n",
       "  -0.07164504379034042,\n",
       "  0.05973159149289131,\n",
       "  -0.007799121551215649,\n",
       "  0.023562537506222725,\n",
       "  0.019281014800071716,\n",
       "  -0.006418377161026001,\n",
       "  -0.014491774141788483,\n",
       "  -0.021694501861929893,\n",
       "  0.0025390638038516045,\n",
       "  -0.07850871235132217,\n",
       "  -0.01595509797334671,\n",
       "  0.027201145887374878,\n",
       "  -0.0008121237042360008,\n",
       "  -0.02118518576025963,\n",
       "  -0.09837276488542557,\n",
       "  0.08979646116495132,\n",
       "  0.00458285678178072,\n",
       "  -0.012024489231407642,\n",
       "  0.02286829985678196,\n",
       "  0.03318015858530998,\n",
       "  -0.07780645042657852,\n",
       "  0.024744465947151184,\n",
       "  -0.039215993136167526,\n",
       "  0.08241592347621918,\n",
       "  0.0654502660036087,\n",
       "  0.04618968814611435,\n",
       "  -0.014553138054907322,\n",
       "  -0.06642434000968933,\n",
       "  0.06979619711637497,\n",
       "  0.04889542609453201,\n",
       "  0.010405642911791801,\n",
       "  -0.1005437821149826,\n",
       "  -0.05714118480682373,\n",
       "  0.037222880870103836,\n",
       "  -0.0022541070356965065,\n",
       "  -0.0010284199379384518,\n",
       "  0.029137663543224335,\n",
       "  -0.12348490953445435,\n",
       "  -0.0055091725662350655,\n",
       "  0.01770995743572712,\n",
       "  -0.1172751933336258,\n",
       "  0.03360336273908615,\n",
       "  -0.06960310786962509,\n",
       "  0.0020307814702391624,\n",
       "  0.0416792593896389,\n",
       "  0.026800338178873062,\n",
       "  -0.0001015084344544448,\n",
       "  0.038966093212366104,\n",
       "  0.07910153269767761,\n",
       "  -0.10072200000286102,\n",
       "  -0.007448984310030937,\n",
       "  0.04933139309287071,\n",
       "  -0.030680030584335327,\n",
       "  -0.035780683159828186,\n",
       "  -0.004947514273226261,\n",
       "  0.06019933894276619,\n",
       "  0.055940184742212296,\n",
       "  0.02247985079884529,\n",
       "  -0.047329191118478775,\n",
       "  -0.05104989558458328,\n",
       "  -0.07028590142726898,\n",
       "  0.00364015344530344,\n",
       "  -0.08870523422956467,\n",
       "  0.024047035723924637,\n",
       "  0.05546887218952179,\n",
       "  0.0557282492518425,\n",
       "  -0.022658713161945343,\n",
       "  -0.05273210629820824,\n",
       "  0.06105475872755051,\n",
       "  0.05648350715637207,\n",
       "  -0.05256236344575882,\n",
       "  7.78538632921736e-34,\n",
       "  -0.08088979125022888,\n",
       "  0.002656805096194148,\n",
       "  -0.03498856723308563,\n",
       "  0.030626479536294937,\n",
       "  0.06867878139019012,\n",
       "  -0.035798460245132446,\n",
       "  0.08453604578971863,\n",
       "  -0.007626202888786793,\n",
       "  -0.07113967835903168,\n",
       "  -0.060497161000967026,\n",
       "  -0.022969285026192665,\n",
       "  -0.024021007120609283,\n",
       "  0.05182512849569321,\n",
       "  -0.03730393946170807,\n",
       "  0.013686119578778744,\n",
       "  0.09928932040929794,\n",
       "  0.03631765767931938,\n",
       "  0.005394662730395794,\n",
       "  0.037425290793180466,\n",
       "  -0.05897965654730797,\n",
       "  -0.021312979981303215,\n",
       "  0.05688639357686043,\n",
       "  0.06621766090393066,\n",
       "  0.0325339250266552,\n",
       "  -0.04211646318435669,\n",
       "  0.04152961075305939,\n",
       "  0.05605398863554001,\n",
       "  -0.016683343797922134,\n",
       "  0.0006270888261497021,\n",
       "  -0.033442266285419464,\n",
       "  0.06114047020673752,\n",
       "  0.039000026881694794,\n",
       "  0.03496775031089783,\n",
       "  0.021266276016831398,\n",
       "  -0.024749737232923508,\n",
       "  -0.01372321043163538,\n",
       "  -0.05462436378002167,\n",
       "  -0.02768789418041706,\n",
       "  0.03391806408762932,\n",
       "  0.04771316051483154,\n",
       "  0.007160472217947245,\n",
       "  0.051795195788145065,\n",
       "  -0.01982300542294979,\n",
       "  0.02391211874783039,\n",
       "  0.013516973704099655,\n",
       "  -0.013102764263749123,\n",
       "  -0.001348337042145431,\n",
       "  -0.028261326253414154,\n",
       "  0.04108085483312607,\n",
       "  0.07353775203227997,\n",
       "  -0.01171999890357256,\n",
       "  -0.06418506801128387,\n",
       "  -0.11667079478502274,\n",
       "  -0.05564991012215614,\n",
       "  -0.02548106200993061,\n",
       "  0.06309540569782257,\n",
       "  -0.08638638257980347,\n",
       "  0.08188062161207199,\n",
       "  -0.03687967732548714,\n",
       "  0.03372392803430557,\n",
       "  -0.061070315539836884,\n",
       "  0.006463455967605114,\n",
       "  0.06467769294977188,\n",
       "  0.019160574302077293,\n",
       "  0.052186232060194016,\n",
       "  0.08989023417234421,\n",
       "  0.08750436455011368,\n",
       "  0.041175659745931625,\n",
       "  0.09740300476551056,\n",
       "  0.09113918244838715,\n",
       "  0.0002572883095126599,\n",
       "  0.03316111117601395,\n",
       "  0.07193472981452942,\n",
       "  0.028941180557012558,\n",
       "  0.08094472438097,\n",
       "  0.0890190452337265,\n",
       "  0.12779800593852997,\n",
       "  -0.03026779741048813,\n",
       "  -0.01550032664090395,\n",
       "  -0.006310336757451296,\n",
       "  -0.06074458733201027,\n",
       "  -0.042598456144332886,\n",
       "  0.015372424386441708,\n",
       "  -0.01123221404850483,\n",
       "  -0.0500953271985054,\n",
       "  0.015621066093444824,\n",
       "  -0.018665935844182968,\n",
       "  -0.09129524230957031,\n",
       "  -0.05835140496492386,\n",
       "  0.10605423897504807,\n",
       "  -0.14935386180877686,\n",
       "  0.014386403374373913,\n",
       "  0.03977993503212929,\n",
       "  -0.02582400292158127,\n",
       "  0.005147898569703102,\n",
       "  -1.7141276842380648e-08,\n",
       "  0.038257431238889694,\n",
       "  -0.06676076352596283,\n",
       "  -0.05512358993291855,\n",
       "  0.007244267500936985,\n",
       "  0.01938467100262642,\n",
       "  0.050721425563097,\n",
       "  -0.020786922425031662,\n",
       "  0.02934630587697029,\n",
       "  -0.06829472631216049,\n",
       "  -0.04342719167470932,\n",
       "  0.007037150673568249,\n",
       "  0.0162784606218338,\n",
       "  -0.03687993064522743,\n",
       "  0.04460423067212105,\n",
       "  -0.07307513058185577,\n",
       "  -0.05995377525687218,\n",
       "  0.022464290261268616,\n",
       "  0.06907927989959717,\n",
       "  -0.0018085496267303824,\n",
       "  -0.018679842352867126,\n",
       "  -0.04281987249851227,\n",
       "  0.04354797676205635,\n",
       "  -0.06384959071874619,\n",
       "  -0.00855467189103365,\n",
       "  -0.022647688165307045,\n",
       "  -0.01435043290257454,\n",
       "  -0.09242567420005798,\n",
       "  -0.004954400472342968,\n",
       "  -0.01798391155898571,\n",
       "  0.049891140311956406,\n",
       "  -0.028694234788417816,\n",
       "  -0.0021019750274717808,\n",
       "  -0.04132911562919617,\n",
       "  0.010536525398492813,\n",
       "  -0.04496726021170616,\n",
       "  -0.01853577047586441,\n",
       "  -0.059587135910987854,\n",
       "  0.004013750236481428,\n",
       "  -0.09345590323209763,\n",
       "  -0.023504730314016342,\n",
       "  0.09907951951026917,\n",
       "  -0.045338161289691925,\n",
       "  0.017067233100533485,\n",
       "  -0.004353672731667757,\n",
       "  -0.05535731837153435,\n",
       "  -0.05361832678318024,\n",
       "  -0.05430002510547638,\n",
       "  0.054671335965394974,\n",
       "  -0.02746911160647869,\n",
       "  0.1089334487915039,\n",
       "  0.10069087892770767,\n",
       "  0.07061704248189926,\n",
       "  -0.0997871607542038,\n",
       "  0.060472406446933746,\n",
       "  -0.04893897846341133,\n",
       "  -0.06096220389008522,\n",
       "  0.020861651748418808,\n",
       "  0.04184383898973465,\n",
       "  -0.010094670578837395,\n",
       "  0.041698381304740906,\n",
       "  0.0024031882639974356,\n",
       "  -0.01324260514229536,\n",
       "  0.01581961289048195,\n",
       "  -0.0767914280295372]}"
      ]
     },
     "execution_count": 17,
     "metadata": {},
     "output_type": "execute_result"
    }
   ],
   "source": [
    "operations[1]"
   ]
  },
  {
   "cell_type": "code",
   "execution_count": null,
   "metadata": {},
   "outputs": [],
   "source": [
    "#Step 5: Add documents into index\n",
    "for doc in operations:\n",
    "    try:\n",
    "        es_client.index(index=index_name, document=doc)\n",
    "    except Exception as e:\n",
    "        print(e)"
   ]
  },
  {
   "cell_type": "code",
   "execution_count": null,
   "metadata": {},
   "outputs": [],
   "source": [
    "#Step 6: Create end user query\n",
    "\n",
    "search_term = \"windows or mac?\"\n",
    "vector_search_term = model.encode(search_term)"
   ]
  },
  {
   "cell_type": "code",
   "execution_count": null,
   "metadata": {},
   "outputs": [],
   "source": [
    "query = {\n",
    "    \"field\": \"text_vector\",\n",
    "    \"query_vector\": vector_search_term,\n",
    "    \"k\": 5,\n",
    "    \"num_candidates\": 10000, \n",
    "}"
   ]
  },
  {
   "cell_type": "code",
   "execution_count": null,
   "metadata": {},
   "outputs": [],
   "source": [
    "res = es_client.search(index=index_name, knn=query, source=[\"text\", \"section\", \"question\", \"course\"])\n",
    "res[\"hits\"][\"hits\"]"
   ]
  },
  {
   "cell_type": "code",
   "execution_count": null,
   "metadata": {},
   "outputs": [],
   "source": [
    "# Step 7: Perform Keyword search with Semantic Search (Hybrid/Advanced Search)\n",
    "\n",
    "\n"
   ]
  },
  {
   "cell_type": "code",
   "execution_count": null,
   "metadata": {},
   "outputs": [],
   "source": []
  },
  {
   "cell_type": "code",
   "execution_count": null,
   "metadata": {},
   "outputs": [],
   "source": []
  },
  {
   "cell_type": "code",
   "execution_count": 43,
   "metadata": {},
   "outputs": [
    {
     "data": {
      "text/plain": [
       "ObjectApiResponse({'name': '81d6d96573fa', 'cluster_name': 'docker-cluster', 'cluster_uuid': 'Knoc8xY-Teq-lYkTwu4Eww', 'version': {'number': '8.4.3', 'build_flavor': 'default', 'build_type': 'docker', 'build_hash': '42f05b9372a9a4a470db3b52817899b99a76ee73', 'build_date': '2022-10-04T07:17:24.662462378Z', 'build_snapshot': False, 'lucene_version': '9.3.0', 'minimum_wire_compatibility_version': '7.17.0', 'minimum_index_compatibility_version': '7.0.0'}, 'tagline': 'You Know, for Search'})"
      ]
     },
     "execution_count": 43,
     "metadata": {},
     "output_type": "execute_result"
    }
   ],
   "source": [
    "# openai api\n",
    "from openai import OpenAI\n",
    "client = OpenAI()\n",
    "openai_api_key = os.getenv(\"OPENAI_API_KEY\")\n",
    "\n",
    "\n",
    "def generate_response_from_llm(search_results):\n",
    "    prompt = \"You are a helpful assistant. Answer the following question based on the information provided:\\n\\n\"\n",
    "\n",
    "    for result in search_results:\n",
    "        prompt += f\"Food item: {result['Food items']}\\n\"\n",
    "        prompt += f\"Ingredients: {result['ingredients']}\\n\"\n",
    "        prompt += f\"Price: {result['price']}\\n\"\n",
    "        prompt += f\"Calories: {result['calories perce']}%\\n\\n\"\n",
    "\n",
    "    prompt += \"What can you tell me about the ingredients of these dishes?\"\n",
    "\n",
    "    response = client.chat.completions.create(\n",
    "        model=\"gpt-3.5-turbo\",\n",
    "        messages=[{\"role\": \"user\", \"content\": prompt}]\n",
    "    )\n",
    "\n",
    "    return response.choices[0].text.strip()\n",
    "\n",
    "# Example usage\n",
    "query = \"What are the ingredients in banana pudding cake?\"\n",
    "search_results = elastic_search(query)\n",
    "llm_response = generate_response_from_llm(search_results)\n",
    "\n",
    "print(llm_response)"
   ]
  },
  {
   "cell_type": "code",
   "execution_count": 44,
   "metadata": {},
   "outputs": [
    {
     "name": "stdout",
     "output_type": "stream",
     "text": [
      "Index 'menu-items' already exists.\n"
     ]
    }
   ],
   "source": [
    "\n",
    "index_name = \"menu-items\"\n",
    "\n",
    "# Check if index exists\n",
    "if not es.indices.exists(index=index_name):\n",
    "    # Create the index with the correct mapping\n",
    "    response = es.indices.create(\n",
    "        index=index_name,\n",
    "        body={\n",
    "            \"settings\": {\n",
    "                \"number_of_shards\": 1,\n",
    "                \"number_of_replicas\": 0\n",
    "            },\n",
    "            \"mappings\": {\n",
    "                \"properties\": {\n",
    "                    \"category\": {\"type\": \"text\"},\n",
    "                    \"dishes\": {\n",
    "                        \"type\": \"nested\",\n",
    "                        \"properties\": {\n",
    "                            \"dish name\": {\"type\": \"text\"},\n",
    "                            \"documents\": {\n",
    "                                \"type\": \"nested\",\n",
    "                                \"properties\": {\n",
    "                                    \"id\": {\"type\": \"keyword\"},\n",
    "                                    \"question\": {\"type\": \"text\"},\n",
    "                                    \"section\": {\"type\": \"text\"},\n",
    "                                    \"text\": {\"type\": \"text\"}\n",
    "                                }\n",
    "                            }\n",
    "                        }\n",
    "                    }\n",
    "                }\n",
    "            }\n",
    "        }\n",
    "    )\n",
    "    print(\"Index creation response:\", response)\n",
    "else:\n",
    "    print(f\"Index '{index_name}' already exists.\")\n"
   ]
  },
  {
   "cell_type": "code",
   "execution_count": 88,
   "metadata": {},
   "outputs": [
    {
     "name": "stdout",
     "output_type": "stream",
     "text": [
      "Index 'menu-items' already exists.\n"
     ]
    }
   ],
   "source": [
    "\n",
    "index_name = \"menu-items\"\n",
    "\n",
    "# Check if index exists\n",
    "if not es.indices.exists(index=index_name):\n",
    "    # Create the index with the correct mapping\n",
    "    response = es.indices.create(\n",
    "        index=index_name,\n",
    "        body={\n",
    "            \"settings\": {\n",
    "                \"number_of_shards\": 1,\n",
    "                \"number_of_replicas\": 0\n",
    "            },\n",
    "            \"mappings\": {\n",
    "        \"properties\": {\n",
    "            \"text\": {\"type\": \"text\"},\n",
    "            \"section\": {\"type\": \"text\"},\n",
    "            \"question\": {\"type\": \"text\"},\n",
    "            \"dish_name\": {\"type\": \"keyword\"},\n",
    "            \"id\": {\"type\": \"keyword\"}\n",
    "        }\n",
    "    }\n",
    "        }\n",
    "    )\n",
    "    print(\"Index creation response:\", response)\n",
    "else:\n",
    "    print(f\"Index '{index_name}' already exists.\")\n"
   ]
  },
  {
   "cell_type": "code",
   "execution_count": 91,
   "metadata": {},
   "outputs": [
    {
     "name": "stderr",
     "output_type": "stream",
     "text": [
      "100%|██████████████████████████████████████████████████████████| 3584/3584 [03:17<00:00, 18.18it/s]\n"
     ]
    }
   ],
   "source": [
    "from tqdm.auto import tqdm\n",
    "from elasticsearch.exceptions import NotFoundError, RequestError\n",
    "\n",
    "for doc in tqdm(documents):\n",
    "    try:\n",
    "        es.index(index=index_name, document=doc)\n",
    "    except (NotFoundError, RequestError) as e:\n",
    "        print(f\"Error indexing document: {doc}\")\n",
    "        print(e)\n"
   ]
  },
  {
   "cell_type": "code",
   "execution_count": 92,
   "metadata": {},
   "outputs": [
    {
     "name": "stdout",
     "output_type": "stream",
     "text": [
      "{'took': 1275, 'timed_out': False, '_shards': {'total': 1, 'successful': 1, 'skipped': 0, 'failed': 0}, 'hits': {'total': {'value': 0, 'relation': 'eq'}, 'max_score': None, 'hits': []}}\n"
     ]
    }
   ],
   "source": [
    "from elasticsearch import Elasticsearch\n",
    "\n",
    "es = Elasticsearch(\"http://localhost:9200\")\n",
    "index_name = \"menu-items\"\n",
    "\n",
    "# Example search query\n",
    "query = {\n",
    "    \"query\": {\n",
    "        \"match\": {\n",
    "            \"documents.text\": \"banana\"\n",
    "        }\n",
    "    }\n",
    "}\n",
    "\n",
    "response = es.search(index=index_name, body=query)\n",
    "print(response)\n"
   ]
  },
  {
   "cell_type": "code",
   "execution_count": 93,
   "metadata": {},
   "outputs": [
    {
     "name": "stdout",
     "output_type": "stream",
     "text": [
      "{'took': 33, 'timed_out': False, '_shards': {'total': 1, 'successful': 1, 'skipped': 0, 'failed': 0}, 'hits': {'total': {'value': 10000, 'relation': 'gte'}, 'max_score': 1.0, 'hits': [{'_index': 'menu-items', '_id': 'q1NncJEBM82uNR2Or_9y', '_score': 1.0, '_source': {'id': '3091.0_1', 'question': 'What are the ingredients?', 'section': 'ingredients', 'text': \"The kitty litter cake contains the following ingredients: ['spice cake mix', 'eggs', 'oil', 'water', 'white cake mix', 'vanilla instant pudding mix', 'cookies', 'green food coloring', 'tootsie rolls', 'new kitty litter box', 'pooper scooper']\", 'dish_name': 'kitty litter cake'}}, {'_index': 'menu-items', '_id': 'rFNncJEBM82uNR2Or_-u', '_score': 1.0, '_source': {'id': '3091.0_2', 'question': 'How many calories does it have?', 'section': 'calories', 'text': 'The kitty litter cake has 354.2 calories.', 'dish_name': 'kitty litter cake'}}, {'_index': 'menu-items', '_id': 'rVNncJEBM82uNR2Or__h', '_score': 1.0, '_source': {'id': '3091.0_3', 'question': 'How much total fat does it contain?', 'section': 'nutritional', 'text': 'The kitty litter cake has 23.0 grams of total fat (PDV).', 'dish_name': 'kitty litter cake'}}, {'_index': 'menu-items', '_id': 'rlNncJEBM82uNR2OsP8d', '_score': 1.0, '_source': {'id': '3091.0_4', 'question': 'What is the sugar content?', 'section': 'nutritional', 'text': 'The kitty litter cake has 144.0 grams of sugar (PDV).', 'dish_name': 'kitty litter cake'}}, {'_index': 'menu-items', '_id': 'r1NncJEBM82uNR2OsP9Y', '_score': 1.0, '_source': {'id': '3091.0_5', 'question': 'How much sodium is in this dish?', 'section': 'nutritional', 'text': 'The kitty litter cake has 20.0 grams of sodium (PDV).', 'dish_name': 'kitty litter cake'}}, {'_index': 'menu-items', '_id': 'sFNncJEBM82uNR2OsP-K', '_score': 1.0, '_source': {'id': '3091.0_6', 'question': 'What is the protein content?', 'section': 'nutritional', 'text': 'The kitty litter cake has 8.0 grams of protein (PDV).', 'dish_name': 'kitty litter cake'}}, {'_index': 'menu-items', '_id': 'sVNncJEBM82uNR2OsP_G', '_score': 1.0, '_source': {'id': '3091.0_7', 'question': 'How much saturated fat is present?', 'section': 'nutritional', 'text': 'The kitty litter cake has 13.0 grams of saturated fat (PDV).', 'dish_name': 'kitty litter cake'}}, {'_index': 'menu-items', '_id': 'slNncJEBM82uNR2OsP_4', '_score': 1.0, '_source': {'id': '3091.0_8', 'question': 'What are the carbohydrate levels?', 'section': 'nutritional', 'text': 'The kitty litter cake has 16.0 grams of carbohydrates (PDV).', 'dish_name': 'kitty litter cake'}}, {'_index': 'menu-items', '_id': 's1NncJEBM82uNR2Osf80', '_score': 1.0, '_source': {'id': '3091.0_9', 'question': 'How long does it take to prepare?', 'section': 'preparation', 'text': 'The kitty litter cake takes 60.0 minutes to prepare.', 'dish_name': 'kitty litter cake'}}, {'_index': 'menu-items', '_id': 'tFNncJEBM82uNR2Osf9w', '_score': 1.0, '_source': {'id': '3091.0_10', 'question': 'What are the steps to prepare this dish?', 'section': 'steps', 'text': 'The kitty litter cake contains [\\'prepare cake mixes and bake according to box directions\\', \\'prepare pudding , chill until ready to assemble\\', \\'crumble sandwich cookies in small batches in food processor , scraping often\\', \\'set aside all but 1 / 4 cup\\', \\'to the 1 / 4 cup of crumbs , add a few drops of green food coloring and mix using fork or shake in a jar\\', \\'when cakes are cooled to room temp , crumble into a large bowl\\', \\'toss with half the remaining cookie crumbs and chilled pudding\\', \\'you probably won\\\\\\'t need all the pudding , mix the cake and \"feel\" it , you don\\\\\\'t want it soggy , just moist\\', \\'ge ntly combine\\', \\'line litter box\\', \\'put mixture into box\\', \\'put 3 unwrapped tootsie rolls in microwave safe dish and heat until softened\\', \\'shape ends so they are no longer blunt , curving slightly\\', \\'repeat with 3 more tootsie rolls and bury in cake mixture\\', \\'sprinkle the other half of cookie crumbs over top\\', \\'scatter green crumbles lightly over top\\', \\'heat 3 tootsie rolls in microwave until almost melted\\', \\'scrape them on top of the cake and sprinkle with cookie crumbs\\', \\'spread remaining tootsie rolls over top\\', \\'take one and heat until pliable , hang over side of litter box , sprinkle with cookie crumbs\\']', 'dish_name': 'kitty litter cake'}}]}}\n"
     ]
    }
   ],
   "source": [
    "response = es.search(index=index_name, body={\"query\": {\"match_all\": {}}})\n",
    "print(response)"
   ]
  },
  {
   "cell_type": "code",
   "execution_count": 46,
   "metadata": {},
   "outputs": [
    {
     "name": "stdout",
     "output_type": "stream",
     "text": [
      "{'menu-items': {'mappings': {'properties': {'dish_name': {'type': 'keyword'}, 'id': {'type': 'keyword'}, 'question': {'type': 'text'}, 'section': {'type': 'text'}, 'text': {'type': 'text'}}}}}\n",
      "{'menu-items': {'settings': {'index': {'routing': {'allocation': {'include': {'_tier_preference': 'data_content'}}}, 'number_of_shards': '1', 'provided_name': 'menu-items', 'creation_date': '1724167714048', 'number_of_replicas': '0', 'uuid': 'LYmVzOZIRcqRaTQhnwAfZQ', 'version': {'created': '8040399'}}}}}\n"
     ]
    }
   ],
   "source": [
    "# Check index mapping\n",
    "mapping = es.indices.get_mapping(index=index_name)\n",
    "print(mapping)\n",
    "\n",
    "# Check index settings\n",
    "settings = es.indices.get_settings(index=index_name)\n",
    "print(settings)"
   ]
  },
  {
   "cell_type": "code",
   "execution_count": 94,
   "metadata": {},
   "outputs": [],
   "source": [
    "query = \"almond fudge banana cake\""
   ]
  },
  {
   "cell_type": "code",
   "execution_count": 98,
   "metadata": {},
   "outputs": [
    {
     "data": {
      "text/plain": [
       "{'id': '142_1',\n",
       " 'question': 'What are the ingredients?',\n",
       " 'section': 'ingredients',\n",
       " 'text': \"The almond fudge banana cake contains the following ingredients: ['dole banana', 'sugar', 'margarine', 'eggs', 'amaretto liqueur', 'vanilla extract', 'all-purpose flour', 'unsweetened cocoa powder', 'baking soda', 'salt', 'dole almond']\",\n",
       " 'dish_name': 'almond fudge banana cake'}"
      ]
     },
     "execution_count": 98,
     "metadata": {},
     "output_type": "execute_result"
    }
   ],
   "source": [
    "documents[0]"
   ]
  },
  {
   "cell_type": "code",
   "execution_count": 116,
   "metadata": {},
   "outputs": [],
   "source": [
    "def elastic_search(query, dish_name=None):\n",
    "    search_query = {\n",
    "        \"size\": 5,\n",
    "        \"query\": {\n",
    "            \"bool\": {\n",
    "                \"must\": [\n",
    "                    {\n",
    "                        \"multi_match\": {\n",
    "                            \"query\": query,\n",
    "                            \"fields\": [\"dish_name^6\", \"question^3\", \"text\", \"section\"],\n",
    "                            \"type\": \"best_fields\"\n",
    "                        }\n",
    "                    }\n",
    "                ]\n",
    "            }\n",
    "        }\n",
    "    }\n",
    "\n",
    "    # Add a filter by dish_name if it's provided\n",
    "    if dish_name:\n",
    "        search_query[\"query\"][\"bool\"][\"filter\"] = {\n",
    "            \"term\": {\n",
    "                \"dish_name.keyword\": dish_name\n",
    "            }\n",
    "        }\n",
    "\n",
    "    # Perform the search\n",
    "    response = es.search(index=index_name, body=search_query)\n",
    "\n",
    "    result_docs = []\n",
    "\n",
    "    for hit in response['hits']['hits']:\n",
    "        doc = hit['_source']\n",
    "        result_docs.append(doc)  # Collect all documents\n",
    "        \n",
    "\n",
    "    return result_docs\n"
   ]
  },
  {
   "cell_type": "code",
   "execution_count": 135,
   "metadata": {},
   "outputs": [
    {
     "data": {
      "text/plain": [
       "[{'id': '3091.0_1',\n",
       "  'question': 'What are the ingredients?',\n",
       "  'section': 'ingredients',\n",
       "  'text': \"The kitty litter cake contains the following ingredients: ['spice cake mix', 'eggs', 'oil', 'water', 'white cake mix', 'vanilla instant pudding mix', 'cookies', 'green food coloring', 'tootsie rolls', 'new kitty litter box', 'pooper scooper']\",\n",
       "  'dish_name': 'kitty litter cake'},\n",
       " {'id': '3333.0_1',\n",
       "  'question': 'What are the ingredients?',\n",
       "  'section': 'ingredients',\n",
       "  'text': \"The dirt cake ii contains the following ingredients: ['oreo cookies', 'butter', 'cream cheese', 'instant vanilla pudding', 'milk', 'cool whip', 'flower pot', 'artificial flower']\",\n",
       "  'dish_name': 'dirt cake ii'},\n",
       " {'id': '822.0_1',\n",
       "  'question': 'What are the ingredients?',\n",
       "  'section': 'ingredients',\n",
       "  'text': \"The heloise s cake mix cookies contains the following ingredients: ['cake mix', 'vegetable oil', 'eggs']\",\n",
       "  'dish_name': 'heloise s cake mix cookies'},\n",
       " {'id': '520.0_1',\n",
       "  'question': 'What are the ingredients?',\n",
       "  'section': 'ingredients',\n",
       "  'text': \"The apple pie cake contains the following ingredients: ['sugar', 'egg', 'salt', 'butter', 'flour', 'baking powder', 'cinnamon', 'nutmeg', 'vanilla', 'baking apples', 'pecans', 'golden raisin']\",\n",
       "  'dish_name': 'apple pie cake'},\n",
       " {'id': '916.0_1',\n",
       "  'question': 'What are the ingredients?',\n",
       "  'section': 'ingredients',\n",
       "  'text': \"The momma s fair funnel cake contains the following ingredients: ['eggs', 'sugar', 'milk', 'flour', 'salt', 'baking powder', 'vegetable oil']\",\n",
       "  'dish_name': 'momma s fair funnel cake'}]"
      ]
     },
     "execution_count": 135,
     "metadata": {},
     "output_type": "execute_result"
    }
   ],
   "source": [
    "elastic_search(query)"
   ]
  },
  {
   "cell_type": "code",
   "execution_count": 132,
   "metadata": {},
   "outputs": [],
   "source": [
    "def build_prompt(query, search_results):\n",
    "    prompt_template = \"\"\"\n",
    "You're an AI assistant helping with menu queries. Answer the QUESTION based on the CONTEXT provided.\n",
    "\n",
    "QUESTION: {question}\n",
    "\n",
    "CONTEXT: \n",
    "{context}\n",
    "\"\"\".strip()\n",
    "\n",
    "    context = \"\"\n",
    "    \n",
    "    for doc in search_results:\n",
    "        context += f\"Section: {doc['section']}\\nQuestion: {doc['question']}\\nAnswer: {doc['text']}\\n\\n\"\n",
    "    \n",
    "    prompt = prompt_template.format(question=query, context=context).strip()\n",
    "    return prompt\n"
   ]
  },
  {
   "cell_type": "code",
   "execution_count": 133,
   "metadata": {},
   "outputs": [
    {
     "data": {
      "text/plain": [
       "'what are ingredients in banana pudding cake contain'"
      ]
     },
     "execution_count": 133,
     "metadata": {},
     "output_type": "execute_result"
    }
   ],
   "source": [
    "query"
   ]
  },
  {
   "cell_type": "code",
   "execution_count": 134,
   "metadata": {},
   "outputs": [
    {
     "data": {
      "text/plain": [
       "[{'id': '3091.0_1',\n",
       "  'question': 'What are the ingredients?',\n",
       "  'section': 'ingredients',\n",
       "  'text': \"The kitty litter cake contains the following ingredients: ['spice cake mix', 'eggs', 'oil', 'water', 'white cake mix', 'vanilla instant pudding mix', 'cookies', 'green food coloring', 'tootsie rolls', 'new kitty litter box', 'pooper scooper']\",\n",
       "  'dish_name': 'kitty litter cake'},\n",
       " {'id': '3333.0_1',\n",
       "  'question': 'What are the ingredients?',\n",
       "  'section': 'ingredients',\n",
       "  'text': \"The dirt cake ii contains the following ingredients: ['oreo cookies', 'butter', 'cream cheese', 'instant vanilla pudding', 'milk', 'cool whip', 'flower pot', 'artificial flower']\",\n",
       "  'dish_name': 'dirt cake ii'},\n",
       " {'id': '822.0_1',\n",
       "  'question': 'What are the ingredients?',\n",
       "  'section': 'ingredients',\n",
       "  'text': \"The heloise s cake mix cookies contains the following ingredients: ['cake mix', 'vegetable oil', 'eggs']\",\n",
       "  'dish_name': 'heloise s cake mix cookies'},\n",
       " {'id': '520.0_1',\n",
       "  'question': 'What are the ingredients?',\n",
       "  'section': 'ingredients',\n",
       "  'text': \"The apple pie cake contains the following ingredients: ['sugar', 'egg', 'salt', 'butter', 'flour', 'baking powder', 'cinnamon', 'nutmeg', 'vanilla', 'baking apples', 'pecans', 'golden raisin']\",\n",
       "  'dish_name': 'apple pie cake'},\n",
       " {'id': '916.0_1',\n",
       "  'question': 'What are the ingredients?',\n",
       "  'section': 'ingredients',\n",
       "  'text': \"The momma s fair funnel cake contains the following ingredients: ['eggs', 'sugar', 'milk', 'flour', 'salt', 'baking powder', 'vegetable oil']\",\n",
       "  'dish_name': 'momma s fair funnel cake'}]"
      ]
     },
     "execution_count": 134,
     "metadata": {},
     "output_type": "execute_result"
    }
   ],
   "source": [
    "search_results= elastic_search(query)\n",
    "search_results"
   ]
  },
  {
   "cell_type": "code",
   "execution_count": 119,
   "metadata": {},
   "outputs": [],
   "source": [
    "# if using OPENAI \n",
    "from openai import OpenAI\n",
    "client = OpenAI()\n",
    "\n",
    "def llm(prompt):\n",
    "    response = client.chat.completions.create(\n",
    "        model=\"gpt-3.5-turbo\",\n",
    "        messages=[{\"role\": \"user\", \"content\": prompt}]\n",
    "    )\n",
    "    \n",
    "    return response.choices[0].message.content"
   ]
  },
  {
   "cell_type": "code",
   "execution_count": 120,
   "metadata": {},
   "outputs": [
    {
     "data": {
      "text/plain": [
       "'\\nfrom groq import Groq   \\n\\n#create client calling Groq class\\n\\nclient = Groq(api_key=os.getenv(\\'GROQ_API_KEY\\'))\\n\\nfrom openai import OpenAI\\nclient = OpenAI()\\n\\ndef llm(prompt):\\n    response = client.chat.completions.create(\\n        model=\"llama3-8b-8192\",\\n        messages=[{\"role\": \"user\", \"content\": prompt}]\\n    )\\n    \\n    return response.choices[0].message.content\\n\\n'"
      ]
     },
     "execution_count": 120,
     "metadata": {},
     "output_type": "execute_result"
    }
   ],
   "source": [
    "# iF USING groq\n",
    "\"\"\"\n",
    "from groq import Groq   \n",
    "\n",
    "#create client calling Groq class\n",
    "\n",
    "client = Groq(api_key=os.getenv('GROQ_API_KEY'))\n",
    "\n",
    "from openai import OpenAI\n",
    "client = OpenAI()\n",
    "\n",
    "def llm(prompt):\n",
    "    response = client.chat.completions.create(\n",
    "        model=\"llama3-8b-8192\",\n",
    "        messages=[{\"role\": \"user\", \"content\": prompt}]\n",
    "    )\n",
    "    \n",
    "    return response.choices[0].message.content\n",
    "\n",
    "\"\"\""
   ]
  },
  {
   "cell_type": "code",
   "execution_count": 150,
   "metadata": {},
   "outputs": [],
   "source": [
    "query = 'dish name please'\n",
    "\n",
    "def rag(query):\n",
    "    search_results = elastic_search(query)\n",
    "    prompt=build_prompt(query,search_results)\n",
    "    answer = llm(prompt)\n",
    "    return answer"
   ]
  },
  {
   "cell_type": "code",
   "execution_count": 151,
   "metadata": {},
   "outputs": [
    {
     "data": {
      "text/plain": [
       "\"I'm sorry, the dish name you are asking for is baby food pineapple coconut carrot cake.\""
      ]
     },
     "execution_count": 151,
     "metadata": {},
     "output_type": "execute_result"
    }
   ],
   "source": [
    "rag(query)\n"
   ]
  },
  {
   "cell_type": "code",
   "execution_count": null,
   "metadata": {},
   "outputs": [],
   "source": []
  }
 ],
 "metadata": {
  "kernelspec": {
   "display_name": "Python 3 (ipykernel)",
   "language": "python",
   "name": "python3"
  },
  "language_info": {
   "codemirror_mode": {
    "name": "ipython",
    "version": 3
   },
   "file_extension": ".py",
   "mimetype": "text/x-python",
   "name": "python",
   "nbconvert_exporter": "python",
   "pygments_lexer": "ipython3",
   "version": "3.12.4"
  }
 },
 "nbformat": 4,
 "nbformat_minor": 4
}
